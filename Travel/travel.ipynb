{
 "cells": [
  {
   "cell_type": "code",
   "execution_count": 1,
   "metadata": {},
   "outputs": [],
   "source": [
    "import pandas as pd\n",
    "import matplotlib.pyplot as plt\n",
    "import seaborn as sns\n",
    "\n",
    "trav = pd.read_excel(r\"C:\\Users\\ASYIKIN\\OneDrive\\Desktop\\PYTHON FOR DATA ANALYSIS\\PROJECTS\\Travel\\Travel_map.xlsx\")\n",
    "\n",
    "# trav"
   ]
  },
  {
   "cell_type": "code",
   "execution_count": 2,
   "metadata": {},
   "outputs": [
    {
     "data": {
      "text/plain": [
       "Index(['Region', 'Region_General', 'Countries', 'Capital_city', 'Latitude',\n",
       "       'Longitude', 'Diversity', 'Safety', 'Hospitality', 'History', 'Nature',\n",
       "       'Return'],\n",
       "      dtype='object')"
      ]
     },
     "execution_count": 2,
     "metadata": {},
     "output_type": "execute_result"
    }
   ],
   "source": [
    "trav.columns"
   ]
  },
  {
   "cell_type": "code",
   "execution_count": 3,
   "metadata": {},
   "outputs": [
    {
     "data": {
      "text/html": [
       "<div>\n",
       "<style scoped>\n",
       "    .dataframe tbody tr th:only-of-type {\n",
       "        vertical-align: middle;\n",
       "    }\n",
       "\n",
       "    .dataframe tbody tr th {\n",
       "        vertical-align: top;\n",
       "    }\n",
       "\n",
       "    .dataframe thead th {\n",
       "        text-align: right;\n",
       "    }\n",
       "</style>\n",
       "<table border=\"1\" class=\"dataframe\">\n",
       "  <thead>\n",
       "    <tr style=\"text-align: right;\">\n",
       "      <th></th>\n",
       "      <th>Countries</th>\n",
       "      <th>Latitude</th>\n",
       "      <th>Longitude</th>\n",
       "    </tr>\n",
       "  </thead>\n",
       "  <tbody>\n",
       "    <tr>\n",
       "      <th>0</th>\n",
       "      <td>Azerbaijan</td>\n",
       "      <td>40.4093</td>\n",
       "      <td>49.8671</td>\n",
       "    </tr>\n",
       "    <tr>\n",
       "      <th>1</th>\n",
       "      <td>Hungary</td>\n",
       "      <td>47.4979</td>\n",
       "      <td>19.0402</td>\n",
       "    </tr>\n",
       "    <tr>\n",
       "      <th>2</th>\n",
       "      <td>Czechia</td>\n",
       "      <td>50.0755</td>\n",
       "      <td>14.4378</td>\n",
       "    </tr>\n",
       "    <tr>\n",
       "      <th>3</th>\n",
       "      <td>Switzerland</td>\n",
       "      <td>46.9479</td>\n",
       "      <td>7.4474</td>\n",
       "    </tr>\n",
       "    <tr>\n",
       "      <th>4</th>\n",
       "      <td>Iran</td>\n",
       "      <td>35.6892</td>\n",
       "      <td>51.3890</td>\n",
       "    </tr>\n",
       "    <tr>\n",
       "      <th>5</th>\n",
       "      <td>UAE</td>\n",
       "      <td>24.4539</td>\n",
       "      <td>54.3773</td>\n",
       "    </tr>\n",
       "    <tr>\n",
       "      <th>6</th>\n",
       "      <td>Turkey</td>\n",
       "      <td>41.0082</td>\n",
       "      <td>28.9784</td>\n",
       "    </tr>\n",
       "    <tr>\n",
       "      <th>7</th>\n",
       "      <td>Australia</td>\n",
       "      <td>-37.8136</td>\n",
       "      <td>144.9631</td>\n",
       "    </tr>\n",
       "    <tr>\n",
       "      <th>8</th>\n",
       "      <td>India</td>\n",
       "      <td>8.5241</td>\n",
       "      <td>76.9366</td>\n",
       "    </tr>\n",
       "    <tr>\n",
       "      <th>9</th>\n",
       "      <td>Singapore</td>\n",
       "      <td>1.3521</td>\n",
       "      <td>103.8198</td>\n",
       "    </tr>\n",
       "    <tr>\n",
       "      <th>10</th>\n",
       "      <td>Indonesia</td>\n",
       "      <td>-8.3405</td>\n",
       "      <td>115.0920</td>\n",
       "    </tr>\n",
       "    <tr>\n",
       "      <th>11</th>\n",
       "      <td>Thailand</td>\n",
       "      <td>13.7563</td>\n",
       "      <td>100.5018</td>\n",
       "    </tr>\n",
       "    <tr>\n",
       "      <th>12</th>\n",
       "      <td>Bulgaria</td>\n",
       "      <td>42.6977</td>\n",
       "      <td>23.3219</td>\n",
       "    </tr>\n",
       "    <tr>\n",
       "      <th>13</th>\n",
       "      <td>Romania</td>\n",
       "      <td>44.4268</td>\n",
       "      <td>26.1025</td>\n",
       "    </tr>\n",
       "    <tr>\n",
       "      <th>14</th>\n",
       "      <td>Germany</td>\n",
       "      <td>52.5200</td>\n",
       "      <td>13.4050</td>\n",
       "    </tr>\n",
       "    <tr>\n",
       "      <th>15</th>\n",
       "      <td>France</td>\n",
       "      <td>48.8566</td>\n",
       "      <td>2.3522</td>\n",
       "    </tr>\n",
       "  </tbody>\n",
       "</table>\n",
       "</div>"
      ],
      "text/plain": [
       "      Countries  Latitude  Longitude\n",
       "0    Azerbaijan   40.4093    49.8671\n",
       "1       Hungary   47.4979    19.0402\n",
       "2       Czechia   50.0755    14.4378\n",
       "3   Switzerland   46.9479     7.4474\n",
       "4          Iran   35.6892    51.3890\n",
       "5           UAE   24.4539    54.3773\n",
       "6        Turkey   41.0082    28.9784\n",
       "7     Australia  -37.8136   144.9631\n",
       "8         India    8.5241    76.9366\n",
       "9     Singapore    1.3521   103.8198\n",
       "10    Indonesia   -8.3405   115.0920\n",
       "11     Thailand   13.7563   100.5018\n",
       "12     Bulgaria   42.6977    23.3219\n",
       "13      Romania   44.4268    26.1025\n",
       "14      Germany   52.5200    13.4050\n",
       "15       France   48.8566     2.3522"
      ]
     },
     "execution_count": 3,
     "metadata": {},
     "output_type": "execute_result"
    }
   ],
   "source": [
    "#select the relevant columns to create map - country & coordinates\n",
    "\n",
    "trav2 = trav[['Countries', 'Latitude', 'Longitude']]\n",
    "trav2"
   ]
  },
  {
   "cell_type": "code",
   "execution_count": 4,
   "metadata": {},
   "outputs": [
    {
     "name": "stdout",
     "output_type": "stream",
     "text": [
      "0.17.0\n"
     ]
    }
   ],
   "source": [
    "import folium\n",
    "\n",
    "print(folium.__version__)"
   ]
  },
  {
   "cell_type": "markdown",
   "metadata": {},
   "source": [
    "# Create map using Folium\n",
    "\n",
    "**Tile layers/ Map textures**\n",
    "\n",
    "1) Open street Map - standard\n",
    "\n",
    "2) Stamen Toner\n",
    "    - Black and white map style\n",
    "    - detailed information + clear contrast\n",
    "\n",
    "3) Stamen Terrain\n",
    "    - Styled with terrain features\n",
    "    - it provides good visual for geographical feature\n",
    "\n",
    "4) Stamen watercolour - artistic look\n",
    "\n",
    "5)  CartoDB positron - clean and bright map\n",
    "\n",
    "6) CartoDB Dark Matter - dark-themed map that highlight colored data point\n",
    "\n",
    "7) Mapbox Bright - bright and vibrant map\n",
    "\n",
    "8) Mapbox dark - contrastive visual\n",
    "\n",
    "9) OpentopoMap - emphasizes elevation and terrain\n",
    "\n",
    "\n",
    "**Basic map**\n"
   ]
  },
  {
   "cell_type": "code",
   "execution_count": 5,
   "metadata": {},
   "outputs": [
    {
     "data": {
      "text/html": [
       "<div style=\"width:100%;\"><div style=\"position:relative;width:100%;height:0;padding-bottom:60%;\"><span style=\"color:#565656\">Make this Notebook Trusted to load map: File -> Trust Notebook</span><iframe srcdoc=\"&lt;!DOCTYPE html&gt;\n",
       "&lt;html&gt;\n",
       "&lt;head&gt;\n",
       "    \n",
       "    &lt;meta http-equiv=&quot;content-type&quot; content=&quot;text/html; charset=UTF-8&quot; /&gt;\n",
       "    \n",
       "        &lt;script&gt;\n",
       "            L_NO_TOUCH = false;\n",
       "            L_DISABLE_3D = false;\n",
       "        &lt;/script&gt;\n",
       "    \n",
       "    &lt;style&gt;html, body {width: 100%;height: 100%;margin: 0;padding: 0;}&lt;/style&gt;\n",
       "    &lt;style&gt;#map {position:absolute;top:0;bottom:0;right:0;left:0;}&lt;/style&gt;\n",
       "    &lt;script src=&quot;https://cdn.jsdelivr.net/npm/leaflet@1.9.3/dist/leaflet.js&quot;&gt;&lt;/script&gt;\n",
       "    &lt;script src=&quot;https://code.jquery.com/jquery-3.7.1.min.js&quot;&gt;&lt;/script&gt;\n",
       "    &lt;script src=&quot;https://cdn.jsdelivr.net/npm/bootstrap@5.2.2/dist/js/bootstrap.bundle.min.js&quot;&gt;&lt;/script&gt;\n",
       "    &lt;script src=&quot;https://cdnjs.cloudflare.com/ajax/libs/Leaflet.awesome-markers/2.0.2/leaflet.awesome-markers.js&quot;&gt;&lt;/script&gt;\n",
       "    &lt;link rel=&quot;stylesheet&quot; href=&quot;https://cdn.jsdelivr.net/npm/leaflet@1.9.3/dist/leaflet.css&quot;/&gt;\n",
       "    &lt;link rel=&quot;stylesheet&quot; href=&quot;https://cdn.jsdelivr.net/npm/bootstrap@5.2.2/dist/css/bootstrap.min.css&quot;/&gt;\n",
       "    &lt;link rel=&quot;stylesheet&quot; href=&quot;https://netdna.bootstrapcdn.com/bootstrap/3.0.0/css/bootstrap-glyphicons.css&quot;/&gt;\n",
       "    &lt;link rel=&quot;stylesheet&quot; href=&quot;https://cdn.jsdelivr.net/npm/@fortawesome/fontawesome-free@6.2.0/css/all.min.css&quot;/&gt;\n",
       "    &lt;link rel=&quot;stylesheet&quot; href=&quot;https://cdnjs.cloudflare.com/ajax/libs/Leaflet.awesome-markers/2.0.2/leaflet.awesome-markers.css&quot;/&gt;\n",
       "    &lt;link rel=&quot;stylesheet&quot; href=&quot;https://cdn.jsdelivr.net/gh/python-visualization/folium/folium/templates/leaflet.awesome.rotate.min.css&quot;/&gt;\n",
       "    \n",
       "            &lt;meta name=&quot;viewport&quot; content=&quot;width=device-width,\n",
       "                initial-scale=1.0, maximum-scale=1.0, user-scalable=no&quot; /&gt;\n",
       "            &lt;style&gt;\n",
       "                #map_67a02534bb10abb31c8fab96ee63fbee {\n",
       "                    position: relative;\n",
       "                    width: 100.0%;\n",
       "                    height: 100.0%;\n",
       "                    left: 0.0%;\n",
       "                    top: 0.0%;\n",
       "                }\n",
       "                .leaflet-container { font-size: 1rem; }\n",
       "            &lt;/style&gt;\n",
       "        \n",
       "&lt;/head&gt;\n",
       "&lt;body&gt;\n",
       "    \n",
       "    \n",
       "            &lt;div class=&quot;folium-map&quot; id=&quot;map_67a02534bb10abb31c8fab96ee63fbee&quot; &gt;&lt;/div&gt;\n",
       "        \n",
       "&lt;/body&gt;\n",
       "&lt;script&gt;\n",
       "    \n",
       "    \n",
       "            var map_67a02534bb10abb31c8fab96ee63fbee = L.map(\n",
       "                &quot;map_67a02534bb10abb31c8fab96ee63fbee&quot;,\n",
       "                {\n",
       "                    center: [0.0, 0.0],\n",
       "                    crs: L.CRS.EPSG3857,\n",
       "                    zoom: 2,\n",
       "                    zoomControl: true,\n",
       "                    preferCanvas: false,\n",
       "                }\n",
       "            );\n",
       "\n",
       "            \n",
       "\n",
       "        \n",
       "    \n",
       "            var tile_layer_1ee4c414d018df0222c21de3d5cd3697 = L.tileLayer(\n",
       "                &quot;https://tile.openstreetmap.org/{z}/{x}/{y}.png&quot;,\n",
       "                {&quot;attribution&quot;: &quot;\\u0026copy; \\u003ca href=\\&quot;https://www.openstreetmap.org/copyright\\&quot;\\u003eOpenStreetMap\\u003c/a\\u003e contributors&quot;, &quot;detectRetina&quot;: false, &quot;maxNativeZoom&quot;: 19, &quot;maxZoom&quot;: 19, &quot;minZoom&quot;: 0, &quot;noWrap&quot;: false, &quot;opacity&quot;: 1, &quot;subdomains&quot;: &quot;abc&quot;, &quot;tms&quot;: false}\n",
       "            );\n",
       "        \n",
       "    \n",
       "            tile_layer_1ee4c414d018df0222c21de3d5cd3697.addTo(map_67a02534bb10abb31c8fab96ee63fbee);\n",
       "        \n",
       "    \n",
       "            var marker_d9b47b69783c0fca277b5f3bec0e7574 = L.marker(\n",
       "                [40.4093, 49.8671],\n",
       "                {}\n",
       "            ).addTo(map_67a02534bb10abb31c8fab96ee63fbee);\n",
       "        \n",
       "    \n",
       "            var icon_97ac5cdc47f0fd62135dc0fba0668507 = L.AwesomeMarkers.icon(\n",
       "                {&quot;extraClasses&quot;: &quot;fa-rotate-0&quot;, &quot;icon&quot;: &quot;star&quot;, &quot;iconColor&quot;: &quot;white&quot;, &quot;markerColor&quot;: &quot;blue&quot;, &quot;prefix&quot;: &quot;glyphicon&quot;}\n",
       "            );\n",
       "            marker_d9b47b69783c0fca277b5f3bec0e7574.setIcon(icon_97ac5cdc47f0fd62135dc0fba0668507);\n",
       "        \n",
       "    \n",
       "        var popup_91e256623a8aa56714fa49da922a3171 = L.popup({&quot;maxWidth&quot;: &quot;100%&quot;});\n",
       "\n",
       "        \n",
       "            \n",
       "                var html_3e26e77d1699da90647a129748872410 = $(`&lt;div id=&quot;html_3e26e77d1699da90647a129748872410&quot; style=&quot;width: 100.0%; height: 100.0%;&quot;&gt;Azerbaijan&lt;/div&gt;`)[0];\n",
       "                popup_91e256623a8aa56714fa49da922a3171.setContent(html_3e26e77d1699da90647a129748872410);\n",
       "            \n",
       "        \n",
       "\n",
       "        marker_d9b47b69783c0fca277b5f3bec0e7574.bindPopup(popup_91e256623a8aa56714fa49da922a3171)\n",
       "        ;\n",
       "\n",
       "        \n",
       "    \n",
       "    \n",
       "            var marker_d84f625da428d654e9daf5facaaeadb0 = L.marker(\n",
       "                [47.4979, 19.0402],\n",
       "                {}\n",
       "            ).addTo(map_67a02534bb10abb31c8fab96ee63fbee);\n",
       "        \n",
       "    \n",
       "            var icon_f01745edd7d7d20a439c1c1bf4c57280 = L.AwesomeMarkers.icon(\n",
       "                {&quot;extraClasses&quot;: &quot;fa-rotate-0&quot;, &quot;icon&quot;: &quot;star&quot;, &quot;iconColor&quot;: &quot;white&quot;, &quot;markerColor&quot;: &quot;blue&quot;, &quot;prefix&quot;: &quot;glyphicon&quot;}\n",
       "            );\n",
       "            marker_d84f625da428d654e9daf5facaaeadb0.setIcon(icon_f01745edd7d7d20a439c1c1bf4c57280);\n",
       "        \n",
       "    \n",
       "        var popup_71931f8cb0a9830a94142b09baa3163b = L.popup({&quot;maxWidth&quot;: &quot;100%&quot;});\n",
       "\n",
       "        \n",
       "            \n",
       "                var html_8a3fabb86ddbf818664f07ae5500a142 = $(`&lt;div id=&quot;html_8a3fabb86ddbf818664f07ae5500a142&quot; style=&quot;width: 100.0%; height: 100.0%;&quot;&gt;Hungary&lt;/div&gt;`)[0];\n",
       "                popup_71931f8cb0a9830a94142b09baa3163b.setContent(html_8a3fabb86ddbf818664f07ae5500a142);\n",
       "            \n",
       "        \n",
       "\n",
       "        marker_d84f625da428d654e9daf5facaaeadb0.bindPopup(popup_71931f8cb0a9830a94142b09baa3163b)\n",
       "        ;\n",
       "\n",
       "        \n",
       "    \n",
       "    \n",
       "            var marker_5365bcbcc1fcc98b1b021d967a3d58aa = L.marker(\n",
       "                [50.0755, 14.4378],\n",
       "                {}\n",
       "            ).addTo(map_67a02534bb10abb31c8fab96ee63fbee);\n",
       "        \n",
       "    \n",
       "            var icon_42d695a2d30ab1aa0bb4146d8de60b03 = L.AwesomeMarkers.icon(\n",
       "                {&quot;extraClasses&quot;: &quot;fa-rotate-0&quot;, &quot;icon&quot;: &quot;star&quot;, &quot;iconColor&quot;: &quot;white&quot;, &quot;markerColor&quot;: &quot;blue&quot;, &quot;prefix&quot;: &quot;glyphicon&quot;}\n",
       "            );\n",
       "            marker_5365bcbcc1fcc98b1b021d967a3d58aa.setIcon(icon_42d695a2d30ab1aa0bb4146d8de60b03);\n",
       "        \n",
       "    \n",
       "        var popup_a9aecc251a5f699736fabccb993f6218 = L.popup({&quot;maxWidth&quot;: &quot;100%&quot;});\n",
       "\n",
       "        \n",
       "            \n",
       "                var html_290e839d649f232741658ba45768cdb8 = $(`&lt;div id=&quot;html_290e839d649f232741658ba45768cdb8&quot; style=&quot;width: 100.0%; height: 100.0%;&quot;&gt;Czechia&lt;/div&gt;`)[0];\n",
       "                popup_a9aecc251a5f699736fabccb993f6218.setContent(html_290e839d649f232741658ba45768cdb8);\n",
       "            \n",
       "        \n",
       "\n",
       "        marker_5365bcbcc1fcc98b1b021d967a3d58aa.bindPopup(popup_a9aecc251a5f699736fabccb993f6218)\n",
       "        ;\n",
       "\n",
       "        \n",
       "    \n",
       "    \n",
       "            var marker_c7a81d04638c10f34a6cef5706a71868 = L.marker(\n",
       "                [46.9479, 7.4474],\n",
       "                {}\n",
       "            ).addTo(map_67a02534bb10abb31c8fab96ee63fbee);\n",
       "        \n",
       "    \n",
       "            var icon_dd83672c0261e67125cf22510b3aac05 = L.AwesomeMarkers.icon(\n",
       "                {&quot;extraClasses&quot;: &quot;fa-rotate-0&quot;, &quot;icon&quot;: &quot;star&quot;, &quot;iconColor&quot;: &quot;white&quot;, &quot;markerColor&quot;: &quot;blue&quot;, &quot;prefix&quot;: &quot;glyphicon&quot;}\n",
       "            );\n",
       "            marker_c7a81d04638c10f34a6cef5706a71868.setIcon(icon_dd83672c0261e67125cf22510b3aac05);\n",
       "        \n",
       "    \n",
       "        var popup_3f34ad2d1121d78c6bd10e5c1e23a77b = L.popup({&quot;maxWidth&quot;: &quot;100%&quot;});\n",
       "\n",
       "        \n",
       "            \n",
       "                var html_bc54d7d0caca98166293e01a8fb0f729 = $(`&lt;div id=&quot;html_bc54d7d0caca98166293e01a8fb0f729&quot; style=&quot;width: 100.0%; height: 100.0%;&quot;&gt;Switzerland&lt;/div&gt;`)[0];\n",
       "                popup_3f34ad2d1121d78c6bd10e5c1e23a77b.setContent(html_bc54d7d0caca98166293e01a8fb0f729);\n",
       "            \n",
       "        \n",
       "\n",
       "        marker_c7a81d04638c10f34a6cef5706a71868.bindPopup(popup_3f34ad2d1121d78c6bd10e5c1e23a77b)\n",
       "        ;\n",
       "\n",
       "        \n",
       "    \n",
       "    \n",
       "            var marker_fffab614d259a2f8960307681586db62 = L.marker(\n",
       "                [35.6892, 51.389],\n",
       "                {}\n",
       "            ).addTo(map_67a02534bb10abb31c8fab96ee63fbee);\n",
       "        \n",
       "    \n",
       "            var icon_f78db597f1a415859fc0262f892c1f86 = L.AwesomeMarkers.icon(\n",
       "                {&quot;extraClasses&quot;: &quot;fa-rotate-0&quot;, &quot;icon&quot;: &quot;star&quot;, &quot;iconColor&quot;: &quot;white&quot;, &quot;markerColor&quot;: &quot;blue&quot;, &quot;prefix&quot;: &quot;glyphicon&quot;}\n",
       "            );\n",
       "            marker_fffab614d259a2f8960307681586db62.setIcon(icon_f78db597f1a415859fc0262f892c1f86);\n",
       "        \n",
       "    \n",
       "        var popup_8f2f4140093a5cf7122ab0c648f81d63 = L.popup({&quot;maxWidth&quot;: &quot;100%&quot;});\n",
       "\n",
       "        \n",
       "            \n",
       "                var html_cb6b07f0e25a5d68e87bcb9b5e443ebf = $(`&lt;div id=&quot;html_cb6b07f0e25a5d68e87bcb9b5e443ebf&quot; style=&quot;width: 100.0%; height: 100.0%;&quot;&gt;Iran&lt;/div&gt;`)[0];\n",
       "                popup_8f2f4140093a5cf7122ab0c648f81d63.setContent(html_cb6b07f0e25a5d68e87bcb9b5e443ebf);\n",
       "            \n",
       "        \n",
       "\n",
       "        marker_fffab614d259a2f8960307681586db62.bindPopup(popup_8f2f4140093a5cf7122ab0c648f81d63)\n",
       "        ;\n",
       "\n",
       "        \n",
       "    \n",
       "    \n",
       "            var marker_5b388c1ca88beb8123843839b4060cf5 = L.marker(\n",
       "                [24.4539, 54.3773],\n",
       "                {}\n",
       "            ).addTo(map_67a02534bb10abb31c8fab96ee63fbee);\n",
       "        \n",
       "    \n",
       "            var icon_0f76932355a5f7cc67ff05f22eaecb5d = L.AwesomeMarkers.icon(\n",
       "                {&quot;extraClasses&quot;: &quot;fa-rotate-0&quot;, &quot;icon&quot;: &quot;star&quot;, &quot;iconColor&quot;: &quot;white&quot;, &quot;markerColor&quot;: &quot;blue&quot;, &quot;prefix&quot;: &quot;glyphicon&quot;}\n",
       "            );\n",
       "            marker_5b388c1ca88beb8123843839b4060cf5.setIcon(icon_0f76932355a5f7cc67ff05f22eaecb5d);\n",
       "        \n",
       "    \n",
       "        var popup_e76aab02d140626fe67f69b74417f47d = L.popup({&quot;maxWidth&quot;: &quot;100%&quot;});\n",
       "\n",
       "        \n",
       "            \n",
       "                var html_9b67170bfc076237e0e7a0b531d7e123 = $(`&lt;div id=&quot;html_9b67170bfc076237e0e7a0b531d7e123&quot; style=&quot;width: 100.0%; height: 100.0%;&quot;&gt;UAE&lt;/div&gt;`)[0];\n",
       "                popup_e76aab02d140626fe67f69b74417f47d.setContent(html_9b67170bfc076237e0e7a0b531d7e123);\n",
       "            \n",
       "        \n",
       "\n",
       "        marker_5b388c1ca88beb8123843839b4060cf5.bindPopup(popup_e76aab02d140626fe67f69b74417f47d)\n",
       "        ;\n",
       "\n",
       "        \n",
       "    \n",
       "    \n",
       "            var marker_c73f3274ada44fc74e4b250796870390 = L.marker(\n",
       "                [41.0082, 28.9784],\n",
       "                {}\n",
       "            ).addTo(map_67a02534bb10abb31c8fab96ee63fbee);\n",
       "        \n",
       "    \n",
       "            var icon_e2cdfb53d528c9864d89a2eccd40938a = L.AwesomeMarkers.icon(\n",
       "                {&quot;extraClasses&quot;: &quot;fa-rotate-0&quot;, &quot;icon&quot;: &quot;star&quot;, &quot;iconColor&quot;: &quot;white&quot;, &quot;markerColor&quot;: &quot;blue&quot;, &quot;prefix&quot;: &quot;glyphicon&quot;}\n",
       "            );\n",
       "            marker_c73f3274ada44fc74e4b250796870390.setIcon(icon_e2cdfb53d528c9864d89a2eccd40938a);\n",
       "        \n",
       "    \n",
       "        var popup_f405b6899b35bd32cb853a85a81ee0cf = L.popup({&quot;maxWidth&quot;: &quot;100%&quot;});\n",
       "\n",
       "        \n",
       "            \n",
       "                var html_94eae30928c40ddd66b515d0da3a9a3d = $(`&lt;div id=&quot;html_94eae30928c40ddd66b515d0da3a9a3d&quot; style=&quot;width: 100.0%; height: 100.0%;&quot;&gt;Turkey&lt;/div&gt;`)[0];\n",
       "                popup_f405b6899b35bd32cb853a85a81ee0cf.setContent(html_94eae30928c40ddd66b515d0da3a9a3d);\n",
       "            \n",
       "        \n",
       "\n",
       "        marker_c73f3274ada44fc74e4b250796870390.bindPopup(popup_f405b6899b35bd32cb853a85a81ee0cf)\n",
       "        ;\n",
       "\n",
       "        \n",
       "    \n",
       "    \n",
       "            var marker_454d5ddae0ccc2337bdc5f3e2fb55b07 = L.marker(\n",
       "                [-37.8136, 144.9631],\n",
       "                {}\n",
       "            ).addTo(map_67a02534bb10abb31c8fab96ee63fbee);\n",
       "        \n",
       "    \n",
       "            var icon_21d79e27dd41527c599bccbb00386fd1 = L.AwesomeMarkers.icon(\n",
       "                {&quot;extraClasses&quot;: &quot;fa-rotate-0&quot;, &quot;icon&quot;: &quot;star&quot;, &quot;iconColor&quot;: &quot;white&quot;, &quot;markerColor&quot;: &quot;blue&quot;, &quot;prefix&quot;: &quot;glyphicon&quot;}\n",
       "            );\n",
       "            marker_454d5ddae0ccc2337bdc5f3e2fb55b07.setIcon(icon_21d79e27dd41527c599bccbb00386fd1);\n",
       "        \n",
       "    \n",
       "        var popup_95df25cd3112039a103331cd60fa4966 = L.popup({&quot;maxWidth&quot;: &quot;100%&quot;});\n",
       "\n",
       "        \n",
       "            \n",
       "                var html_ce9a8e61685a755acc66590bb1c722d6 = $(`&lt;div id=&quot;html_ce9a8e61685a755acc66590bb1c722d6&quot; style=&quot;width: 100.0%; height: 100.0%;&quot;&gt;Australia&lt;/div&gt;`)[0];\n",
       "                popup_95df25cd3112039a103331cd60fa4966.setContent(html_ce9a8e61685a755acc66590bb1c722d6);\n",
       "            \n",
       "        \n",
       "\n",
       "        marker_454d5ddae0ccc2337bdc5f3e2fb55b07.bindPopup(popup_95df25cd3112039a103331cd60fa4966)\n",
       "        ;\n",
       "\n",
       "        \n",
       "    \n",
       "    \n",
       "            var marker_f2e7b638e993ac28f0d1c6fc346decf0 = L.marker(\n",
       "                [8.5241, 76.9366],\n",
       "                {}\n",
       "            ).addTo(map_67a02534bb10abb31c8fab96ee63fbee);\n",
       "        \n",
       "    \n",
       "            var icon_cbe47305c0db7ca93bf524669857866c = L.AwesomeMarkers.icon(\n",
       "                {&quot;extraClasses&quot;: &quot;fa-rotate-0&quot;, &quot;icon&quot;: &quot;star&quot;, &quot;iconColor&quot;: &quot;white&quot;, &quot;markerColor&quot;: &quot;blue&quot;, &quot;prefix&quot;: &quot;glyphicon&quot;}\n",
       "            );\n",
       "            marker_f2e7b638e993ac28f0d1c6fc346decf0.setIcon(icon_cbe47305c0db7ca93bf524669857866c);\n",
       "        \n",
       "    \n",
       "        var popup_c259f1cc7ca2a392086dbab595ce57fd = L.popup({&quot;maxWidth&quot;: &quot;100%&quot;});\n",
       "\n",
       "        \n",
       "            \n",
       "                var html_d940a5f1b5685e3838fb5a9f6228877d = $(`&lt;div id=&quot;html_d940a5f1b5685e3838fb5a9f6228877d&quot; style=&quot;width: 100.0%; height: 100.0%;&quot;&gt;India&lt;/div&gt;`)[0];\n",
       "                popup_c259f1cc7ca2a392086dbab595ce57fd.setContent(html_d940a5f1b5685e3838fb5a9f6228877d);\n",
       "            \n",
       "        \n",
       "\n",
       "        marker_f2e7b638e993ac28f0d1c6fc346decf0.bindPopup(popup_c259f1cc7ca2a392086dbab595ce57fd)\n",
       "        ;\n",
       "\n",
       "        \n",
       "    \n",
       "    \n",
       "            var marker_f6944d75a90ef12968bed2d39323ef72 = L.marker(\n",
       "                [1.3521, 103.8198],\n",
       "                {}\n",
       "            ).addTo(map_67a02534bb10abb31c8fab96ee63fbee);\n",
       "        \n",
       "    \n",
       "            var icon_e7e309742450dcea6f7ace738db9e732 = L.AwesomeMarkers.icon(\n",
       "                {&quot;extraClasses&quot;: &quot;fa-rotate-0&quot;, &quot;icon&quot;: &quot;star&quot;, &quot;iconColor&quot;: &quot;white&quot;, &quot;markerColor&quot;: &quot;blue&quot;, &quot;prefix&quot;: &quot;glyphicon&quot;}\n",
       "            );\n",
       "            marker_f6944d75a90ef12968bed2d39323ef72.setIcon(icon_e7e309742450dcea6f7ace738db9e732);\n",
       "        \n",
       "    \n",
       "        var popup_eb9844fce3ca717e0a286f9c0bb81444 = L.popup({&quot;maxWidth&quot;: &quot;100%&quot;});\n",
       "\n",
       "        \n",
       "            \n",
       "                var html_3e18aae2f9611474c5a2aa41c8f418ff = $(`&lt;div id=&quot;html_3e18aae2f9611474c5a2aa41c8f418ff&quot; style=&quot;width: 100.0%; height: 100.0%;&quot;&gt;Singapore&lt;/div&gt;`)[0];\n",
       "                popup_eb9844fce3ca717e0a286f9c0bb81444.setContent(html_3e18aae2f9611474c5a2aa41c8f418ff);\n",
       "            \n",
       "        \n",
       "\n",
       "        marker_f6944d75a90ef12968bed2d39323ef72.bindPopup(popup_eb9844fce3ca717e0a286f9c0bb81444)\n",
       "        ;\n",
       "\n",
       "        \n",
       "    \n",
       "    \n",
       "            var marker_9a4573507eefe5b75b10d930b8b96181 = L.marker(\n",
       "                [-8.3405, 115.092],\n",
       "                {}\n",
       "            ).addTo(map_67a02534bb10abb31c8fab96ee63fbee);\n",
       "        \n",
       "    \n",
       "            var icon_7a57a1b1989af4f4583f372aa514a27e = L.AwesomeMarkers.icon(\n",
       "                {&quot;extraClasses&quot;: &quot;fa-rotate-0&quot;, &quot;icon&quot;: &quot;star&quot;, &quot;iconColor&quot;: &quot;white&quot;, &quot;markerColor&quot;: &quot;blue&quot;, &quot;prefix&quot;: &quot;glyphicon&quot;}\n",
       "            );\n",
       "            marker_9a4573507eefe5b75b10d930b8b96181.setIcon(icon_7a57a1b1989af4f4583f372aa514a27e);\n",
       "        \n",
       "    \n",
       "        var popup_f9764af784a7a1024701bb77dbfd9f00 = L.popup({&quot;maxWidth&quot;: &quot;100%&quot;});\n",
       "\n",
       "        \n",
       "            \n",
       "                var html_a068faed2ae9ec69afbf817055e1929f = $(`&lt;div id=&quot;html_a068faed2ae9ec69afbf817055e1929f&quot; style=&quot;width: 100.0%; height: 100.0%;&quot;&gt;Indonesia&lt;/div&gt;`)[0];\n",
       "                popup_f9764af784a7a1024701bb77dbfd9f00.setContent(html_a068faed2ae9ec69afbf817055e1929f);\n",
       "            \n",
       "        \n",
       "\n",
       "        marker_9a4573507eefe5b75b10d930b8b96181.bindPopup(popup_f9764af784a7a1024701bb77dbfd9f00)\n",
       "        ;\n",
       "\n",
       "        \n",
       "    \n",
       "    \n",
       "            var marker_d96360109ffc40d80412445c94cf2d30 = L.marker(\n",
       "                [13.7563, 100.5018],\n",
       "                {}\n",
       "            ).addTo(map_67a02534bb10abb31c8fab96ee63fbee);\n",
       "        \n",
       "    \n",
       "            var icon_9876c165ae521d0525aaae8fe5e0bf9b = L.AwesomeMarkers.icon(\n",
       "                {&quot;extraClasses&quot;: &quot;fa-rotate-0&quot;, &quot;icon&quot;: &quot;star&quot;, &quot;iconColor&quot;: &quot;white&quot;, &quot;markerColor&quot;: &quot;blue&quot;, &quot;prefix&quot;: &quot;glyphicon&quot;}\n",
       "            );\n",
       "            marker_d96360109ffc40d80412445c94cf2d30.setIcon(icon_9876c165ae521d0525aaae8fe5e0bf9b);\n",
       "        \n",
       "    \n",
       "        var popup_0230a5eafb220f3cf8797a869ff79ec1 = L.popup({&quot;maxWidth&quot;: &quot;100%&quot;});\n",
       "\n",
       "        \n",
       "            \n",
       "                var html_b4d538aced527be658be171e81bf3d69 = $(`&lt;div id=&quot;html_b4d538aced527be658be171e81bf3d69&quot; style=&quot;width: 100.0%; height: 100.0%;&quot;&gt;Thailand&lt;/div&gt;`)[0];\n",
       "                popup_0230a5eafb220f3cf8797a869ff79ec1.setContent(html_b4d538aced527be658be171e81bf3d69);\n",
       "            \n",
       "        \n",
       "\n",
       "        marker_d96360109ffc40d80412445c94cf2d30.bindPopup(popup_0230a5eafb220f3cf8797a869ff79ec1)\n",
       "        ;\n",
       "\n",
       "        \n",
       "    \n",
       "    \n",
       "            var marker_14bf285115c557892aff02fba2377376 = L.marker(\n",
       "                [42.6977, 23.3219],\n",
       "                {}\n",
       "            ).addTo(map_67a02534bb10abb31c8fab96ee63fbee);\n",
       "        \n",
       "    \n",
       "            var icon_32c11ad0fcad2d6cc5a603269161c2a8 = L.AwesomeMarkers.icon(\n",
       "                {&quot;extraClasses&quot;: &quot;fa-rotate-0&quot;, &quot;icon&quot;: &quot;star&quot;, &quot;iconColor&quot;: &quot;white&quot;, &quot;markerColor&quot;: &quot;blue&quot;, &quot;prefix&quot;: &quot;glyphicon&quot;}\n",
       "            );\n",
       "            marker_14bf285115c557892aff02fba2377376.setIcon(icon_32c11ad0fcad2d6cc5a603269161c2a8);\n",
       "        \n",
       "    \n",
       "        var popup_8518155c57146dd7501796463b5113a0 = L.popup({&quot;maxWidth&quot;: &quot;100%&quot;});\n",
       "\n",
       "        \n",
       "            \n",
       "                var html_40fac9ad0110520990f2571f545b99a7 = $(`&lt;div id=&quot;html_40fac9ad0110520990f2571f545b99a7&quot; style=&quot;width: 100.0%; height: 100.0%;&quot;&gt;Bulgaria&lt;/div&gt;`)[0];\n",
       "                popup_8518155c57146dd7501796463b5113a0.setContent(html_40fac9ad0110520990f2571f545b99a7);\n",
       "            \n",
       "        \n",
       "\n",
       "        marker_14bf285115c557892aff02fba2377376.bindPopup(popup_8518155c57146dd7501796463b5113a0)\n",
       "        ;\n",
       "\n",
       "        \n",
       "    \n",
       "    \n",
       "            var marker_5b5972ebed0defb487bdc470fff9d6d7 = L.marker(\n",
       "                [44.4268, 26.1025],\n",
       "                {}\n",
       "            ).addTo(map_67a02534bb10abb31c8fab96ee63fbee);\n",
       "        \n",
       "    \n",
       "            var icon_1ad84beecf7a5cd5b9cde5a0153794d4 = L.AwesomeMarkers.icon(\n",
       "                {&quot;extraClasses&quot;: &quot;fa-rotate-0&quot;, &quot;icon&quot;: &quot;star&quot;, &quot;iconColor&quot;: &quot;white&quot;, &quot;markerColor&quot;: &quot;blue&quot;, &quot;prefix&quot;: &quot;glyphicon&quot;}\n",
       "            );\n",
       "            marker_5b5972ebed0defb487bdc470fff9d6d7.setIcon(icon_1ad84beecf7a5cd5b9cde5a0153794d4);\n",
       "        \n",
       "    \n",
       "        var popup_29c0713ae40d3fbdb54a9b2464ca7452 = L.popup({&quot;maxWidth&quot;: &quot;100%&quot;});\n",
       "\n",
       "        \n",
       "            \n",
       "                var html_8ee265b56a5e68693a23efa2a1359fde = $(`&lt;div id=&quot;html_8ee265b56a5e68693a23efa2a1359fde&quot; style=&quot;width: 100.0%; height: 100.0%;&quot;&gt;Romania&lt;/div&gt;`)[0];\n",
       "                popup_29c0713ae40d3fbdb54a9b2464ca7452.setContent(html_8ee265b56a5e68693a23efa2a1359fde);\n",
       "            \n",
       "        \n",
       "\n",
       "        marker_5b5972ebed0defb487bdc470fff9d6d7.bindPopup(popup_29c0713ae40d3fbdb54a9b2464ca7452)\n",
       "        ;\n",
       "\n",
       "        \n",
       "    \n",
       "    \n",
       "            var marker_46a7c3891d71f97670b753be7ab84bfa = L.marker(\n",
       "                [52.52, 13.405],\n",
       "                {}\n",
       "            ).addTo(map_67a02534bb10abb31c8fab96ee63fbee);\n",
       "        \n",
       "    \n",
       "            var icon_f4d7d979d9161317a2505f95ad00980d = L.AwesomeMarkers.icon(\n",
       "                {&quot;extraClasses&quot;: &quot;fa-rotate-0&quot;, &quot;icon&quot;: &quot;star&quot;, &quot;iconColor&quot;: &quot;white&quot;, &quot;markerColor&quot;: &quot;blue&quot;, &quot;prefix&quot;: &quot;glyphicon&quot;}\n",
       "            );\n",
       "            marker_46a7c3891d71f97670b753be7ab84bfa.setIcon(icon_f4d7d979d9161317a2505f95ad00980d);\n",
       "        \n",
       "    \n",
       "        var popup_3b0af5ca7b3bd373aa28227270629d17 = L.popup({&quot;maxWidth&quot;: &quot;100%&quot;});\n",
       "\n",
       "        \n",
       "            \n",
       "                var html_ac5aa97fd8b6a9690a260c3795b5e98d = $(`&lt;div id=&quot;html_ac5aa97fd8b6a9690a260c3795b5e98d&quot; style=&quot;width: 100.0%; height: 100.0%;&quot;&gt;Germany&lt;/div&gt;`)[0];\n",
       "                popup_3b0af5ca7b3bd373aa28227270629d17.setContent(html_ac5aa97fd8b6a9690a260c3795b5e98d);\n",
       "            \n",
       "        \n",
       "\n",
       "        marker_46a7c3891d71f97670b753be7ab84bfa.bindPopup(popup_3b0af5ca7b3bd373aa28227270629d17)\n",
       "        ;\n",
       "\n",
       "        \n",
       "    \n",
       "    \n",
       "            var marker_5cd01b842cc0a8194ac3ef340c2cec8a = L.marker(\n",
       "                [48.8566, 2.3522],\n",
       "                {}\n",
       "            ).addTo(map_67a02534bb10abb31c8fab96ee63fbee);\n",
       "        \n",
       "    \n",
       "            var icon_596d2f2267f5847cdd11aedaa16ef857 = L.AwesomeMarkers.icon(\n",
       "                {&quot;extraClasses&quot;: &quot;fa-rotate-0&quot;, &quot;icon&quot;: &quot;star&quot;, &quot;iconColor&quot;: &quot;white&quot;, &quot;markerColor&quot;: &quot;blue&quot;, &quot;prefix&quot;: &quot;glyphicon&quot;}\n",
       "            );\n",
       "            marker_5cd01b842cc0a8194ac3ef340c2cec8a.setIcon(icon_596d2f2267f5847cdd11aedaa16ef857);\n",
       "        \n",
       "    \n",
       "        var popup_d5f012395b36fd64b00447c06ab76e6a = L.popup({&quot;maxWidth&quot;: &quot;100%&quot;});\n",
       "\n",
       "        \n",
       "            \n",
       "                var html_e7604ad9337ae833fc9146d3b3754351 = $(`&lt;div id=&quot;html_e7604ad9337ae833fc9146d3b3754351&quot; style=&quot;width: 100.0%; height: 100.0%;&quot;&gt;France&lt;/div&gt;`)[0];\n",
       "                popup_d5f012395b36fd64b00447c06ab76e6a.setContent(html_e7604ad9337ae833fc9146d3b3754351);\n",
       "            \n",
       "        \n",
       "\n",
       "        marker_5cd01b842cc0a8194ac3ef340c2cec8a.bindPopup(popup_d5f012395b36fd64b00447c06ab76e6a)\n",
       "        ;\n",
       "\n",
       "        \n",
       "    \n",
       "    \n",
       "            var tile_layer_6f5cc1ffb202893ff109b21767d98056 = L.tileLayer(\n",
       "                &quot;https://{s}.basemaps.cartocdn.com/light_all/{z}/{x}/{y}{r}.png&quot;,\n",
       "                {&quot;attribution&quot;: &quot;\\u0026copy; \\u003ca href=\\&quot;https://www.openstreetmap.org/copyright\\&quot;\\u003eOpenStreetMap\\u003c/a\\u003e contributors \\u0026copy; \\u003ca href=\\&quot;https://carto.com/attributions\\&quot;\\u003eCARTO\\u003c/a\\u003e&quot;, &quot;detectRetina&quot;: false, &quot;maxNativeZoom&quot;: 20, &quot;maxZoom&quot;: 20, &quot;minZoom&quot;: 0, &quot;noWrap&quot;: false, &quot;opacity&quot;: 1, &quot;subdomains&quot;: &quot;abcd&quot;, &quot;tms&quot;: false}\n",
       "            );\n",
       "        \n",
       "    \n",
       "            tile_layer_6f5cc1ffb202893ff109b21767d98056.addTo(map_67a02534bb10abb31c8fab96ee63fbee);\n",
       "        \n",
       "    \n",
       "            map_67a02534bb10abb31c8fab96ee63fbee.fitBounds(\n",
       "                [[-37.8136, 2.3522], [52.52, 144.9631]],\n",
       "                {}\n",
       "            );\n",
       "        \n",
       "&lt;/script&gt;\n",
       "&lt;/html&gt;\" style=\"position:absolute;width:100%;height:100%;left:0;top:0;border:none !important;\" allowfullscreen webkitallowfullscreen mozallowfullscreen></iframe></div></div>"
      ],
      "text/plain": [
       "<folium.folium.Map at 0x24634700140>"
      ]
     },
     "execution_count": 5,
     "metadata": {},
     "output_type": "execute_result"
    }
   ],
   "source": [
    "# #calculate for central location using mean()\n",
    "# central_lat = trav2['Latitude'].mean()\n",
    "# central_long = trav2['Longitude'].mean()\n",
    "# central_location = [central_lat, central_long]\n",
    "\n",
    "# #create a folium map\n",
    "# m = folium.Map(location=central_location, zoom_start=2.5)\n",
    "\n",
    "# cretae folium map with a default location\n",
    "m = folium.Map(location=[0,0], zoom_start=2)\n",
    "\n",
    "#add marker for each station\n",
    "for idx, row in trav2.iterrows():\n",
    "    folium.Marker(\n",
    "        location=[row['Latitude'], row['Longitude']],\n",
    "        popup=row['Countries'],\n",
    "        # tooltip='Click me!'\n",
    "        icon=folium.Icon(icon='star', color='blue')\n",
    "    ).add_to(m)\n",
    "\n",
    "#Add tile layers\n",
    "folium.TileLayer('cartodb positron').add_to(m)\n",
    "\n",
    "# Find min and max latitude and longitude\n",
    "min_lat = trav2['Latitude'].min()\n",
    "max_lat = trav2['Latitude'].max()\n",
    "min_long = trav2['Longitude'].min()\n",
    "max_long = trav2['Longitude'].max()\n",
    "\n",
    "# Adjust the map bounds\n",
    "bounds = [[min_lat, min_long], [max_lat, max_long]]\n",
    "m.fit_bounds(bounds)\n",
    "\n",
    "m"
   ]
  },
  {
   "cell_type": "markdown",
   "metadata": {},
   "source": [
    "# Folium Map Visualization\n",
    "\n",
    "- comapred to the previous map example, this map will show more than coordinates. \n",
    "- It will show the ratings in regards to diversity, safety perception, hospitality, historical aspect and if I will return"
   ]
  },
  {
   "cell_type": "code",
   "execution_count": 17,
   "metadata": {},
   "outputs": [
    {
     "data": {
      "text/html": [
       "<div style=\"width:100%;\"><div style=\"position:relative;width:100%;height:0;padding-bottom:60%;\"><span style=\"color:#565656\">Make this Notebook Trusted to load map: File -> Trust Notebook</span><iframe srcdoc=\"&lt;!DOCTYPE html&gt;\n",
       "&lt;html&gt;\n",
       "&lt;head&gt;\n",
       "    \n",
       "    &lt;meta http-equiv=&quot;content-type&quot; content=&quot;text/html; charset=UTF-8&quot; /&gt;\n",
       "    \n",
       "        &lt;script&gt;\n",
       "            L_NO_TOUCH = false;\n",
       "            L_DISABLE_3D = false;\n",
       "        &lt;/script&gt;\n",
       "    \n",
       "    &lt;style&gt;html, body {width: 100%;height: 100%;margin: 0;padding: 0;}&lt;/style&gt;\n",
       "    &lt;style&gt;#map {position:absolute;top:0;bottom:0;right:0;left:0;}&lt;/style&gt;\n",
       "    &lt;script src=&quot;https://cdn.jsdelivr.net/npm/leaflet@1.9.3/dist/leaflet.js&quot;&gt;&lt;/script&gt;\n",
       "    &lt;script src=&quot;https://code.jquery.com/jquery-3.7.1.min.js&quot;&gt;&lt;/script&gt;\n",
       "    &lt;script src=&quot;https://cdn.jsdelivr.net/npm/bootstrap@5.2.2/dist/js/bootstrap.bundle.min.js&quot;&gt;&lt;/script&gt;\n",
       "    &lt;script src=&quot;https://cdnjs.cloudflare.com/ajax/libs/Leaflet.awesome-markers/2.0.2/leaflet.awesome-markers.js&quot;&gt;&lt;/script&gt;\n",
       "    &lt;link rel=&quot;stylesheet&quot; href=&quot;https://cdn.jsdelivr.net/npm/leaflet@1.9.3/dist/leaflet.css&quot;/&gt;\n",
       "    &lt;link rel=&quot;stylesheet&quot; href=&quot;https://cdn.jsdelivr.net/npm/bootstrap@5.2.2/dist/css/bootstrap.min.css&quot;/&gt;\n",
       "    &lt;link rel=&quot;stylesheet&quot; href=&quot;https://netdna.bootstrapcdn.com/bootstrap/3.0.0/css/bootstrap-glyphicons.css&quot;/&gt;\n",
       "    &lt;link rel=&quot;stylesheet&quot; href=&quot;https://cdn.jsdelivr.net/npm/@fortawesome/fontawesome-free@6.2.0/css/all.min.css&quot;/&gt;\n",
       "    &lt;link rel=&quot;stylesheet&quot; href=&quot;https://cdnjs.cloudflare.com/ajax/libs/Leaflet.awesome-markers/2.0.2/leaflet.awesome-markers.css&quot;/&gt;\n",
       "    &lt;link rel=&quot;stylesheet&quot; href=&quot;https://cdn.jsdelivr.net/gh/python-visualization/folium/folium/templates/leaflet.awesome.rotate.min.css&quot;/&gt;\n",
       "    \n",
       "            &lt;meta name=&quot;viewport&quot; content=&quot;width=device-width,\n",
       "                initial-scale=1.0, maximum-scale=1.0, user-scalable=no&quot; /&gt;\n",
       "            &lt;style&gt;\n",
       "                #map_c8e43132f85abcda8857470d3fc21d6f {\n",
       "                    position: relative;\n",
       "                    width: 100.0%;\n",
       "                    height: 100.0%;\n",
       "                    left: 0.0%;\n",
       "                    top: 0.0%;\n",
       "                }\n",
       "                .leaflet-container { font-size: 1rem; }\n",
       "            &lt;/style&gt;\n",
       "        \n",
       "    &lt;script src=&quot;https://cdn.jsdelivr.net/gh/digidem/leaflet-side-by-side@2.0.0/leaflet-side-by-side.min.js&quot;&gt;&lt;/script&gt;\n",
       "    &lt;script src=&quot;https://cdn.jsdelivr.net/gh/ardhi/Leaflet.MousePosition/src/L.Control.MousePosition.min.js&quot;&gt;&lt;/script&gt;\n",
       "    &lt;link rel=&quot;stylesheet&quot; href=&quot;https://cdn.jsdelivr.net/gh/ardhi/Leaflet.MousePosition/src/L.Control.MousePosition.min.css&quot;/&gt;\n",
       "&lt;/head&gt;\n",
       "&lt;body&gt;\n",
       "    \n",
       "    \n",
       "            &lt;div class=&quot;folium-map&quot; id=&quot;map_c8e43132f85abcda8857470d3fc21d6f&quot; &gt;&lt;/div&gt;\n",
       "        \n",
       "&lt;/body&gt;\n",
       "&lt;script&gt;\n",
       "    \n",
       "    \n",
       "            var map_c8e43132f85abcda8857470d3fc21d6f = L.map(\n",
       "                &quot;map_c8e43132f85abcda8857470d3fc21d6f&quot;,\n",
       "                {\n",
       "                    center: [0.0, 0.0],\n",
       "                    crs: L.CRS.EPSG3857,\n",
       "                    zoom: 3,\n",
       "                    zoomControl: true,\n",
       "                    preferCanvas: false,\n",
       "                }\n",
       "            );\n",
       "\n",
       "            \n",
       "\n",
       "        \n",
       "    \n",
       "            var tile_layer_7f90a295d0ca627c9bb737fa4c558d15 = L.tileLayer(\n",
       "                &quot;https://tile.openstreetmap.org/{z}/{x}/{y}.png&quot;,\n",
       "                {&quot;attribution&quot;: &quot;\\u0026copy; \\u003ca href=\\&quot;https://www.openstreetmap.org/copyright\\&quot;\\u003eOpenStreetMap\\u003c/a\\u003e contributors&quot;, &quot;detectRetina&quot;: false, &quot;maxNativeZoom&quot;: 19, &quot;maxZoom&quot;: 19, &quot;minZoom&quot;: 0, &quot;noWrap&quot;: false, &quot;opacity&quot;: 1, &quot;subdomains&quot;: &quot;abc&quot;, &quot;tms&quot;: false}\n",
       "            );\n",
       "        \n",
       "    \n",
       "            tile_layer_7f90a295d0ca627c9bb737fa4c558d15.addTo(map_c8e43132f85abcda8857470d3fc21d6f);\n",
       "        \n",
       "    \n",
       "            var marker_101c51f5d48bb1446f51711e23d1cd85 = L.marker(\n",
       "                [40.4093, 49.8671],\n",
       "                {}\n",
       "            ).addTo(map_c8e43132f85abcda8857470d3fc21d6f);\n",
       "        \n",
       "    \n",
       "            var icon_6161b72f56be751dc54382627ac1e846 = L.AwesomeMarkers.icon(\n",
       "                {&quot;extraClasses&quot;: &quot;fa-rotate-0&quot;, &quot;icon&quot;: &quot;star&quot;, &quot;iconColor&quot;: &quot;white&quot;, &quot;markerColor&quot;: &quot;red&quot;, &quot;prefix&quot;: &quot;glyphicon&quot;}\n",
       "            );\n",
       "            marker_101c51f5d48bb1446f51711e23d1cd85.setIcon(icon_6161b72f56be751dc54382627ac1e846);\n",
       "        \n",
       "    \n",
       "        var popup_bd7c0add07815f90715bd6851a34aa15 = L.popup({&quot;maxWidth&quot;: &quot;100%&quot;});\n",
       "\n",
       "        \n",
       "            \n",
       "                var html_a377f601b5c3a20bfbb7e7db30124155 = $(`&lt;div id=&quot;html_a377f601b5c3a20bfbb7e7db30124155&quot; style=&quot;width: 100.0%; height: 100.0%;&quot;&gt;      &lt;div style=&quot;min-width: 250px; max-width: 300px; font-size: 14px;&quot;&gt;          &lt;strong&gt;Country:&lt;/strong&gt; Azerbaijan&lt;br&gt;         &lt;strong&gt;Capital:&lt;/strong&gt; Baku&lt;br&gt;         &lt;strong&gt;Diversity:&lt;/strong&gt; Low&lt;br&gt;         &lt;strong&gt;Safety:&lt;/strong&gt; 4&lt;br&gt;         &lt;strong&gt;Hospitality:&lt;/strong&gt; 3&lt;br&gt;         &lt;strong&gt;History:&lt;/strong&gt; 2&lt;br&gt;         &lt;strong&gt;Will I return?:&lt;/strong&gt; Yes&lt;br&gt;     &lt;/div&gt;     &lt;/div&gt;`)[0];\n",
       "                popup_bd7c0add07815f90715bd6851a34aa15.setContent(html_a377f601b5c3a20bfbb7e7db30124155);\n",
       "            \n",
       "        \n",
       "\n",
       "        marker_101c51f5d48bb1446f51711e23d1cd85.bindPopup(popup_bd7c0add07815f90715bd6851a34aa15)\n",
       "        ;\n",
       "\n",
       "        \n",
       "    \n",
       "    \n",
       "            marker_101c51f5d48bb1446f51711e23d1cd85.bindTooltip(\n",
       "                `&lt;div&gt;\n",
       "                     Click me!\n",
       "                 &lt;/div&gt;`,\n",
       "                {&quot;sticky&quot;: true}\n",
       "            );\n",
       "        \n",
       "    \n",
       "            var marker_b30de3d8c41075e7133b77ede2fb6ee8 = L.marker(\n",
       "                [47.4979, 19.0402],\n",
       "                {}\n",
       "            ).addTo(map_c8e43132f85abcda8857470d3fc21d6f);\n",
       "        \n",
       "    \n",
       "            var icon_bdb9f676473ed772ef407b84852c3635 = L.AwesomeMarkers.icon(\n",
       "                {&quot;extraClasses&quot;: &quot;fa-rotate-0&quot;, &quot;icon&quot;: &quot;star&quot;, &quot;iconColor&quot;: &quot;white&quot;, &quot;markerColor&quot;: &quot;blue&quot;, &quot;prefix&quot;: &quot;glyphicon&quot;}\n",
       "            );\n",
       "            marker_b30de3d8c41075e7133b77ede2fb6ee8.setIcon(icon_bdb9f676473ed772ef407b84852c3635);\n",
       "        \n",
       "    \n",
       "        var popup_1efcd5f169c6ddf9f02db10c76d0d29c = L.popup({&quot;maxWidth&quot;: &quot;100%&quot;});\n",
       "\n",
       "        \n",
       "            \n",
       "                var html_37eea086344254b9575f5561f230bf89 = $(`&lt;div id=&quot;html_37eea086344254b9575f5561f230bf89&quot; style=&quot;width: 100.0%; height: 100.0%;&quot;&gt;      &lt;div style=&quot;min-width: 250px; max-width: 300px; font-size: 14px;&quot;&gt;          &lt;strong&gt;Country:&lt;/strong&gt; Hungary&lt;br&gt;         &lt;strong&gt;Capital:&lt;/strong&gt; Budapest&lt;br&gt;         &lt;strong&gt;Diversity:&lt;/strong&gt; Low&lt;br&gt;         &lt;strong&gt;Safety:&lt;/strong&gt; 4&lt;br&gt;         &lt;strong&gt;Hospitality:&lt;/strong&gt; 3&lt;br&gt;         &lt;strong&gt;History:&lt;/strong&gt; 3&lt;br&gt;         &lt;strong&gt;Will I return?:&lt;/strong&gt; Indifferent&lt;br&gt;     &lt;/div&gt;     &lt;/div&gt;`)[0];\n",
       "                popup_1efcd5f169c6ddf9f02db10c76d0d29c.setContent(html_37eea086344254b9575f5561f230bf89);\n",
       "            \n",
       "        \n",
       "\n",
       "        marker_b30de3d8c41075e7133b77ede2fb6ee8.bindPopup(popup_1efcd5f169c6ddf9f02db10c76d0d29c)\n",
       "        ;\n",
       "\n",
       "        \n",
       "    \n",
       "    \n",
       "            marker_b30de3d8c41075e7133b77ede2fb6ee8.bindTooltip(\n",
       "                `&lt;div&gt;\n",
       "                     Click me!\n",
       "                 &lt;/div&gt;`,\n",
       "                {&quot;sticky&quot;: true}\n",
       "            );\n",
       "        \n",
       "    \n",
       "            var marker_9b567efcd0fbbfb951a76f7ee5972ae8 = L.marker(\n",
       "                [50.0755, 14.4378],\n",
       "                {}\n",
       "            ).addTo(map_c8e43132f85abcda8857470d3fc21d6f);\n",
       "        \n",
       "    \n",
       "            var icon_d4574d8f15eb75e7d812ed7def1c3973 = L.AwesomeMarkers.icon(\n",
       "                {&quot;extraClasses&quot;: &quot;fa-rotate-0&quot;, &quot;icon&quot;: &quot;star&quot;, &quot;iconColor&quot;: &quot;white&quot;, &quot;markerColor&quot;: &quot;green&quot;, &quot;prefix&quot;: &quot;glyphicon&quot;}\n",
       "            );\n",
       "            marker_9b567efcd0fbbfb951a76f7ee5972ae8.setIcon(icon_d4574d8f15eb75e7d812ed7def1c3973);\n",
       "        \n",
       "    \n",
       "        var popup_19ac65a8dd7772ce54df290ea996c851 = L.popup({&quot;maxWidth&quot;: &quot;100%&quot;});\n",
       "\n",
       "        \n",
       "            \n",
       "                var html_5255d648609c76706dd3375569984132 = $(`&lt;div id=&quot;html_5255d648609c76706dd3375569984132&quot; style=&quot;width: 100.0%; height: 100.0%;&quot;&gt;      &lt;div style=&quot;min-width: 250px; max-width: 300px; font-size: 14px;&quot;&gt;          &lt;strong&gt;Country:&lt;/strong&gt; Czechia&lt;br&gt;         &lt;strong&gt;Capital:&lt;/strong&gt; Prague&lt;br&gt;         &lt;strong&gt;Diversity:&lt;/strong&gt; Low&lt;br&gt;         &lt;strong&gt;Safety:&lt;/strong&gt; 3&lt;br&gt;         &lt;strong&gt;Hospitality:&lt;/strong&gt; 1&lt;br&gt;         &lt;strong&gt;History:&lt;/strong&gt; 3&lt;br&gt;         &lt;strong&gt;Will I return?:&lt;/strong&gt; No&lt;br&gt;     &lt;/div&gt;     &lt;/div&gt;`)[0];\n",
       "                popup_19ac65a8dd7772ce54df290ea996c851.setContent(html_5255d648609c76706dd3375569984132);\n",
       "            \n",
       "        \n",
       "\n",
       "        marker_9b567efcd0fbbfb951a76f7ee5972ae8.bindPopup(popup_19ac65a8dd7772ce54df290ea996c851)\n",
       "        ;\n",
       "\n",
       "        \n",
       "    \n",
       "    \n",
       "            marker_9b567efcd0fbbfb951a76f7ee5972ae8.bindTooltip(\n",
       "                `&lt;div&gt;\n",
       "                     Click me!\n",
       "                 &lt;/div&gt;`,\n",
       "                {&quot;sticky&quot;: true}\n",
       "            );\n",
       "        \n",
       "    \n",
       "            var marker_065a9b71dfa5ff1039d1d848d7ca28fb = L.marker(\n",
       "                [46.9479, 7.4474],\n",
       "                {}\n",
       "            ).addTo(map_c8e43132f85abcda8857470d3fc21d6f);\n",
       "        \n",
       "    \n",
       "            var icon_617c2069b802c85f12ff9df25664a8f1 = L.AwesomeMarkers.icon(\n",
       "                {&quot;extraClasses&quot;: &quot;fa-rotate-0&quot;, &quot;icon&quot;: &quot;star&quot;, &quot;iconColor&quot;: &quot;white&quot;, &quot;markerColor&quot;: &quot;purple&quot;, &quot;prefix&quot;: &quot;glyphicon&quot;}\n",
       "            );\n",
       "            marker_065a9b71dfa5ff1039d1d848d7ca28fb.setIcon(icon_617c2069b802c85f12ff9df25664a8f1);\n",
       "        \n",
       "    \n",
       "        var popup_b28b289eafd9adb4c3d6ad675073ce7c = L.popup({&quot;maxWidth&quot;: &quot;100%&quot;});\n",
       "\n",
       "        \n",
       "            \n",
       "                var html_33102fff1ba8b6304540c4a90e47d236 = $(`&lt;div id=&quot;html_33102fff1ba8b6304540c4a90e47d236&quot; style=&quot;width: 100.0%; height: 100.0%;&quot;&gt;      &lt;div style=&quot;min-width: 250px; max-width: 300px; font-size: 14px;&quot;&gt;          &lt;strong&gt;Country:&lt;/strong&gt; Switzerland&lt;br&gt;         &lt;strong&gt;Capital:&lt;/strong&gt; Bern&lt;br&gt;         &lt;strong&gt;Diversity:&lt;/strong&gt; Low&lt;br&gt;         &lt;strong&gt;Safety:&lt;/strong&gt; 4&lt;br&gt;         &lt;strong&gt;Hospitality:&lt;/strong&gt; 4&lt;br&gt;         &lt;strong&gt;History:&lt;/strong&gt; 2&lt;br&gt;         &lt;strong&gt;Will I return?:&lt;/strong&gt; Yes&lt;br&gt;     &lt;/div&gt;     &lt;/div&gt;`)[0];\n",
       "                popup_b28b289eafd9adb4c3d6ad675073ce7c.setContent(html_33102fff1ba8b6304540c4a90e47d236);\n",
       "            \n",
       "        \n",
       "\n",
       "        marker_065a9b71dfa5ff1039d1d848d7ca28fb.bindPopup(popup_b28b289eafd9adb4c3d6ad675073ce7c)\n",
       "        ;\n",
       "\n",
       "        \n",
       "    \n",
       "    \n",
       "            marker_065a9b71dfa5ff1039d1d848d7ca28fb.bindTooltip(\n",
       "                `&lt;div&gt;\n",
       "                     Click me!\n",
       "                 &lt;/div&gt;`,\n",
       "                {&quot;sticky&quot;: true}\n",
       "            );\n",
       "        \n",
       "    \n",
       "            var marker_44ba4221788551b8875f86512561097a = L.marker(\n",
       "                [35.6892, 51.389],\n",
       "                {}\n",
       "            ).addTo(map_c8e43132f85abcda8857470d3fc21d6f);\n",
       "        \n",
       "    \n",
       "            var icon_75a314b93e4055967f841a304e645501 = L.AwesomeMarkers.icon(\n",
       "                {&quot;extraClasses&quot;: &quot;fa-rotate-0&quot;, &quot;icon&quot;: &quot;star&quot;, &quot;iconColor&quot;: &quot;white&quot;, &quot;markerColor&quot;: &quot;orange&quot;, &quot;prefix&quot;: &quot;glyphicon&quot;}\n",
       "            );\n",
       "            marker_44ba4221788551b8875f86512561097a.setIcon(icon_75a314b93e4055967f841a304e645501);\n",
       "        \n",
       "    \n",
       "        var popup_75dc0eb462f92847fd24a98b2513e7e1 = L.popup({&quot;maxWidth&quot;: &quot;100%&quot;});\n",
       "\n",
       "        \n",
       "            \n",
       "                var html_37c19ae15214429d3dbc70381f15f8ae = $(`&lt;div id=&quot;html_37c19ae15214429d3dbc70381f15f8ae&quot; style=&quot;width: 100.0%; height: 100.0%;&quot;&gt;      &lt;div style=&quot;min-width: 250px; max-width: 300px; font-size: 14px;&quot;&gt;          &lt;strong&gt;Country:&lt;/strong&gt; Iran&lt;br&gt;         &lt;strong&gt;Capital:&lt;/strong&gt; Tehran&lt;br&gt;         &lt;strong&gt;Diversity:&lt;/strong&gt; Low&lt;br&gt;         &lt;strong&gt;Safety:&lt;/strong&gt; 4&lt;br&gt;         &lt;strong&gt;Hospitality:&lt;/strong&gt; 5&lt;br&gt;         &lt;strong&gt;History:&lt;/strong&gt; 5&lt;br&gt;         &lt;strong&gt;Will I return?:&lt;/strong&gt; Yes&lt;br&gt;     &lt;/div&gt;     &lt;/div&gt;`)[0];\n",
       "                popup_75dc0eb462f92847fd24a98b2513e7e1.setContent(html_37c19ae15214429d3dbc70381f15f8ae);\n",
       "            \n",
       "        \n",
       "\n",
       "        marker_44ba4221788551b8875f86512561097a.bindPopup(popup_75dc0eb462f92847fd24a98b2513e7e1)\n",
       "        ;\n",
       "\n",
       "        \n",
       "    \n",
       "    \n",
       "            marker_44ba4221788551b8875f86512561097a.bindTooltip(\n",
       "                `&lt;div&gt;\n",
       "                     Click me!\n",
       "                 &lt;/div&gt;`,\n",
       "                {&quot;sticky&quot;: true}\n",
       "            );\n",
       "        \n",
       "    \n",
       "            var marker_09c38272878bad2eb5c250b04f1f2d06 = L.marker(\n",
       "                [24.4539, 54.3773],\n",
       "                {}\n",
       "            ).addTo(map_c8e43132f85abcda8857470d3fc21d6f);\n",
       "        \n",
       "    \n",
       "            var icon_213034100a949ca18ef51caf1d3419b8 = L.AwesomeMarkers.icon(\n",
       "                {&quot;extraClasses&quot;: &quot;fa-rotate-0&quot;, &quot;icon&quot;: &quot;star&quot;, &quot;iconColor&quot;: &quot;white&quot;, &quot;markerColor&quot;: &quot;red&quot;, &quot;prefix&quot;: &quot;glyphicon&quot;}\n",
       "            );\n",
       "            marker_09c38272878bad2eb5c250b04f1f2d06.setIcon(icon_213034100a949ca18ef51caf1d3419b8);\n",
       "        \n",
       "    \n",
       "        var popup_8ab29cbd933e0ed0e429e011681958fc = L.popup({&quot;maxWidth&quot;: &quot;100%&quot;});\n",
       "\n",
       "        \n",
       "            \n",
       "                var html_96bc85cc2e30c730ed8990b818c6d040 = $(`&lt;div id=&quot;html_96bc85cc2e30c730ed8990b818c6d040&quot; style=&quot;width: 100.0%; height: 100.0%;&quot;&gt;      &lt;div style=&quot;min-width: 250px; max-width: 300px; font-size: 14px;&quot;&gt;          &lt;strong&gt;Country:&lt;/strong&gt; UAE&lt;br&gt;         &lt;strong&gt;Capital:&lt;/strong&gt; Dubai&lt;br&gt;         &lt;strong&gt;Diversity:&lt;/strong&gt; Medium&lt;br&gt;         &lt;strong&gt;Safety:&lt;/strong&gt; 4&lt;br&gt;         &lt;strong&gt;Hospitality:&lt;/strong&gt; 2&lt;br&gt;         &lt;strong&gt;History:&lt;/strong&gt; 1&lt;br&gt;         &lt;strong&gt;Will I return?:&lt;/strong&gt; No&lt;br&gt;     &lt;/div&gt;     &lt;/div&gt;`)[0];\n",
       "                popup_8ab29cbd933e0ed0e429e011681958fc.setContent(html_96bc85cc2e30c730ed8990b818c6d040);\n",
       "            \n",
       "        \n",
       "\n",
       "        marker_09c38272878bad2eb5c250b04f1f2d06.bindPopup(popup_8ab29cbd933e0ed0e429e011681958fc)\n",
       "        ;\n",
       "\n",
       "        \n",
       "    \n",
       "    \n",
       "            marker_09c38272878bad2eb5c250b04f1f2d06.bindTooltip(\n",
       "                `&lt;div&gt;\n",
       "                     Click me!\n",
       "                 &lt;/div&gt;`,\n",
       "                {&quot;sticky&quot;: true}\n",
       "            );\n",
       "        \n",
       "    \n",
       "            var marker_1db1d5cc589890a22beb3f3d73117fb8 = L.marker(\n",
       "                [41.0082, 28.9784],\n",
       "                {}\n",
       "            ).addTo(map_c8e43132f85abcda8857470d3fc21d6f);\n",
       "        \n",
       "    \n",
       "            var icon_0239f89a58e99ee570d0a8dea3697e22 = L.AwesomeMarkers.icon(\n",
       "                {&quot;extraClasses&quot;: &quot;fa-rotate-0&quot;, &quot;icon&quot;: &quot;star&quot;, &quot;iconColor&quot;: &quot;white&quot;, &quot;markerColor&quot;: &quot;blue&quot;, &quot;prefix&quot;: &quot;glyphicon&quot;}\n",
       "            );\n",
       "            marker_1db1d5cc589890a22beb3f3d73117fb8.setIcon(icon_0239f89a58e99ee570d0a8dea3697e22);\n",
       "        \n",
       "    \n",
       "        var popup_6c3260f0844827f9af7a5feed186477c = L.popup({&quot;maxWidth&quot;: &quot;100%&quot;});\n",
       "\n",
       "        \n",
       "            \n",
       "                var html_01dda61eaa897616909783c8613f134f = $(`&lt;div id=&quot;html_01dda61eaa897616909783c8613f134f&quot; style=&quot;width: 100.0%; height: 100.0%;&quot;&gt;      &lt;div style=&quot;min-width: 250px; max-width: 300px; font-size: 14px;&quot;&gt;          &lt;strong&gt;Country:&lt;/strong&gt; Turkey&lt;br&gt;         &lt;strong&gt;Capital:&lt;/strong&gt; Istabul&lt;br&gt;         &lt;strong&gt;Diversity:&lt;/strong&gt; Low&lt;br&gt;         &lt;strong&gt;Safety:&lt;/strong&gt; 4&lt;br&gt;         &lt;strong&gt;Hospitality:&lt;/strong&gt; 5&lt;br&gt;         &lt;strong&gt;History:&lt;/strong&gt; 5&lt;br&gt;         &lt;strong&gt;Will I return?:&lt;/strong&gt; Yes&lt;br&gt;     &lt;/div&gt;     &lt;/div&gt;`)[0];\n",
       "                popup_6c3260f0844827f9af7a5feed186477c.setContent(html_01dda61eaa897616909783c8613f134f);\n",
       "            \n",
       "        \n",
       "\n",
       "        marker_1db1d5cc589890a22beb3f3d73117fb8.bindPopup(popup_6c3260f0844827f9af7a5feed186477c)\n",
       "        ;\n",
       "\n",
       "        \n",
       "    \n",
       "    \n",
       "            marker_1db1d5cc589890a22beb3f3d73117fb8.bindTooltip(\n",
       "                `&lt;div&gt;\n",
       "                     Click me!\n",
       "                 &lt;/div&gt;`,\n",
       "                {&quot;sticky&quot;: true}\n",
       "            );\n",
       "        \n",
       "    \n",
       "            var marker_6d7f687622536b4f717b1e9bd231cb79 = L.marker(\n",
       "                [-37.8136, 144.9631],\n",
       "                {}\n",
       "            ).addTo(map_c8e43132f85abcda8857470d3fc21d6f);\n",
       "        \n",
       "    \n",
       "            var icon_9320d9544687cd9791b2d93863d50b94 = L.AwesomeMarkers.icon(\n",
       "                {&quot;extraClasses&quot;: &quot;fa-rotate-0&quot;, &quot;icon&quot;: &quot;star&quot;, &quot;iconColor&quot;: &quot;white&quot;, &quot;markerColor&quot;: &quot;green&quot;, &quot;prefix&quot;: &quot;glyphicon&quot;}\n",
       "            );\n",
       "            marker_6d7f687622536b4f717b1e9bd231cb79.setIcon(icon_9320d9544687cd9791b2d93863d50b94);\n",
       "        \n",
       "    \n",
       "        var popup_f0118056a5f2f29fd895a761b5b24cc4 = L.popup({&quot;maxWidth&quot;: &quot;100%&quot;});\n",
       "\n",
       "        \n",
       "            \n",
       "                var html_67dec507ff690bf1fb2e7cf974fa6d99 = $(`&lt;div id=&quot;html_67dec507ff690bf1fb2e7cf974fa6d99&quot; style=&quot;width: 100.0%; height: 100.0%;&quot;&gt;      &lt;div style=&quot;min-width: 250px; max-width: 300px; font-size: 14px;&quot;&gt;          &lt;strong&gt;Country:&lt;/strong&gt; Australia&lt;br&gt;         &lt;strong&gt;Capital:&lt;/strong&gt; Melbourne&lt;br&gt;         &lt;strong&gt;Diversity:&lt;/strong&gt; High&lt;br&gt;         &lt;strong&gt;Safety:&lt;/strong&gt; 4&lt;br&gt;         &lt;strong&gt;Hospitality:&lt;/strong&gt; 3&lt;br&gt;         &lt;strong&gt;History:&lt;/strong&gt; 2&lt;br&gt;         &lt;strong&gt;Will I return?:&lt;/strong&gt; Yes&lt;br&gt;     &lt;/div&gt;     &lt;/div&gt;`)[0];\n",
       "                popup_f0118056a5f2f29fd895a761b5b24cc4.setContent(html_67dec507ff690bf1fb2e7cf974fa6d99);\n",
       "            \n",
       "        \n",
       "\n",
       "        marker_6d7f687622536b4f717b1e9bd231cb79.bindPopup(popup_f0118056a5f2f29fd895a761b5b24cc4)\n",
       "        ;\n",
       "\n",
       "        \n",
       "    \n",
       "    \n",
       "            marker_6d7f687622536b4f717b1e9bd231cb79.bindTooltip(\n",
       "                `&lt;div&gt;\n",
       "                     Click me!\n",
       "                 &lt;/div&gt;`,\n",
       "                {&quot;sticky&quot;: true}\n",
       "            );\n",
       "        \n",
       "    \n",
       "            var marker_5c896fb47eff3e28cacc547f4b35c973 = L.marker(\n",
       "                [8.5241, 76.9366],\n",
       "                {}\n",
       "            ).addTo(map_c8e43132f85abcda8857470d3fc21d6f);\n",
       "        \n",
       "    \n",
       "            var icon_750c0ea4035573bdf8b85b170b42a951 = L.AwesomeMarkers.icon(\n",
       "                {&quot;extraClasses&quot;: &quot;fa-rotate-0&quot;, &quot;icon&quot;: &quot;star&quot;, &quot;iconColor&quot;: &quot;white&quot;, &quot;markerColor&quot;: &quot;purple&quot;, &quot;prefix&quot;: &quot;glyphicon&quot;}\n",
       "            );\n",
       "            marker_5c896fb47eff3e28cacc547f4b35c973.setIcon(icon_750c0ea4035573bdf8b85b170b42a951);\n",
       "        \n",
       "    \n",
       "        var popup_34ca427f9986991ee9537fba286e7f33 = L.popup({&quot;maxWidth&quot;: &quot;100%&quot;});\n",
       "\n",
       "        \n",
       "            \n",
       "                var html_7df52b236247627907edc2155ee3de00 = $(`&lt;div id=&quot;html_7df52b236247627907edc2155ee3de00&quot; style=&quot;width: 100.0%; height: 100.0%;&quot;&gt;      &lt;div style=&quot;min-width: 250px; max-width: 300px; font-size: 14px;&quot;&gt;          &lt;strong&gt;Country:&lt;/strong&gt; India&lt;br&gt;         &lt;strong&gt;Capital:&lt;/strong&gt; Kerala&lt;br&gt;         &lt;strong&gt;Diversity:&lt;/strong&gt; Low&lt;br&gt;         &lt;strong&gt;Safety:&lt;/strong&gt; 2&lt;br&gt;         &lt;strong&gt;Hospitality:&lt;/strong&gt; 3&lt;br&gt;         &lt;strong&gt;History:&lt;/strong&gt; 1&lt;br&gt;         &lt;strong&gt;Will I return?:&lt;/strong&gt; Indifferent&lt;br&gt;     &lt;/div&gt;     &lt;/div&gt;`)[0];\n",
       "                popup_34ca427f9986991ee9537fba286e7f33.setContent(html_7df52b236247627907edc2155ee3de00);\n",
       "            \n",
       "        \n",
       "\n",
       "        marker_5c896fb47eff3e28cacc547f4b35c973.bindPopup(popup_34ca427f9986991ee9537fba286e7f33)\n",
       "        ;\n",
       "\n",
       "        \n",
       "    \n",
       "    \n",
       "            marker_5c896fb47eff3e28cacc547f4b35c973.bindTooltip(\n",
       "                `&lt;div&gt;\n",
       "                     Click me!\n",
       "                 &lt;/div&gt;`,\n",
       "                {&quot;sticky&quot;: true}\n",
       "            );\n",
       "        \n",
       "    \n",
       "            var marker_35bffea9217c39dc1ed2d54748eed23d = L.marker(\n",
       "                [1.3521, 103.8198],\n",
       "                {}\n",
       "            ).addTo(map_c8e43132f85abcda8857470d3fc21d6f);\n",
       "        \n",
       "    \n",
       "            var icon_31b1d56313ce5d2f455b3f14a44df408 = L.AwesomeMarkers.icon(\n",
       "                {&quot;extraClasses&quot;: &quot;fa-rotate-0&quot;, &quot;icon&quot;: &quot;star&quot;, &quot;iconColor&quot;: &quot;white&quot;, &quot;markerColor&quot;: &quot;orange&quot;, &quot;prefix&quot;: &quot;glyphicon&quot;}\n",
       "            );\n",
       "            marker_35bffea9217c39dc1ed2d54748eed23d.setIcon(icon_31b1d56313ce5d2f455b3f14a44df408);\n",
       "        \n",
       "    \n",
       "        var popup_b36c3f4659b1051bf50a5ac91e874c45 = L.popup({&quot;maxWidth&quot;: &quot;100%&quot;});\n",
       "\n",
       "        \n",
       "            \n",
       "                var html_1ded7e9eb65f59eafa3a08d61d78da97 = $(`&lt;div id=&quot;html_1ded7e9eb65f59eafa3a08d61d78da97&quot; style=&quot;width: 100.0%; height: 100.0%;&quot;&gt;      &lt;div style=&quot;min-width: 250px; max-width: 300px; font-size: 14px;&quot;&gt;          &lt;strong&gt;Country:&lt;/strong&gt; Singapore&lt;br&gt;         &lt;strong&gt;Capital:&lt;/strong&gt; Singapore&lt;br&gt;         &lt;strong&gt;Diversity:&lt;/strong&gt; Medium&lt;br&gt;         &lt;strong&gt;Safety:&lt;/strong&gt; 4&lt;br&gt;         &lt;strong&gt;Hospitality:&lt;/strong&gt; 2&lt;br&gt;         &lt;strong&gt;History:&lt;/strong&gt; 1&lt;br&gt;         &lt;strong&gt;Will I return?:&lt;/strong&gt; Indifferent&lt;br&gt;     &lt;/div&gt;     &lt;/div&gt;`)[0];\n",
       "                popup_b36c3f4659b1051bf50a5ac91e874c45.setContent(html_1ded7e9eb65f59eafa3a08d61d78da97);\n",
       "            \n",
       "        \n",
       "\n",
       "        marker_35bffea9217c39dc1ed2d54748eed23d.bindPopup(popup_b36c3f4659b1051bf50a5ac91e874c45)\n",
       "        ;\n",
       "\n",
       "        \n",
       "    \n",
       "    \n",
       "            marker_35bffea9217c39dc1ed2d54748eed23d.bindTooltip(\n",
       "                `&lt;div&gt;\n",
       "                     Click me!\n",
       "                 &lt;/div&gt;`,\n",
       "                {&quot;sticky&quot;: true}\n",
       "            );\n",
       "        \n",
       "    \n",
       "            var marker_7ee15b026fc44dd7e8a55b848f7ad466 = L.marker(\n",
       "                [-8.3405, 115.092],\n",
       "                {}\n",
       "            ).addTo(map_c8e43132f85abcda8857470d3fc21d6f);\n",
       "        \n",
       "    \n",
       "            var icon_5ba6f7ac3972f7902aca45b9f27eff60 = L.AwesomeMarkers.icon(\n",
       "                {&quot;extraClasses&quot;: &quot;fa-rotate-0&quot;, &quot;icon&quot;: &quot;star&quot;, &quot;iconColor&quot;: &quot;white&quot;, &quot;markerColor&quot;: &quot;red&quot;, &quot;prefix&quot;: &quot;glyphicon&quot;}\n",
       "            );\n",
       "            marker_7ee15b026fc44dd7e8a55b848f7ad466.setIcon(icon_5ba6f7ac3972f7902aca45b9f27eff60);\n",
       "        \n",
       "    \n",
       "        var popup_556ad6d7d38e97763d8be16c36b569d4 = L.popup({&quot;maxWidth&quot;: &quot;100%&quot;});\n",
       "\n",
       "        \n",
       "            \n",
       "                var html_dae419d0e22bac3995a34c4afce421fa = $(`&lt;div id=&quot;html_dae419d0e22bac3995a34c4afce421fa&quot; style=&quot;width: 100.0%; height: 100.0%;&quot;&gt;      &lt;div style=&quot;min-width: 250px; max-width: 300px; font-size: 14px;&quot;&gt;          &lt;strong&gt;Country:&lt;/strong&gt; Indonesia&lt;br&gt;         &lt;strong&gt;Capital:&lt;/strong&gt; Denpasar&lt;br&gt;         &lt;strong&gt;Diversity:&lt;/strong&gt; Low&lt;br&gt;         &lt;strong&gt;Safety:&lt;/strong&gt; 4&lt;br&gt;         &lt;strong&gt;Hospitality:&lt;/strong&gt; 5&lt;br&gt;         &lt;strong&gt;History:&lt;/strong&gt; 1&lt;br&gt;         &lt;strong&gt;Will I return?:&lt;/strong&gt; Yes&lt;br&gt;     &lt;/div&gt;     &lt;/div&gt;`)[0];\n",
       "                popup_556ad6d7d38e97763d8be16c36b569d4.setContent(html_dae419d0e22bac3995a34c4afce421fa);\n",
       "            \n",
       "        \n",
       "\n",
       "        marker_7ee15b026fc44dd7e8a55b848f7ad466.bindPopup(popup_556ad6d7d38e97763d8be16c36b569d4)\n",
       "        ;\n",
       "\n",
       "        \n",
       "    \n",
       "    \n",
       "            marker_7ee15b026fc44dd7e8a55b848f7ad466.bindTooltip(\n",
       "                `&lt;div&gt;\n",
       "                     Click me!\n",
       "                 &lt;/div&gt;`,\n",
       "                {&quot;sticky&quot;: true}\n",
       "            );\n",
       "        \n",
       "    \n",
       "            var marker_d0b2b253a7e36828481d06e8d99a50ce = L.marker(\n",
       "                [13.7563, 100.5018],\n",
       "                {}\n",
       "            ).addTo(map_c8e43132f85abcda8857470d3fc21d6f);\n",
       "        \n",
       "    \n",
       "            var icon_02bd3068b9627e847e73ad58e94433c9 = L.AwesomeMarkers.icon(\n",
       "                {&quot;extraClasses&quot;: &quot;fa-rotate-0&quot;, &quot;icon&quot;: &quot;star&quot;, &quot;iconColor&quot;: &quot;white&quot;, &quot;markerColor&quot;: &quot;blue&quot;, &quot;prefix&quot;: &quot;glyphicon&quot;}\n",
       "            );\n",
       "            marker_d0b2b253a7e36828481d06e8d99a50ce.setIcon(icon_02bd3068b9627e847e73ad58e94433c9);\n",
       "        \n",
       "    \n",
       "        var popup_e93136b8746987d840a04a411b257089 = L.popup({&quot;maxWidth&quot;: &quot;100%&quot;});\n",
       "\n",
       "        \n",
       "            \n",
       "                var html_1a7b4dd5f35c220c33429c9f13377c06 = $(`&lt;div id=&quot;html_1a7b4dd5f35c220c33429c9f13377c06&quot; style=&quot;width: 100.0%; height: 100.0%;&quot;&gt;      &lt;div style=&quot;min-width: 250px; max-width: 300px; font-size: 14px;&quot;&gt;          &lt;strong&gt;Country:&lt;/strong&gt; Thailand&lt;br&gt;         &lt;strong&gt;Capital:&lt;/strong&gt; Bangkok&lt;br&gt;         &lt;strong&gt;Diversity:&lt;/strong&gt; Low&lt;br&gt;         &lt;strong&gt;Safety:&lt;/strong&gt; 4&lt;br&gt;         &lt;strong&gt;Hospitality:&lt;/strong&gt; 4&lt;br&gt;         &lt;strong&gt;History:&lt;/strong&gt; 1&lt;br&gt;         &lt;strong&gt;Will I return?:&lt;/strong&gt; Yes&lt;br&gt;     &lt;/div&gt;     &lt;/div&gt;`)[0];\n",
       "                popup_e93136b8746987d840a04a411b257089.setContent(html_1a7b4dd5f35c220c33429c9f13377c06);\n",
       "            \n",
       "        \n",
       "\n",
       "        marker_d0b2b253a7e36828481d06e8d99a50ce.bindPopup(popup_e93136b8746987d840a04a411b257089)\n",
       "        ;\n",
       "\n",
       "        \n",
       "    \n",
       "    \n",
       "            marker_d0b2b253a7e36828481d06e8d99a50ce.bindTooltip(\n",
       "                `&lt;div&gt;\n",
       "                     Click me!\n",
       "                 &lt;/div&gt;`,\n",
       "                {&quot;sticky&quot;: true}\n",
       "            );\n",
       "        \n",
       "    \n",
       "            var marker_faee92f18b95686984e329a5e548c3d5 = L.marker(\n",
       "                [42.6977, 23.3219],\n",
       "                {}\n",
       "            ).addTo(map_c8e43132f85abcda8857470d3fc21d6f);\n",
       "        \n",
       "    \n",
       "            var icon_2478d7f6488d55048d9ba99a0b0584f8 = L.AwesomeMarkers.icon(\n",
       "                {&quot;extraClasses&quot;: &quot;fa-rotate-0&quot;, &quot;icon&quot;: &quot;star&quot;, &quot;iconColor&quot;: &quot;white&quot;, &quot;markerColor&quot;: &quot;green&quot;, &quot;prefix&quot;: &quot;glyphicon&quot;}\n",
       "            );\n",
       "            marker_faee92f18b95686984e329a5e548c3d5.setIcon(icon_2478d7f6488d55048d9ba99a0b0584f8);\n",
       "        \n",
       "    \n",
       "        var popup_e4a183a1c74dc09ae6ac3f101b226d78 = L.popup({&quot;maxWidth&quot;: &quot;100%&quot;});\n",
       "\n",
       "        \n",
       "            \n",
       "                var html_b197aa1b363bd2ce8dc46b4154142364 = $(`&lt;div id=&quot;html_b197aa1b363bd2ce8dc46b4154142364&quot; style=&quot;width: 100.0%; height: 100.0%;&quot;&gt;      &lt;div style=&quot;min-width: 250px; max-width: 300px; font-size: 14px;&quot;&gt;          &lt;strong&gt;Country:&lt;/strong&gt; Bulgaria&lt;br&gt;         &lt;strong&gt;Capital:&lt;/strong&gt; Sofia&lt;br&gt;         &lt;strong&gt;Diversity:&lt;/strong&gt; Low&lt;br&gt;         &lt;strong&gt;Safety:&lt;/strong&gt; 4&lt;br&gt;         &lt;strong&gt;Hospitality:&lt;/strong&gt; 4&lt;br&gt;         &lt;strong&gt;History:&lt;/strong&gt; 2&lt;br&gt;         &lt;strong&gt;Will I return?:&lt;/strong&gt; No&lt;br&gt;     &lt;/div&gt;     &lt;/div&gt;`)[0];\n",
       "                popup_e4a183a1c74dc09ae6ac3f101b226d78.setContent(html_b197aa1b363bd2ce8dc46b4154142364);\n",
       "            \n",
       "        \n",
       "\n",
       "        marker_faee92f18b95686984e329a5e548c3d5.bindPopup(popup_e4a183a1c74dc09ae6ac3f101b226d78)\n",
       "        ;\n",
       "\n",
       "        \n",
       "    \n",
       "    \n",
       "            marker_faee92f18b95686984e329a5e548c3d5.bindTooltip(\n",
       "                `&lt;div&gt;\n",
       "                     Click me!\n",
       "                 &lt;/div&gt;`,\n",
       "                {&quot;sticky&quot;: true}\n",
       "            );\n",
       "        \n",
       "    \n",
       "            var marker_ea0bb6be774bf00f80e3d28b25b7d4ad = L.marker(\n",
       "                [44.4268, 26.1025],\n",
       "                {}\n",
       "            ).addTo(map_c8e43132f85abcda8857470d3fc21d6f);\n",
       "        \n",
       "    \n",
       "            var icon_807a17785cd0a204a07975656974c25b = L.AwesomeMarkers.icon(\n",
       "                {&quot;extraClasses&quot;: &quot;fa-rotate-0&quot;, &quot;icon&quot;: &quot;star&quot;, &quot;iconColor&quot;: &quot;white&quot;, &quot;markerColor&quot;: &quot;purple&quot;, &quot;prefix&quot;: &quot;glyphicon&quot;}\n",
       "            );\n",
       "            marker_ea0bb6be774bf00f80e3d28b25b7d4ad.setIcon(icon_807a17785cd0a204a07975656974c25b);\n",
       "        \n",
       "    \n",
       "        var popup_8b7c5a0cf269df1de409761931e69b17 = L.popup({&quot;maxWidth&quot;: &quot;100%&quot;});\n",
       "\n",
       "        \n",
       "            \n",
       "                var html_f16fe4205a172fed25967792b44258b6 = $(`&lt;div id=&quot;html_f16fe4205a172fed25967792b44258b6&quot; style=&quot;width: 100.0%; height: 100.0%;&quot;&gt;      &lt;div style=&quot;min-width: 250px; max-width: 300px; font-size: 14px;&quot;&gt;          &lt;strong&gt;Country:&lt;/strong&gt; Romania&lt;br&gt;         &lt;strong&gt;Capital:&lt;/strong&gt; Bucharest&lt;br&gt;         &lt;strong&gt;Diversity:&lt;/strong&gt; Low&lt;br&gt;         &lt;strong&gt;Safety:&lt;/strong&gt; 2&lt;br&gt;         &lt;strong&gt;Hospitality:&lt;/strong&gt; 3&lt;br&gt;         &lt;strong&gt;History:&lt;/strong&gt; 2&lt;br&gt;         &lt;strong&gt;Will I return?:&lt;/strong&gt; No&lt;br&gt;     &lt;/div&gt;     &lt;/div&gt;`)[0];\n",
       "                popup_8b7c5a0cf269df1de409761931e69b17.setContent(html_f16fe4205a172fed25967792b44258b6);\n",
       "            \n",
       "        \n",
       "\n",
       "        marker_ea0bb6be774bf00f80e3d28b25b7d4ad.bindPopup(popup_8b7c5a0cf269df1de409761931e69b17)\n",
       "        ;\n",
       "\n",
       "        \n",
       "    \n",
       "    \n",
       "            marker_ea0bb6be774bf00f80e3d28b25b7d4ad.bindTooltip(\n",
       "                `&lt;div&gt;\n",
       "                     Click me!\n",
       "                 &lt;/div&gt;`,\n",
       "                {&quot;sticky&quot;: true}\n",
       "            );\n",
       "        \n",
       "    \n",
       "            var marker_eaa3200b59e2af7e59246e0b216804a3 = L.marker(\n",
       "                [52.52, 13.405],\n",
       "                {}\n",
       "            ).addTo(map_c8e43132f85abcda8857470d3fc21d6f);\n",
       "        \n",
       "    \n",
       "            var icon_62e3269e5d507915528c089a4aca9302 = L.AwesomeMarkers.icon(\n",
       "                {&quot;extraClasses&quot;: &quot;fa-rotate-0&quot;, &quot;icon&quot;: &quot;star&quot;, &quot;iconColor&quot;: &quot;white&quot;, &quot;markerColor&quot;: &quot;orange&quot;, &quot;prefix&quot;: &quot;glyphicon&quot;}\n",
       "            );\n",
       "            marker_eaa3200b59e2af7e59246e0b216804a3.setIcon(icon_62e3269e5d507915528c089a4aca9302);\n",
       "        \n",
       "    \n",
       "        var popup_e3f029e178f06267a6beb5a5a5c4ab96 = L.popup({&quot;maxWidth&quot;: &quot;100%&quot;});\n",
       "\n",
       "        \n",
       "            \n",
       "                var html_9455a85894cf2bc88aa3ac63db74ab55 = $(`&lt;div id=&quot;html_9455a85894cf2bc88aa3ac63db74ab55&quot; style=&quot;width: 100.0%; height: 100.0%;&quot;&gt;      &lt;div style=&quot;min-width: 250px; max-width: 300px; font-size: 14px;&quot;&gt;          &lt;strong&gt;Country:&lt;/strong&gt; Germany&lt;br&gt;         &lt;strong&gt;Capital:&lt;/strong&gt; Berlin&lt;br&gt;         &lt;strong&gt;Diversity:&lt;/strong&gt; Low&lt;br&gt;         &lt;strong&gt;Safety:&lt;/strong&gt; 4&lt;br&gt;         &lt;strong&gt;Hospitality:&lt;/strong&gt; 1&lt;br&gt;         &lt;strong&gt;History:&lt;/strong&gt; 4&lt;br&gt;         &lt;strong&gt;Will I return?:&lt;/strong&gt; No&lt;br&gt;     &lt;/div&gt;     &lt;/div&gt;`)[0];\n",
       "                popup_e3f029e178f06267a6beb5a5a5c4ab96.setContent(html_9455a85894cf2bc88aa3ac63db74ab55);\n",
       "            \n",
       "        \n",
       "\n",
       "        marker_eaa3200b59e2af7e59246e0b216804a3.bindPopup(popup_e3f029e178f06267a6beb5a5a5c4ab96)\n",
       "        ;\n",
       "\n",
       "        \n",
       "    \n",
       "    \n",
       "            marker_eaa3200b59e2af7e59246e0b216804a3.bindTooltip(\n",
       "                `&lt;div&gt;\n",
       "                     Click me!\n",
       "                 &lt;/div&gt;`,\n",
       "                {&quot;sticky&quot;: true}\n",
       "            );\n",
       "        \n",
       "    \n",
       "            var marker_f2e0761e3118ec11329091a504dd83f7 = L.marker(\n",
       "                [48.8566, 2.3522],\n",
       "                {}\n",
       "            ).addTo(map_c8e43132f85abcda8857470d3fc21d6f);\n",
       "        \n",
       "    \n",
       "            var icon_10e29c1dd5679e2b4d2bc1e476a7bb98 = L.AwesomeMarkers.icon(\n",
       "                {&quot;extraClasses&quot;: &quot;fa-rotate-0&quot;, &quot;icon&quot;: &quot;star&quot;, &quot;iconColor&quot;: &quot;white&quot;, &quot;markerColor&quot;: &quot;red&quot;, &quot;prefix&quot;: &quot;glyphicon&quot;}\n",
       "            );\n",
       "            marker_f2e0761e3118ec11329091a504dd83f7.setIcon(icon_10e29c1dd5679e2b4d2bc1e476a7bb98);\n",
       "        \n",
       "    \n",
       "        var popup_3bdefac896f5e903fa6d8bf6677e8a5a = L.popup({&quot;maxWidth&quot;: &quot;100%&quot;});\n",
       "\n",
       "        \n",
       "            \n",
       "                var html_7b3ef2090defcbd4e139da912ea4f4e9 = $(`&lt;div id=&quot;html_7b3ef2090defcbd4e139da912ea4f4e9&quot; style=&quot;width: 100.0%; height: 100.0%;&quot;&gt;      &lt;div style=&quot;min-width: 250px; max-width: 300px; font-size: 14px;&quot;&gt;          &lt;strong&gt;Country:&lt;/strong&gt; France&lt;br&gt;         &lt;strong&gt;Capital:&lt;/strong&gt; Paris&lt;br&gt;         &lt;strong&gt;Diversity:&lt;/strong&gt; High&lt;br&gt;         &lt;strong&gt;Safety:&lt;/strong&gt; 4&lt;br&gt;         &lt;strong&gt;Hospitality:&lt;/strong&gt; 3&lt;br&gt;         &lt;strong&gt;History:&lt;/strong&gt; 5&lt;br&gt;         &lt;strong&gt;Will I return?:&lt;/strong&gt; Yes&lt;br&gt;     &lt;/div&gt;     &lt;/div&gt;`)[0];\n",
       "                popup_3bdefac896f5e903fa6d8bf6677e8a5a.setContent(html_7b3ef2090defcbd4e139da912ea4f4e9);\n",
       "            \n",
       "        \n",
       "\n",
       "        marker_f2e0761e3118ec11329091a504dd83f7.bindPopup(popup_3bdefac896f5e903fa6d8bf6677e8a5a)\n",
       "        ;\n",
       "\n",
       "        \n",
       "    \n",
       "    \n",
       "            marker_f2e0761e3118ec11329091a504dd83f7.bindTooltip(\n",
       "                `&lt;div&gt;\n",
       "                     Click me!\n",
       "                 &lt;/div&gt;`,\n",
       "                {&quot;sticky&quot;: true}\n",
       "            );\n",
       "        \n",
       "    \n",
       "            var tile_layer_cf5b79524f86b5fe927537b9656f22fb = L.tileLayer(\n",
       "                &quot;https://{s}.basemaps.cartocdn.com/dark_all/{z}/{x}/{y}{r}.png&quot;,\n",
       "                {&quot;attribution&quot;: &quot;\\u0026copy; \\u003ca href=\\&quot;https://www.openstreetmap.org/copyright\\&quot;\\u003eOpenStreetMap\\u003c/a\\u003e contributors \\u0026copy; \\u003ca href=\\&quot;https://carto.com/attributions\\&quot;\\u003eCARTO\\u003c/a\\u003e&quot;, &quot;detectRetina&quot;: false, &quot;maxNativeZoom&quot;: 20, &quot;maxZoom&quot;: 20, &quot;minZoom&quot;: 0, &quot;noWrap&quot;: false, &quot;opacity&quot;: 1, &quot;subdomains&quot;: &quot;abcd&quot;, &quot;tms&quot;: false}\n",
       "            );\n",
       "        \n",
       "    \n",
       "            tile_layer_cf5b79524f86b5fe927537b9656f22fb.addTo(map_c8e43132f85abcda8857470d3fc21d6f);\n",
       "        \n",
       "    \n",
       "            var tile_layer_423a5cd08e2377b0f2267448a4917148 = L.tileLayer(\n",
       "                &quot;https://{s}.basemaps.cartocdn.com/light_all/{z}/{x}/{y}{r}.png&quot;,\n",
       "                {&quot;attribution&quot;: &quot;\\u0026copy; \\u003ca href=\\&quot;https://www.openstreetmap.org/copyright\\&quot;\\u003eOpenStreetMap\\u003c/a\\u003e contributors \\u0026copy; \\u003ca href=\\&quot;https://carto.com/attributions\\&quot;\\u003eCARTO\\u003c/a\\u003e&quot;, &quot;detectRetina&quot;: false, &quot;maxNativeZoom&quot;: 20, &quot;maxZoom&quot;: 20, &quot;minZoom&quot;: 0, &quot;noWrap&quot;: false, &quot;opacity&quot;: 1, &quot;subdomains&quot;: &quot;abcd&quot;, &quot;tms&quot;: false}\n",
       "            );\n",
       "        \n",
       "    \n",
       "            tile_layer_423a5cd08e2377b0f2267448a4917148.addTo(map_c8e43132f85abcda8857470d3fc21d6f);\n",
       "        \n",
       "    \n",
       "            var side_by_side_layers_5930a50fc53650995fe0092d966a5e7f = L.control.sideBySide(\n",
       "                tile_layer_cf5b79524f86b5fe927537b9656f22fb, tile_layer_423a5cd08e2377b0f2267448a4917148\n",
       "            ).addTo(map_c8e43132f85abcda8857470d3fc21d6f);\n",
       "        \n",
       "    \n",
       "            var mouse_position_8de348c96b0508eb9eb2993f17d58d36 = new L.Control.MousePosition(\n",
       "                {&quot;emptyString&quot;: &quot;NaN&quot;, &quot;lngFirst&quot;: true, &quot;numDigits&quot;: 20, &quot;position&quot;: &quot;topright&quot;, &quot;prefix&quot;: &quot;Coordinates:&quot;, &quot;separator&quot;: &quot; | &quot;}\n",
       "            );\n",
       "            mouse_position_8de348c96b0508eb9eb2993f17d58d36.options[&quot;latFormatter&quot;] =\n",
       "                function(num) {return L.Util.formatNum(num, 3) + &#x27; &amp;deg; &#x27;;};;\n",
       "            mouse_position_8de348c96b0508eb9eb2993f17d58d36.options[&quot;lngFormatter&quot;] =\n",
       "                function(num) {return L.Util.formatNum(num, 3) + &#x27; &amp;deg; &#x27;;};;\n",
       "            map_c8e43132f85abcda8857470d3fc21d6f.addControl(mouse_position_8de348c96b0508eb9eb2993f17d58d36);\n",
       "        \n",
       "    \n",
       "            map_c8e43132f85abcda8857470d3fc21d6f.fitBounds(\n",
       "                [[-37.8136, 2.3522], [52.52, 144.9631]],\n",
       "                {}\n",
       "            );\n",
       "        \n",
       "&lt;/script&gt;\n",
       "&lt;/html&gt;\" style=\"position:absolute;width:100%;height:100%;left:0;top:0;border:none !important;\" allowfullscreen webkitallowfullscreen mozallowfullscreen></iframe></div></div>"
      ],
      "text/plain": [
       "<folium.folium.Map at 0x246392a5cd0>"
      ]
     },
     "execution_count": 17,
     "metadata": {},
     "output_type": "execute_result"
    }
   ],
   "source": [
    "import folium\n",
    "from folium.plugins import MousePosition\n",
    "import folium.plugins\n",
    "\n",
    "# cretae folium map with default location\n",
    "m2 = folium.Map(location=[0,0], zoom_start=3)\n",
    "\n",
    "#colour for markers\n",
    "colors = ['red', 'blue', 'green', 'purple', 'orange']\n",
    "\n",
    "# add marker for each country\n",
    "for idx, row in trav.iterrows():\n",
    "    popup_content = f\"\"\"\n",
    "     <div style=\"min-width: 250px; max-width: 300px; font-size: 14px;\"> \n",
    "        <strong>Country:</strong> {row['Countries']}<br>\n",
    "        <strong>Capital:</strong> {row['Capital_city']}<br>\n",
    "        <strong>Diversity:</strong> {row['Diversity']}<br>\n",
    "        <strong>Safety:</strong> {row['Safety']}<br>\n",
    "        <strong>Hospitality:</strong> {row['Hospitality']}<br>\n",
    "        <strong>History:</strong> {row['History']}<br>\n",
    "        <strong>Will I return?:</strong> {row['Return']}<br>\n",
    "    </div>\n",
    "    \"\"\"\n",
    "    folium.Marker(\n",
    "        location=[row['Latitude'], row['Longitude']],\n",
    "        popup=popup_content,\n",
    "        tooltip='Click me!',\n",
    "        icon=folium.Icon(icon='star', color=colors[idx % len(colors)])\n",
    "    ).add_to(m2)\n",
    "\n",
    "#add tile layers\n",
    "layer_right=folium.TileLayer('cartodb positron')\n",
    "layer_left= folium.TileLayer('CartoDB Dark Matter')\n",
    "\n",
    "sbs = folium.plugins.SideBySideLayers(layer_left, layer_right)\n",
    "\n",
    "layer_left.add_to(m2)\n",
    "layer_right.add_to(m2)\n",
    "\n",
    "sbs.add_to(m2)\n",
    "\n",
    "\n",
    "# folium.TileLayer('cartodb positron').add_to(m2)\n",
    "# folium.TileLayer('CartoDB Dark Matter').add_to(m2)\n",
    "\n",
    "# add mouse position\n",
    "formatter = \"function(num) {return L.Util.formatNum(num, 3) + ' &deg; ';};\"\n",
    "\n",
    "MousePosition(\n",
    "    position=\"topright\",\n",
    "    separator=\" | \",\n",
    "    empty_string=\"NaN\",\n",
    "    lng_first=True,\n",
    "    num_digits=20,\n",
    "    prefix=\"Coordinates:\",\n",
    "    lat_formatter=formatter,\n",
    "    lng_formatter=formatter,\n",
    ").add_to(m2)\n",
    "\n",
    "#find min and max lat and long\n",
    "min_lat = trav['Latitude'].min()\n",
    "max_lat = trav['Latitude'].max()\n",
    "min_long = trav['Longitude'].min()\n",
    "max_long = trav['Longitude'].max()\n",
    "\n",
    "#adjust the map bounds\n",
    "bounds = [[min_lat, min_long], [max_lat, max_long]]\n",
    "m2.fit_bounds(bounds)\n",
    "\n",
    "m2\n",
    "\n",
    "# m2.save(\"folium_map.html\")"
   ]
  },
  {
   "cell_type": "markdown",
   "metadata": {},
   "source": [
    "# Plotly\n"
   ]
  },
  {
   "cell_type": "code",
   "execution_count": 7,
   "metadata": {},
   "outputs": [],
   "source": [
    "#THIS MAP IS SO UGLY!!!\n",
    "\n",
    "# import plotly.express as px \n",
    "# import pandas as pd\n",
    "\n",
    "# #cretae a scatter mapbox plot\n",
    "# fig = px.scatter_geo(trav, lat='Latitude', lon='Longitude', text='Countries',title='Geographic Data Visualization')\n",
    "\n",
    "# fig.update_layout(mapbox_style=\"open-street-map\", \n",
    "# width=700,\n",
    "# height=700)\n",
    "\n",
    "# fig.show()"
   ]
  },
  {
   "cell_type": "markdown",
   "metadata": {},
   "source": [
    "# Geopandas\n",
    "\n",
    "- install geopandas\n",
    "- Activate environment: conda active base\n",
    "- install geopandas: conda install -c conda-forge geopandas\n",
    "- reload window"
   ]
  },
  {
   "cell_type": "code",
   "execution_count": 8,
   "metadata": {},
   "outputs": [
    {
     "name": "stderr",
     "output_type": "stream",
     "text": [
      "C:\\Users\\ASYIKIN\\AppData\\Local\\Temp\\ipykernel_11984\\1448688262.py:7: FutureWarning: The geopandas.dataset module is deprecated and will be removed in GeoPandas 1.0. You can get the original 'naturalearth_lowres' data from https://www.naturalearthdata.com/downloads/110m-cultural-vectors/.\n",
      "  world = gpd.read_file(gpd.datasets.get_path('naturalearth_lowres'))\n"
     ]
    },
    {
     "data": {
      "image/png": "[encoded data removed]",
      "text/plain": [
       "<Figure size 1000x800 with 1 Axes>"
      ]
     },
     "metadata": {},
     "output_type": "display_data"
    }
   ],
   "source": [
    "import geopandas as gpd\n",
    "\n",
    "#convert to geodataframe\n",
    "gdf = gpd.GeoDataFrame(trav, geometry=gpd.points_from_xy(trav.Longitude, trav.Latitude))\n",
    "\n",
    "#plot world map\n",
    "world = gpd.read_file(gpd.datasets.get_path('naturalearth_lowres'))\n",
    "ax = world.plot(figsize=(10,8), facecolor='lightgray', edgecolor='White')\n",
    "\n",
    "#plot points with customizations\n",
    "gdf.plot(ax=ax, column='Countries', cmap='tab20', legend=True, markersize=60)\n",
    "\n",
    "#add gridlines\n",
    "ax.grid(True)\n",
    "\n",
    "plt.show()"
   ]
  },
  {
   "cell_type": "code",
   "execution_count": 9,
   "metadata": {},
   "outputs": [
    {
     "name": "stdout",
     "output_type": "stream",
     "text": [
      "Index(['Countries', 'Latitude', 'Longitude'], dtype='object')\n",
      "Index(['Region', 'Region_General', 'Countries', 'Capital_city', 'Latitude',\n",
      "       'Longitude', 'Diversity', 'Safety', 'Hospitality', 'History', 'Nature',\n",
      "       'Return'],\n",
      "      dtype='object')\n"
     ]
    }
   ],
   "source": [
    "print(trav2.columns)\n",
    "print(trav.columns)"
   ]
  },
  {
   "cell_type": "markdown",
   "metadata": {},
   "source": [
    "# PLOTLY"
   ]
  },
  {
   "cell_type": "code",
   "execution_count": 10,
   "metadata": {},
   "outputs": [
    {
     "data": {
      "application/vnd.plotly.v1+json": {
       "config": {
        "plotlyServerURL": "https://plot.ly"
       },
       "data": [
        {
         "customdata": [
          [
           "Low",
           4,
           3,
           2,
           "Yes"
          ]
         ],
         "hovertemplate": "Countries=Azerbaijan<br>Latitude=%{lat}<br>Longitude=%{lon}<br>Diversity=%{customdata[0]}<br>Safety=%{customdata[1]}<br>Hospitality=%{customdata[2]}<br>History=%{customdata[3]}<br>Return=%{customdata[4]}<extra></extra>",
         "lat": [
          40.4093
         ],
         "legendgroup": "Azerbaijan",
         "lon": [
          49.8671
         ],
         "marker": {
          "color": "#636efa",
          "size": 15
         },
         "mode": "markers",
         "name": "Azerbaijan",
         "showlegend": true,
         "subplot": "mapbox",
         "type": "scattermapbox"
        },
        {
         "customdata": [
          [
           "Low",
           4,
           3,
           3,
           "Indifferent"
          ]
         ],
         "hovertemplate": "Countries=Hungary<br>Latitude=%{lat}<br>Longitude=%{lon}<br>Diversity=%{customdata[0]}<br>Safety=%{customdata[1]}<br>Hospitality=%{customdata[2]}<br>History=%{customdata[3]}<br>Return=%{customdata[4]}<extra></extra>",
         "lat": [
          47.4979
         ],
         "legendgroup": "Hungary",
         "lon": [
          19.0402
         ],
         "marker": {
          "color": "#EF553B",
          "size": 15
         },
         "mode": "markers",
         "name": "Hungary",
         "showlegend": true,
         "subplot": "mapbox",
         "type": "scattermapbox"
        },
        {
         "customdata": [
          [
           "Low",
           3,
           1,
           3,
           "No"
          ]
         ],
         "hovertemplate": "Countries=Czechia<br>Latitude=%{lat}<br>Longitude=%{lon}<br>Diversity=%{customdata[0]}<br>Safety=%{customdata[1]}<br>Hospitality=%{customdata[2]}<br>History=%{customdata[3]}<br>Return=%{customdata[4]}<extra></extra>",
         "lat": [
          50.0755
         ],
         "legendgroup": "Czechia",
         "lon": [
          14.4378
         ],
         "marker": {
          "color": "#00cc96",
          "size": 15
         },
         "mode": "markers",
         "name": "Czechia",
         "showlegend": true,
         "subplot": "mapbox",
         "type": "scattermapbox"
        },
        {
         "customdata": [
          [
           "Low",
           4,
           4,
           2,
           "Yes"
          ]
         ],
         "hovertemplate": "Countries=Switzerland<br>Latitude=%{lat}<br>Longitude=%{lon}<br>Diversity=%{customdata[0]}<br>Safety=%{customdata[1]}<br>Hospitality=%{customdata[2]}<br>History=%{customdata[3]}<br>Return=%{customdata[4]}<extra></extra>",
         "lat": [
          46.9479
         ],
         "legendgroup": "Switzerland",
         "lon": [
          7.4474
         ],
         "marker": {
          "color": "#ab63fa",
          "size": 15
         },
         "mode": "markers",
         "name": "Switzerland",
         "showlegend": true,
         "subplot": "mapbox",
         "type": "scattermapbox"
        },
        {
         "customdata": [
          [
           "Low",
           4,
           5,
           5,
           "Yes"
          ]
         ],
         "hovertemplate": "Countries=Iran<br>Latitude=%{lat}<br>Longitude=%{lon}<br>Diversity=%{customdata[0]}<br>Safety=%{customdata[1]}<br>Hospitality=%{customdata[2]}<br>History=%{customdata[3]}<br>Return=%{customdata[4]}<extra></extra>",
         "lat": [
          35.6892
         ],
         "legendgroup": "Iran",
         "lon": [
          51.389
         ],
         "marker": {
          "color": "#FFA15A",
          "size": 15
         },
         "mode": "markers",
         "name": "Iran",
         "showlegend": true,
         "subplot": "mapbox",
         "type": "scattermapbox"
        },
        {
         "customdata": [
          [
           "Medium",
           4,
           2,
           1,
           "No"
          ]
         ],
         "hovertemplate": "Countries=UAE<br>Latitude=%{lat}<br>Longitude=%{lon}<br>Diversity=%{customdata[0]}<br>Safety=%{customdata[1]}<br>Hospitality=%{customdata[2]}<br>History=%{customdata[3]}<br>Return=%{customdata[4]}<extra></extra>",
         "lat": [
          24.4539
         ],
         "legendgroup": "UAE",
         "lon": [
          54.3773
         ],
         "marker": {
          "color": "#19d3f3",
          "size": 15
         },
         "mode": "markers",
         "name": "UAE",
         "showlegend": true,
         "subplot": "mapbox",
         "type": "scattermapbox"
        },
        {
         "customdata": [
          [
           "Low",
           4,
           5,
           5,
           "Yes"
          ]
         ],
         "hovertemplate": "Countries=Turkey<br>Latitude=%{lat}<br>Longitude=%{lon}<br>Diversity=%{customdata[0]}<br>Safety=%{customdata[1]}<br>Hospitality=%{customdata[2]}<br>History=%{customdata[3]}<br>Return=%{customdata[4]}<extra></extra>",
         "lat": [
          41.0082
         ],
         "legendgroup": "Turkey",
         "lon": [
          28.9784
         ],
         "marker": {
          "color": "#FF6692",
          "size": 15
         },
         "mode": "markers",
         "name": "Turkey",
         "showlegend": true,
         "subplot": "mapbox",
         "type": "scattermapbox"
        },
        {
         "customdata": [
          [
           "High",
           4,
           3,
           2,
           "Yes"
          ]
         ],
         "hovertemplate": "Countries=Australia<br>Latitude=%{lat}<br>Longitude=%{lon}<br>Diversity=%{customdata[0]}<br>Safety=%{customdata[1]}<br>Hospitality=%{customdata[2]}<br>History=%{customdata[3]}<br>Return=%{customdata[4]}<extra></extra>",
         "lat": [
          -37.8136
         ],
         "legendgroup": "Australia",
         "lon": [
          144.9631
         ],
         "marker": {
          "color": "#B6E880",
          "size": 15
         },
         "mode": "markers",
         "name": "Australia",
         "showlegend": true,
         "subplot": "mapbox",
         "type": "scattermapbox"
        },
        {
         "customdata": [
          [
           "Low",
           2,
           3,
           1,
           "Indifferent"
          ]
         ],
         "hovertemplate": "Countries=India<br>Latitude=%{lat}<br>Longitude=%{lon}<br>Diversity=%{customdata[0]}<br>Safety=%{customdata[1]}<br>Hospitality=%{customdata[2]}<br>History=%{customdata[3]}<br>Return=%{customdata[4]}<extra></extra>",
         "lat": [
          8.5241
         ],
         "legendgroup": "India",
         "lon": [
          76.9366
         ],
         "marker": {
          "color": "#FF97FF",
          "size": 15
         },
         "mode": "markers",
         "name": "India",
         "showlegend": true,
         "subplot": "mapbox",
         "type": "scattermapbox"
        },
        {
         "customdata": [
          [
           "Medium",
           4,
           2,
           1,
           "Indifferent"
          ]
         ],
         "hovertemplate": "Countries=Singapore<br>Latitude=%{lat}<br>Longitude=%{lon}<br>Diversity=%{customdata[0]}<br>Safety=%{customdata[1]}<br>Hospitality=%{customdata[2]}<br>History=%{customdata[3]}<br>Return=%{customdata[4]}<extra></extra>",
         "lat": [
          1.3521
         ],
         "legendgroup": "Singapore",
         "lon": [
          103.8198
         ],
         "marker": {
          "color": "#FECB52",
          "size": 15
         },
         "mode": "markers",
         "name": "Singapore",
         "showlegend": true,
         "subplot": "mapbox",
         "type": "scattermapbox"
        },
        {
         "customdata": [
          [
           "Low",
           4,
           5,
           1,
           "Yes"
          ]
         ],
         "hovertemplate": "Countries=Indonesia<br>Latitude=%{lat}<br>Longitude=%{lon}<br>Diversity=%{customdata[0]}<br>Safety=%{customdata[1]}<br>Hospitality=%{customdata[2]}<br>History=%{customdata[3]}<br>Return=%{customdata[4]}<extra></extra>",
         "lat": [
          -8.3405
         ],
         "legendgroup": "Indonesia",
         "lon": [
          115.092
         ],
         "marker": {
          "color": "#636efa",
          "size": 15
         },
         "mode": "markers",
         "name": "Indonesia",
         "showlegend": true,
         "subplot": "mapbox",
         "type": "scattermapbox"
        },
        {
         "customdata": [
          [
           "Low",
           4,
           4,
           1,
           "Yes"
          ]
         ],
         "hovertemplate": "Countries=Thailand<br>Latitude=%{lat}<br>Longitude=%{lon}<br>Diversity=%{customdata[0]}<br>Safety=%{customdata[1]}<br>Hospitality=%{customdata[2]}<br>History=%{customdata[3]}<br>Return=%{customdata[4]}<extra></extra>",
         "lat": [
          13.7563
         ],
         "legendgroup": "Thailand",
         "lon": [
          100.5018
         ],
         "marker": {
          "color": "#EF553B",
          "size": 15
         },
         "mode": "markers",
         "name": "Thailand",
         "showlegend": true,
         "subplot": "mapbox",
         "type": "scattermapbox"
        },
        {
         "customdata": [
          [
           "Low",
           4,
           4,
           2,
           "No"
          ]
         ],
         "hovertemplate": "Countries=Bulgaria<br>Latitude=%{lat}<br>Longitude=%{lon}<br>Diversity=%{customdata[0]}<br>Safety=%{customdata[1]}<br>Hospitality=%{customdata[2]}<br>History=%{customdata[3]}<br>Return=%{customdata[4]}<extra></extra>",
         "lat": [
          42.6977
         ],
         "legendgroup": "Bulgaria",
         "lon": [
          23.3219
         ],
         "marker": {
          "color": "#00cc96",
          "size": 15
         },
         "mode": "markers",
         "name": "Bulgaria",
         "showlegend": true,
         "subplot": "mapbox",
         "type": "scattermapbox"
        },
        {
         "customdata": [
          [
           "Low",
           2,
           3,
           2,
           "No"
          ]
         ],
         "hovertemplate": "Countries=Romania<br>Latitude=%{lat}<br>Longitude=%{lon}<br>Diversity=%{customdata[0]}<br>Safety=%{customdata[1]}<br>Hospitality=%{customdata[2]}<br>History=%{customdata[3]}<br>Return=%{customdata[4]}<extra></extra>",
         "lat": [
          44.4268
         ],
         "legendgroup": "Romania",
         "lon": [
          26.1025
         ],
         "marker": {
          "color": "#ab63fa",
          "size": 15
         },
         "mode": "markers",
         "name": "Romania",
         "showlegend": true,
         "subplot": "mapbox",
         "type": "scattermapbox"
        },
        {
         "customdata": [
          [
           "Low",
           4,
           1,
           4,
           "No"
          ]
         ],
         "hovertemplate": "Countries=Germany<br>Latitude=%{lat}<br>Longitude=%{lon}<br>Diversity=%{customdata[0]}<br>Safety=%{customdata[1]}<br>Hospitality=%{customdata[2]}<br>History=%{customdata[3]}<br>Return=%{customdata[4]}<extra></extra>",
         "lat": [
          52.52
         ],
         "legendgroup": "Germany",
         "lon": [
          13.405
         ],
         "marker": {
          "color": "#FFA15A",
          "size": 15
         },
         "mode": "markers",
         "name": "Germany",
         "showlegend": true,
         "subplot": "mapbox",
         "type": "scattermapbox"
        },
        {
         "customdata": [
          [
           "High",
           4,
           3,
           5,
           "Yes"
          ]
         ],
         "hovertemplate": "Countries=France<br>Latitude=%{lat}<br>Longitude=%{lon}<br>Diversity=%{customdata[0]}<br>Safety=%{customdata[1]}<br>Hospitality=%{customdata[2]}<br>History=%{customdata[3]}<br>Return=%{customdata[4]}<extra></extra>",
         "lat": [
          48.8566
         ],
         "legendgroup": "France",
         "lon": [
          2.3522
         ],
         "marker": {
          "color": "#19d3f3",
          "size": 15
         },
         "mode": "markers",
         "name": "France",
         "showlegend": true,
         "subplot": "mapbox",
         "type": "scattermapbox"
        }
       ],
       "layout": {
        "height": 400,
        "legend": {
         "title": {
          "text": "Countries"
         },
         "tracegroupgap": 0
        },
        "mapbox": {
         "center": {
          "lat": 7.353200000000001,
          "lon": 73.65765
         },
         "domain": {
          "x": [
           0,
           1
          ],
          "y": [
           0,
           1
          ]
         },
         "style": "open-street-map",
         "zoom": 1
        },
        "margin": {
         "b": 0,
         "l": 0,
         "r": 0,
         "t": 0
        },
        "template": {
         "data": {
          "bar": [
           {
            "error_x": {
             "color": "#2a3f5f"
            },
            "error_y": {
             "color": "#2a3f5f"
            },
            "marker": {
             "line": {
              "color": "#E5ECF6",
              "width": 0.5
             },
             "pattern": {
              "fillmode": "overlay",
              "size": 10,
              "solidity": 0.2
             }
            },
            "type": "bar"
           }
          ],
          "barpolar": [
           {
            "marker": {
             "line": {
              "color": "#E5ECF6",
              "width": 0.5
             },
             "pattern": {
              "fillmode": "overlay",
              "size": 10,
              "solidity": 0.2
             }
            },
            "type": "barpolar"
           }
          ],
          "carpet": [
           {
            "aaxis": {
             "endlinecolor": "#2a3f5f",
             "gridcolor": "white",
             "linecolor": "white",
             "minorgridcolor": "white",
             "startlinecolor": "#2a3f5f"
            },
            "baxis": {
             "endlinecolor": "#2a3f5f",
             "gridcolor": "white",
             "linecolor": "white",
             "minorgridcolor": "white",
             "startlinecolor": "#2a3f5f"
            },
            "type": "carpet"
           }
          ],
          "choropleth": [
           {
            "colorbar": {
             "outlinewidth": 0,
             "ticks": ""
            },
            "type": "choropleth"
           }
          ],
          "contour": [
           {
            "colorbar": {
             "outlinewidth": 0,
             "ticks": ""
            },
            "colorscale": [
             [
              0,
              "#0d0887"
             ],
             [
              0.1111111111111111,
              "#46039f"
             ],
             [
              0.2222222222222222,
              "#7201a8"
             ],
             [
              0.3333333333333333,
              "#9c179e"
             ],
             [
              0.4444444444444444,
              "#bd3786"
             ],
             [
              0.5555555555555556,
              "#d8576b"
             ],
             [
              0.6666666666666666,
              "#ed7953"
             ],
             [
              0.7777777777777778,
              "#fb9f3a"
             ],
             [
              0.8888888888888888,
              "#fdca26"
             ],
             [
              1,
              "#f0f921"
             ]
            ],
            "type": "contour"
           }
          ],
          "contourcarpet": [
           {
            "colorbar": {
             "outlinewidth": 0,
             "ticks": ""
            },
            "type": "contourcarpet"
           }
          ],
          "heatmap": [
           {
            "colorbar": {
             "outlinewidth": 0,
             "ticks": ""
            },
            "colorscale": [
             [
              0,
              "#0d0887"
             ],
             [
              0.1111111111111111,
              "#46039f"
             ],
             [
              0.2222222222222222,
              "#7201a8"
             ],
             [
              0.3333333333333333,
              "#9c179e"
             ],
             [
              0.4444444444444444,
              "#bd3786"
             ],
             [
              0.5555555555555556,
              "#d8576b"
             ],
             [
              0.6666666666666666,
              "#ed7953"
             ],
             [
              0.7777777777777778,
              "#fb9f3a"
             ],
             [
              0.8888888888888888,
              "#fdca26"
             ],
             [
              1,
              "#f0f921"
             ]
            ],
            "type": "heatmap"
           }
          ],
          "heatmapgl": [
           {
            "colorbar": {
             "outlinewidth": 0,
             "ticks": ""
            },
            "colorscale": [
             [
              0,
              "#0d0887"
             ],
             [
              0.1111111111111111,
              "#46039f"
             ],
             [
              0.2222222222222222,
              "#7201a8"
             ],
             [
              0.3333333333333333,
              "#9c179e"
             ],
             [
              0.4444444444444444,
              "#bd3786"
             ],
             [
              0.5555555555555556,
              "#d8576b"
             ],
             [
              0.6666666666666666,
              "#ed7953"
             ],
             [
              0.7777777777777778,
              "#fb9f3a"
             ],
             [
              0.8888888888888888,
              "#fdca26"
             ],
             [
              1,
              "#f0f921"
             ]
            ],
            "type": "heatmapgl"
           }
          ],
          "histogram": [
           {
            "marker": {
             "pattern": {
              "fillmode": "overlay",
              "size": 10,
              "solidity": 0.2
             }
            },
            "type": "histogram"
           }
          ],
          "histogram2d": [
           {
            "colorbar": {
             "outlinewidth": 0,
             "ticks": ""
            },
            "colorscale": [
             [
              0,
              "#0d0887"
             ],
             [
              0.1111111111111111,
              "#46039f"
             ],
             [
              0.2222222222222222,
              "#7201a8"
             ],
             [
              0.3333333333333333,
              "#9c179e"
             ],
             [
              0.4444444444444444,
              "#bd3786"
             ],
             [
              0.5555555555555556,
              "#d8576b"
             ],
             [
              0.6666666666666666,
              "#ed7953"
             ],
             [
              0.7777777777777778,
              "#fb9f3a"
             ],
             [
              0.8888888888888888,
              "#fdca26"
             ],
             [
              1,
              "#f0f921"
             ]
            ],
            "type": "histogram2d"
           }
          ],
          "histogram2dcontour": [
           {
            "colorbar": {
             "outlinewidth": 0,
             "ticks": ""
            },
            "colorscale": [
             [
              0,
              "#0d0887"
             ],
             [
              0.1111111111111111,
              "#46039f"
             ],
             [
              0.2222222222222222,
              "#7201a8"
             ],
             [
              0.3333333333333333,
              "#9c179e"
             ],
             [
              0.4444444444444444,
              "#bd3786"
             ],
             [
              0.5555555555555556,
              "#d8576b"
             ],
             [
              0.6666666666666666,
              "#ed7953"
             ],
             [
              0.7777777777777778,
              "#fb9f3a"
             ],
             [
              0.8888888888888888,
              "#fdca26"
             ],
             [
              1,
              "#f0f921"
             ]
            ],
            "type": "histogram2dcontour"
           }
          ],
          "mesh3d": [
           {
            "colorbar": {
             "outlinewidth": 0,
             "ticks": ""
            },
            "type": "mesh3d"
           }
          ],
          "parcoords": [
           {
            "line": {
             "colorbar": {
              "outlinewidth": 0,
              "ticks": ""
             }
            },
            "type": "parcoords"
           }
          ],
          "pie": [
           {
            "automargin": true,
            "type": "pie"
           }
          ],
          "scatter": [
           {
            "fillpattern": {
             "fillmode": "overlay",
             "size": 10,
             "solidity": 0.2
            },
            "type": "scatter"
           }
          ],
          "scatter3d": [
           {
            "line": {
             "colorbar": {
              "outlinewidth": 0,
              "ticks": ""
             }
            },
            "marker": {
             "colorbar": {
              "outlinewidth": 0,
              "ticks": ""
             }
            },
            "type": "scatter3d"
           }
          ],
          "scattercarpet": [
           {
            "marker": {
             "colorbar": {
              "outlinewidth": 0,
              "ticks": ""
             }
            },
            "type": "scattercarpet"
           }
          ],
          "scattergeo": [
           {
            "marker": {
             "colorbar": {
              "outlinewidth": 0,
              "ticks": ""
             }
            },
            "type": "scattergeo"
           }
          ],
          "scattergl": [
           {
            "marker": {
             "colorbar": {
              "outlinewidth": 0,
              "ticks": ""
             }
            },
            "type": "scattergl"
           }
          ],
          "scattermapbox": [
           {
            "marker": {
             "colorbar": {
              "outlinewidth": 0,
              "ticks": ""
             }
            },
            "type": "scattermapbox"
           }
          ],
          "scatterpolar": [
           {
            "marker": {
             "colorbar": {
              "outlinewidth": 0,
              "ticks": ""
             }
            },
            "type": "scatterpolar"
           }
          ],
          "scatterpolargl": [
           {
            "marker": {
             "colorbar": {
              "outlinewidth": 0,
              "ticks": ""
             }
            },
            "type": "scatterpolargl"
           }
          ],
          "scatterternary": [
           {
            "marker": {
             "colorbar": {
              "outlinewidth": 0,
              "ticks": ""
             }
            },
            "type": "scatterternary"
           }
          ],
          "surface": [
           {
            "colorbar": {
             "outlinewidth": 0,
             "ticks": ""
            },
            "colorscale": [
             [
              0,
              "#0d0887"
             ],
             [
              0.1111111111111111,
              "#46039f"
             ],
             [
              0.2222222222222222,
              "#7201a8"
             ],
             [
              0.3333333333333333,
              "#9c179e"
             ],
             [
              0.4444444444444444,
              "#bd3786"
             ],
             [
              0.5555555555555556,
              "#d8576b"
             ],
             [
              0.6666666666666666,
              "#ed7953"
             ],
             [
              0.7777777777777778,
              "#fb9f3a"
             ],
             [
              0.8888888888888888,
              "#fdca26"
             ],
             [
              1,
              "#f0f921"
             ]
            ],
            "type": "surface"
           }
          ],
          "table": [
           {
            "cells": {
             "fill": {
              "color": "#EBF0F8"
             },
             "line": {
              "color": "white"
             }
            },
            "header": {
             "fill": {
              "color": "#C8D4E3"
             },
             "line": {
              "color": "white"
             }
            },
            "type": "table"
           }
          ]
         },
         "layout": {
          "annotationdefaults": {
           "arrowcolor": "#2a3f5f",
           "arrowhead": 0,
           "arrowwidth": 1
          },
          "autotypenumbers": "strict",
          "coloraxis": {
           "colorbar": {
            "outlinewidth": 0,
            "ticks": ""
           }
          },
          "colorscale": {
           "diverging": [
            [
             0,
             "#8e0152"
            ],
            [
             0.1,
             "#c51b7d"
            ],
            [
             0.2,
             "#de77ae"
            ],
            [
             0.3,
             "#f1b6da"
            ],
            [
             0.4,
             "#fde0ef"
            ],
            [
             0.5,
             "#f7f7f7"
            ],
            [
             0.6,
             "#e6f5d0"
            ],
            [
             0.7,
             "#b8e186"
            ],
            [
             0.8,
             "#7fbc41"
            ],
            [
             0.9,
             "#4d9221"
            ],
            [
             1,
             "#276419"
            ]
           ],
           "sequential": [
            [
             0,
             "#0d0887"
            ],
            [
             0.1111111111111111,
             "#46039f"
            ],
            [
             0.2222222222222222,
             "#7201a8"
            ],
            [
             0.3333333333333333,
             "#9c179e"
            ],
            [
             0.4444444444444444,
             "#bd3786"
            ],
            [
             0.5555555555555556,
             "#d8576b"
            ],
            [
             0.6666666666666666,
             "#ed7953"
            ],
            [
             0.7777777777777778,
             "#fb9f3a"
            ],
            [
             0.8888888888888888,
             "#fdca26"
            ],
            [
             1,
             "#f0f921"
            ]
           ],
           "sequentialminus": [
            [
             0,
             "#0d0887"
            ],
            [
             0.1111111111111111,
             "#46039f"
            ],
            [
             0.2222222222222222,
             "#7201a8"
            ],
            [
             0.3333333333333333,
             "#9c179e"
            ],
            [
             0.4444444444444444,
             "#bd3786"
            ],
            [
             0.5555555555555556,
             "#d8576b"
            ],
            [
             0.6666666666666666,
             "#ed7953"
            ],
            [
             0.7777777777777778,
             "#fb9f3a"
            ],
            [
             0.8888888888888888,
             "#fdca26"
            ],
            [
             1,
             "#f0f921"
            ]
           ]
          },
          "colorway": [
           "#636efa",
           "#EF553B",
           "#00cc96",
           "#ab63fa",
           "#FFA15A",
           "#19d3f3",
           "#FF6692",
           "#B6E880",
           "#FF97FF",
           "#FECB52"
          ],
          "font": {
           "color": "#2a3f5f"
          },
          "geo": {
           "bgcolor": "white",
           "lakecolor": "white",
           "landcolor": "#E5ECF6",
           "showlakes": true,
           "showland": true,
           "subunitcolor": "white"
          },
          "hoverlabel": {
           "align": "left"
          },
          "hovermode": "closest",
          "mapbox": {
           "style": "light"
          },
          "paper_bgcolor": "white",
          "plot_bgcolor": "#E5ECF6",
          "polar": {
           "angularaxis": {
            "gridcolor": "white",
            "linecolor": "white",
            "ticks": ""
           },
           "bgcolor": "#E5ECF6",
           "radialaxis": {
            "gridcolor": "white",
            "linecolor": "white",
            "ticks": ""
           }
          },
          "scene": {
           "xaxis": {
            "backgroundcolor": "#E5ECF6",
            "gridcolor": "white",
            "gridwidth": 2,
            "linecolor": "white",
            "showbackground": true,
            "ticks": "",
            "zerolinecolor": "white"
           },
           "yaxis": {
            "backgroundcolor": "#E5ECF6",
            "gridcolor": "white",
            "gridwidth": 2,
            "linecolor": "white",
            "showbackground": true,
            "ticks": "",
            "zerolinecolor": "white"
           },
           "zaxis": {
            "backgroundcolor": "#E5ECF6",
            "gridcolor": "white",
            "gridwidth": 2,
            "linecolor": "white",
            "showbackground": true,
            "ticks": "",
            "zerolinecolor": "white"
           }
          },
          "shapedefaults": {
           "line": {
            "color": "#2a3f5f"
           }
          },
          "ternary": {
           "aaxis": {
            "gridcolor": "white",
            "linecolor": "white",
            "ticks": ""
           },
           "baxis": {
            "gridcolor": "white",
            "linecolor": "white",
            "ticks": ""
           },
           "bgcolor": "#E5ECF6",
           "caxis": {
            "gridcolor": "white",
            "linecolor": "white",
            "ticks": ""
           }
          },
          "title": {
           "x": 0.05
          },
          "xaxis": {
           "automargin": true,
           "gridcolor": "white",
           "linecolor": "white",
           "ticks": "",
           "title": {
            "standoff": 15
           },
           "zerolinecolor": "white",
           "zerolinewidth": 2
          },
          "yaxis": {
           "automargin": true,
           "gridcolor": "white",
           "linecolor": "white",
           "ticks": "",
           "title": {
            "standoff": 15
           },
           "zerolinecolor": "white",
           "zerolinewidth": 2
          }
         }
        },
        "title": {
         "text": "Countries I've visited"
        }
       }
      }
     },
     "metadata": {},
     "output_type": "display_data"
    }
   ],
   "source": [
    "import plotly.express as px\n",
    "import pandas as pd\n",
    "\n",
    "#calculate bounds\n",
    "min_lat = trav['Latitude'].min()\n",
    "max_lat = trav['Latitude'].max()\n",
    "min_long = trav['Longitude'].min()\n",
    "max_long = trav['Longitude'].max()\n",
    "\n",
    "#calculate the center of the map\n",
    "center_lat = (min_lat + max_lat)/2\n",
    "center_lon = (min_long + max_long)/2\n",
    "\n",
    "fig = px.scatter_mapbox(trav,\n",
    "lon='Longitude',\n",
    "lat='Latitude', \n",
    "zoom=1,\n",
    "color='Countries',\n",
    "height=400,\n",
    "title=\"Countries I've visited\",\n",
    "hover_data=['Diversity','Safety', 'Hospitality', 'History', 'Return']\n",
    ")\n",
    "\n",
    "#update marker size\n",
    "fig.update_traces(marker=dict(size=15))\n",
    "fig.update_layout(mapbox_style='open-street-map')\n",
    "fig.update_layout(margin={\"r\":0, \"t\":0, \"l\":0, \"b\":0})\n",
    "\n",
    "\n",
    "#fit the map to the data points\n",
    "fig.update_layout(mapbox_center={\"lat\": center_lat, \"lon\": center_lon})\n",
    "\n",
    "fig.show()"
   ]
  },
  {
   "cell_type": "code",
   "execution_count": 11,
   "metadata": {},
   "outputs": [
    {
     "data": {
      "application/vnd.plotly.v1+json": {
       "config": {
        "plotlyServerURL": "https://plot.ly"
       },
       "data": [
        {
         "name": "Safety",
         "orientation": "h",
         "type": "bar",
         "x": [
          2,
          2,
          3,
          4,
          4,
          4,
          4,
          4,
          4,
          4,
          4,
          4,
          4,
          4,
          4,
          4
         ],
         "xaxis": "x",
         "y": [
          "India",
          "Romania",
          "Czechia",
          "Azerbaijan",
          "Hungary",
          "Switzerland",
          "Iran",
          "UAE",
          "Turkey",
          "Australia",
          "Singapore",
          "Indonesia",
          "Thailand",
          "Bulgaria",
          "Germany",
          "France"
         ],
         "yaxis": "y"
        },
        {
         "name": "Hospitality",
         "orientation": "h",
         "type": "bar",
         "x": [
          1,
          1,
          2,
          2,
          3,
          3,
          3,
          3,
          3,
          3,
          4,
          4,
          4,
          5,
          5,
          5
         ],
         "xaxis": "x2",
         "y": [
          "Czechia",
          "Germany",
          "UAE",
          "Singapore",
          "Azerbaijan",
          "Hungary",
          "Australia",
          "India",
          "Romania",
          "France",
          "Switzerland",
          "Thailand",
          "Bulgaria",
          "Iran",
          "Turkey",
          "Indonesia"
         ],
         "yaxis": "y2"
        },
        {
         "name": "History",
         "orientation": "h",
         "type": "bar",
         "x": [
          1,
          1,
          1,
          1,
          1,
          2,
          2,
          2,
          2,
          2,
          3,
          3,
          4,
          5,
          5,
          5
         ],
         "xaxis": "x3",
         "y": [
          "UAE",
          "India",
          "Singapore",
          "Indonesia",
          "Thailand",
          "Azerbaijan",
          "Switzerland",
          "Australia",
          "Bulgaria",
          "Romania",
          "Hungary",
          "Czechia",
          "Germany",
          "Iran",
          "Turkey",
          "France"
         ],
         "yaxis": "y3"
        },
        {
         "name": "Nature",
         "orientation": "h",
         "type": "bar",
         "x": [
          1,
          3,
          3,
          3,
          3,
          3,
          3,
          4,
          4,
          4,
          4,
          4,
          5,
          5,
          5,
          5
         ],
         "xaxis": "x4",
         "y": [
          "UAE",
          "Czechia",
          "India",
          "Singapore",
          "Bulgaria",
          "Romania",
          "Germany",
          "Azerbaijan",
          "Hungary",
          "Turkey",
          "Indonesia",
          "France",
          "Switzerland",
          "Iran",
          "Australia",
          "Thailand"
         ],
         "yaxis": "y4"
        }
       ],
       "layout": {
        "annotations": [
         {
          "font": {
           "size": 16
          },
          "showarrow": false,
          "text": "Safety",
          "x": 0.225,
          "xanchor": "center",
          "xref": "paper",
          "y": 1,
          "yanchor": "bottom",
          "yref": "paper"
         },
         {
          "font": {
           "size": 16
          },
          "showarrow": false,
          "text": "Hospitality",
          "x": 0.775,
          "xanchor": "center",
          "xref": "paper",
          "y": 1,
          "yanchor": "bottom",
          "yref": "paper"
         },
         {
          "font": {
           "size": 16
          },
          "showarrow": false,
          "text": "History",
          "x": 0.225,
          "xanchor": "center",
          "xref": "paper",
          "y": 0.45,
          "yanchor": "bottom",
          "yref": "paper"
         },
         {
          "font": {
           "size": 16
          },
          "showarrow": false,
          "text": "Nature",
          "x": 0.775,
          "xanchor": "center",
          "xref": "paper",
          "y": 0.45,
          "yanchor": "bottom",
          "yref": "paper"
         }
        ],
        "height": 800,
        "showlegend": false,
        "template": {
         "data": {
          "bar": [
           {
            "error_x": {
             "color": "#2a3f5f"
            },
            "error_y": {
             "color": "#2a3f5f"
            },
            "marker": {
             "line": {
              "color": "#E5ECF6",
              "width": 0.5
             },
             "pattern": {
              "fillmode": "overlay",
              "size": 10,
              "solidity": 0.2
             }
            },
            "type": "bar"
           }
          ],
          "barpolar": [
           {
            "marker": {
             "line": {
              "color": "#E5ECF6",
              "width": 0.5
             },
             "pattern": {
              "fillmode": "overlay",
              "size": 10,
              "solidity": 0.2
             }
            },
            "type": "barpolar"
           }
          ],
          "carpet": [
           {
            "aaxis": {
             "endlinecolor": "#2a3f5f",
             "gridcolor": "white",
             "linecolor": "white",
             "minorgridcolor": "white",
             "startlinecolor": "#2a3f5f"
            },
            "baxis": {
             "endlinecolor": "#2a3f5f",
             "gridcolor": "white",
             "linecolor": "white",
             "minorgridcolor": "white",
             "startlinecolor": "#2a3f5f"
            },
            "type": "carpet"
           }
          ],
          "choropleth": [
           {
            "colorbar": {
             "outlinewidth": 0,
             "ticks": ""
            },
            "type": "choropleth"
           }
          ],
          "contour": [
           {
            "colorbar": {
             "outlinewidth": 0,
             "ticks": ""
            },
            "colorscale": [
             [
              0,
              "#0d0887"
             ],
             [
              0.1111111111111111,
              "#46039f"
             ],
             [
              0.2222222222222222,
              "#7201a8"
             ],
             [
              0.3333333333333333,
              "#9c179e"
             ],
             [
              0.4444444444444444,
              "#bd3786"
             ],
             [
              0.5555555555555556,
              "#d8576b"
             ],
             [
              0.6666666666666666,
              "#ed7953"
             ],
             [
              0.7777777777777778,
              "#fb9f3a"
             ],
             [
              0.8888888888888888,
              "#fdca26"
             ],
             [
              1,
              "#f0f921"
             ]
            ],
            "type": "contour"
           }
          ],
          "contourcarpet": [
           {
            "colorbar": {
             "outlinewidth": 0,
             "ticks": ""
            },
            "type": "contourcarpet"
           }
          ],
          "heatmap": [
           {
            "colorbar": {
             "outlinewidth": 0,
             "ticks": ""
            },
            "colorscale": [
             [
              0,
              "#0d0887"
             ],
             [
              0.1111111111111111,
              "#46039f"
             ],
             [
              0.2222222222222222,
              "#7201a8"
             ],
             [
              0.3333333333333333,
              "#9c179e"
             ],
             [
              0.4444444444444444,
              "#bd3786"
             ],
             [
              0.5555555555555556,
              "#d8576b"
             ],
             [
              0.6666666666666666,
              "#ed7953"
             ],
             [
              0.7777777777777778,
              "#fb9f3a"
             ],
             [
              0.8888888888888888,
              "#fdca26"
             ],
             [
              1,
              "#f0f921"
             ]
            ],
            "type": "heatmap"
           }
          ],
          "heatmapgl": [
           {
            "colorbar": {
             "outlinewidth": 0,
             "ticks": ""
            },
            "colorscale": [
             [
              0,
              "#0d0887"
             ],
             [
              0.1111111111111111,
              "#46039f"
             ],
             [
              0.2222222222222222,
              "#7201a8"
             ],
             [
              0.3333333333333333,
              "#9c179e"
             ],
             [
              0.4444444444444444,
              "#bd3786"
             ],
             [
              0.5555555555555556,
              "#d8576b"
             ],
             [
              0.6666666666666666,
              "#ed7953"
             ],
             [
              0.7777777777777778,
              "#fb9f3a"
             ],
             [
              0.8888888888888888,
              "#fdca26"
             ],
             [
              1,
              "#f0f921"
             ]
            ],
            "type": "heatmapgl"
           }
          ],
          "histogram": [
           {
            "marker": {
             "pattern": {
              "fillmode": "overlay",
              "size": 10,
              "solidity": 0.2
             }
            },
            "type": "histogram"
           }
          ],
          "histogram2d": [
           {
            "colorbar": {
             "outlinewidth": 0,
             "ticks": ""
            },
            "colorscale": [
             [
              0,
              "#0d0887"
             ],
             [
              0.1111111111111111,
              "#46039f"
             ],
             [
              0.2222222222222222,
              "#7201a8"
             ],
             [
              0.3333333333333333,
              "#9c179e"
             ],
             [
              0.4444444444444444,
              "#bd3786"
             ],
             [
              0.5555555555555556,
              "#d8576b"
             ],
             [
              0.6666666666666666,
              "#ed7953"
             ],
             [
              0.7777777777777778,
              "#fb9f3a"
             ],
             [
              0.8888888888888888,
              "#fdca26"
             ],
             [
              1,
              "#f0f921"
             ]
            ],
            "type": "histogram2d"
           }
          ],
          "histogram2dcontour": [
           {
            "colorbar": {
             "outlinewidth": 0,
             "ticks": ""
            },
            "colorscale": [
             [
              0,
              "#0d0887"
             ],
             [
              0.1111111111111111,
              "#46039f"
             ],
             [
              0.2222222222222222,
              "#7201a8"
             ],
             [
              0.3333333333333333,
              "#9c179e"
             ],
             [
              0.4444444444444444,
              "#bd3786"
             ],
             [
              0.5555555555555556,
              "#d8576b"
             ],
             [
              0.6666666666666666,
              "#ed7953"
             ],
             [
              0.7777777777777778,
              "#fb9f3a"
             ],
             [
              0.8888888888888888,
              "#fdca26"
             ],
             [
              1,
              "#f0f921"
             ]
            ],
            "type": "histogram2dcontour"
           }
          ],
          "mesh3d": [
           {
            "colorbar": {
             "outlinewidth": 0,
             "ticks": ""
            },
            "type": "mesh3d"
           }
          ],
          "parcoords": [
           {
            "line": {
             "colorbar": {
              "outlinewidth": 0,
              "ticks": ""
             }
            },
            "type": "parcoords"
           }
          ],
          "pie": [
           {
            "automargin": true,
            "type": "pie"
           }
          ],
          "scatter": [
           {
            "fillpattern": {
             "fillmode": "overlay",
             "size": 10,
             "solidity": 0.2
            },
            "type": "scatter"
           }
          ],
          "scatter3d": [
           {
            "line": {
             "colorbar": {
              "outlinewidth": 0,
              "ticks": ""
             }
            },
            "marker": {
             "colorbar": {
              "outlinewidth": 0,
              "ticks": ""
             }
            },
            "type": "scatter3d"
           }
          ],
          "scattercarpet": [
           {
            "marker": {
             "colorbar": {
              "outlinewidth": 0,
              "ticks": ""
             }
            },
            "type": "scattercarpet"
           }
          ],
          "scattergeo": [
           {
            "marker": {
             "colorbar": {
              "outlinewidth": 0,
              "ticks": ""
             }
            },
            "type": "scattergeo"
           }
          ],
          "scattergl": [
           {
            "marker": {
             "colorbar": {
              "outlinewidth": 0,
              "ticks": ""
             }
            },
            "type": "scattergl"
           }
          ],
          "scattermapbox": [
           {
            "marker": {
             "colorbar": {
              "outlinewidth": 0,
              "ticks": ""
             }
            },
            "type": "scattermapbox"
           }
          ],
          "scatterpolar": [
           {
            "marker": {
             "colorbar": {
              "outlinewidth": 0,
              "ticks": ""
             }
            },
            "type": "scatterpolar"
           }
          ],
          "scatterpolargl": [
           {
            "marker": {
             "colorbar": {
              "outlinewidth": 0,
              "ticks": ""
             }
            },
            "type": "scatterpolargl"
           }
          ],
          "scatterternary": [
           {
            "marker": {
             "colorbar": {
              "outlinewidth": 0,
              "ticks": ""
             }
            },
            "type": "scatterternary"
           }
          ],
          "surface": [
           {
            "colorbar": {
             "outlinewidth": 0,
             "ticks": ""
            },
            "colorscale": [
             [
              0,
              "#0d0887"
             ],
             [
              0.1111111111111111,
              "#46039f"
             ],
             [
              0.2222222222222222,
              "#7201a8"
             ],
             [
              0.3333333333333333,
              "#9c179e"
             ],
             [
              0.4444444444444444,
              "#bd3786"
             ],
             [
              0.5555555555555556,
              "#d8576b"
             ],
             [
              0.6666666666666666,
              "#ed7953"
             ],
             [
              0.7777777777777778,
              "#fb9f3a"
             ],
             [
              0.8888888888888888,
              "#fdca26"
             ],
             [
              1,
              "#f0f921"
             ]
            ],
            "type": "surface"
           }
          ],
          "table": [
           {
            "cells": {
             "fill": {
              "color": "#EBF0F8"
             },
             "line": {
              "color": "white"
             }
            },
            "header": {
             "fill": {
              "color": "#C8D4E3"
             },
             "line": {
              "color": "white"
             }
            },
            "type": "table"
           }
          ]
         },
         "layout": {
          "annotationdefaults": {
           "arrowcolor": "#2a3f5f",
           "arrowhead": 0,
           "arrowwidth": 1
          },
          "autotypenumbers": "strict",
          "coloraxis": {
           "colorbar": {
            "outlinewidth": 0,
            "ticks": ""
           }
          },
          "colorscale": {
           "diverging": [
            [
             0,
             "#8e0152"
            ],
            [
             0.1,
             "#c51b7d"
            ],
            [
             0.2,
             "#de77ae"
            ],
            [
             0.3,
             "#f1b6da"
            ],
            [
             0.4,
             "#fde0ef"
            ],
            [
             0.5,
             "#f7f7f7"
            ],
            [
             0.6,
             "#e6f5d0"
            ],
            [
             0.7,
             "#b8e186"
            ],
            [
             0.8,
             "#7fbc41"
            ],
            [
             0.9,
             "#4d9221"
            ],
            [
             1,
             "#276419"
            ]
           ],
           "sequential": [
            [
             0,
             "#0d0887"
            ],
            [
             0.1111111111111111,
             "#46039f"
            ],
            [
             0.2222222222222222,
             "#7201a8"
            ],
            [
             0.3333333333333333,
             "#9c179e"
            ],
            [
             0.4444444444444444,
             "#bd3786"
            ],
            [
             0.5555555555555556,
             "#d8576b"
            ],
            [
             0.6666666666666666,
             "#ed7953"
            ],
            [
             0.7777777777777778,
             "#fb9f3a"
            ],
            [
             0.8888888888888888,
             "#fdca26"
            ],
            [
             1,
             "#f0f921"
            ]
           ],
           "sequentialminus": [
            [
             0,
             "#0d0887"
            ],
            [
             0.1111111111111111,
             "#46039f"
            ],
            [
             0.2222222222222222,
             "#7201a8"
            ],
            [
             0.3333333333333333,
             "#9c179e"
            ],
            [
             0.4444444444444444,
             "#bd3786"
            ],
            [
             0.5555555555555556,
             "#d8576b"
            ],
            [
             0.6666666666666666,
             "#ed7953"
            ],
            [
             0.7777777777777778,
             "#fb9f3a"
            ],
            [
             0.8888888888888888,
             "#fdca26"
            ],
            [
             1,
             "#f0f921"
            ]
           ]
          },
          "colorway": [
           "#636efa",
           "#EF553B",
           "#00cc96",
           "#ab63fa",
           "#FFA15A",
           "#19d3f3",
           "#FF6692",
           "#B6E880",
           "#FF97FF",
           "#FECB52"
          ],
          "font": {
           "color": "#2a3f5f"
          },
          "geo": {
           "bgcolor": "white",
           "lakecolor": "white",
           "landcolor": "#E5ECF6",
           "showlakes": true,
           "showland": true,
           "subunitcolor": "white"
          },
          "hoverlabel": {
           "align": "left"
          },
          "hovermode": "closest",
          "mapbox": {
           "style": "light"
          },
          "paper_bgcolor": "white",
          "plot_bgcolor": "#E5ECF6",
          "polar": {
           "angularaxis": {
            "gridcolor": "white",
            "linecolor": "white",
            "ticks": ""
           },
           "bgcolor": "#E5ECF6",
           "radialaxis": {
            "gridcolor": "white",
            "linecolor": "white",
            "ticks": ""
           }
          },
          "scene": {
           "xaxis": {
            "backgroundcolor": "#E5ECF6",
            "gridcolor": "white",
            "gridwidth": 2,
            "linecolor": "white",
            "showbackground": true,
            "ticks": "",
            "zerolinecolor": "white"
           },
           "yaxis": {
            "backgroundcolor": "#E5ECF6",
            "gridcolor": "white",
            "gridwidth": 2,
            "linecolor": "white",
            "showbackground": true,
            "ticks": "",
            "zerolinecolor": "white"
           },
           "zaxis": {
            "backgroundcolor": "#E5ECF6",
            "gridcolor": "white",
            "gridwidth": 2,
            "linecolor": "white",
            "showbackground": true,
            "ticks": "",
            "zerolinecolor": "white"
           }
          },
          "shapedefaults": {
           "line": {
            "color": "#2a3f5f"
           }
          },
          "ternary": {
           "aaxis": {
            "gridcolor": "white",
            "linecolor": "white",
            "ticks": ""
           },
           "baxis": {
            "gridcolor": "white",
            "linecolor": "white",
            "ticks": ""
           },
           "bgcolor": "#E5ECF6",
           "caxis": {
            "gridcolor": "white",
            "linecolor": "white",
            "ticks": ""
           }
          },
          "title": {
           "x": 0.05
          },
          "xaxis": {
           "automargin": true,
           "gridcolor": "white",
           "linecolor": "white",
           "ticks": "",
           "title": {
            "standoff": 15
           },
           "zerolinecolor": "white",
           "zerolinewidth": 2
          },
          "yaxis": {
           "automargin": true,
           "gridcolor": "white",
           "linecolor": "white",
           "ticks": "",
           "title": {
            "standoff": 15
           },
           "zerolinecolor": "white",
           "zerolinewidth": 2
          }
         }
        },
        "title": {
         "text": "Ratings by Country (1 - 5)",
         "x": 0.5
        },
        "width": 1000,
        "xaxis": {
         "anchor": "y",
         "domain": [
          0,
          0.45
         ]
        },
        "xaxis2": {
         "anchor": "y2",
         "domain": [
          0.55,
          1
         ]
        },
        "xaxis3": {
         "anchor": "y3",
         "domain": [
          0,
          0.45
         ]
        },
        "xaxis4": {
         "anchor": "y4",
         "domain": [
          0.55,
          1
         ]
        },
        "yaxis": {
         "anchor": "x",
         "domain": [
          0.55,
          1
         ]
        },
        "yaxis2": {
         "anchor": "x2",
         "domain": [
          0.55,
          1
         ]
        },
        "yaxis3": {
         "anchor": "x3",
         "domain": [
          0,
          0.45
         ]
        },
        "yaxis4": {
         "anchor": "x4",
         "domain": [
          0,
          0.45
         ]
        }
       }
      }
     },
     "metadata": {},
     "output_type": "display_data"
    }
   ],
   "source": [
    "# bar charts\n",
    "import pandas as pd\n",
    "import plotly.graph_objects as go\n",
    "from plotly.subplots import make_subplots\n",
    "\n",
    "# sort dataframe \n",
    "sorted_safety = trav.sort_values(by='Safety')\n",
    "sorted_hospitality= trav.sort_values(by='Hospitality')\n",
    "sorted_history= trav.sort_values(by='History')\n",
    "sorted_nature = trav.sort_values(by='Nature')\n",
    "\n",
    "#create subplots\n",
    "fig = make_subplots(\n",
    "    rows=2, cols=2,\n",
    "    subplot_titles=(\"Safety\", \"Hospitality\", \"History\", \"Nature\"),\n",
    "    horizontal_spacing=0.1, vertical_spacing=0.1\n",
    ")\n",
    "\n",
    "# add bar charts to each subplot\n",
    "fig.add_trace(\n",
    "    go.Bar(y=sorted_safety['Countries'], x=sorted_safety['Safety'], name='Safety', orientation='h'),\n",
    "    row=1, col=1\n",
    ")\n",
    "fig.add_trace(\n",
    "    go.Bar(y=sorted_hospitality['Countries'], x=sorted_hospitality['Hospitality'], name='Hospitality', orientation='h'),\n",
    "    row=1, col=2\n",
    ")\n",
    "fig.add_trace(\n",
    "    go.Bar(y=sorted_history['Countries'], x=sorted_history['History'], name='History', orientation='h'),\n",
    "    row=2, col=1\n",
    ")\n",
    "fig.add_trace(\n",
    "    go.Bar(y=sorted_nature['Countries'], x=sorted_nature['Nature'], name='Nature', orientation='h'),\n",
    "    row=2, col=2\n",
    ")\n",
    "\n",
    "#update layout\n",
    "fig.update_layout(\n",
    "    title_text='Ratings by Country (1 - 5)',\n",
    "    showlegend=False,\n",
    "    height=800,\n",
    "    width=1000,\n",
    "    title_x=0.5\n",
    ")\n",
    "\n",
    "fig.show()\n"
   ]
  },
  {
   "cell_type": "code",
   "execution_count": 12,
   "metadata": {},
   "outputs": [
    {
     "data": {
      "text/html": [
       "<div>\n",
       "<style scoped>\n",
       "    .dataframe tbody tr th:only-of-type {\n",
       "        vertical-align: middle;\n",
       "    }\n",
       "\n",
       "    .dataframe tbody tr th {\n",
       "        vertical-align: top;\n",
       "    }\n",
       "\n",
       "    .dataframe thead th {\n",
       "        text-align: right;\n",
       "    }\n",
       "</style>\n",
       "<table border=\"1\" class=\"dataframe\">\n",
       "  <thead>\n",
       "    <tr style=\"text-align: right;\">\n",
       "      <th></th>\n",
       "      <th>Region</th>\n",
       "      <th>Region_General</th>\n",
       "      <th>Countries</th>\n",
       "      <th>Capital_city</th>\n",
       "      <th>Latitude</th>\n",
       "      <th>Longitude</th>\n",
       "      <th>Diversity</th>\n",
       "      <th>Safety</th>\n",
       "      <th>Hospitality</th>\n",
       "      <th>History</th>\n",
       "      <th>Nature</th>\n",
       "      <th>Return</th>\n",
       "    </tr>\n",
       "  </thead>\n",
       "  <tbody>\n",
       "    <tr>\n",
       "      <th>0</th>\n",
       "      <td>Caucasia</td>\n",
       "      <td>Europe</td>\n",
       "      <td>Azerbaijan</td>\n",
       "      <td>Baku</td>\n",
       "      <td>40.4093</td>\n",
       "      <td>49.8671</td>\n",
       "      <td>Low</td>\n",
       "      <td>4</td>\n",
       "      <td>3</td>\n",
       "      <td>2</td>\n",
       "      <td>4</td>\n",
       "      <td>Yes</td>\n",
       "    </tr>\n",
       "    <tr>\n",
       "      <th>1</th>\n",
       "      <td>Central Europe</td>\n",
       "      <td>Europe</td>\n",
       "      <td>Hungary</td>\n",
       "      <td>Budapest</td>\n",
       "      <td>47.4979</td>\n",
       "      <td>19.0402</td>\n",
       "      <td>Low</td>\n",
       "      <td>4</td>\n",
       "      <td>3</td>\n",
       "      <td>3</td>\n",
       "      <td>4</td>\n",
       "      <td>Indifferent</td>\n",
       "    </tr>\n",
       "    <tr>\n",
       "      <th>2</th>\n",
       "      <td>Central Europe</td>\n",
       "      <td>Europe</td>\n",
       "      <td>Czechia</td>\n",
       "      <td>Prague</td>\n",
       "      <td>50.0755</td>\n",
       "      <td>14.4378</td>\n",
       "      <td>Low</td>\n",
       "      <td>3</td>\n",
       "      <td>1</td>\n",
       "      <td>3</td>\n",
       "      <td>3</td>\n",
       "      <td>No</td>\n",
       "    </tr>\n",
       "    <tr>\n",
       "      <th>3</th>\n",
       "      <td>Central Europe</td>\n",
       "      <td>Europe</td>\n",
       "      <td>Switzerland</td>\n",
       "      <td>Bern</td>\n",
       "      <td>46.9479</td>\n",
       "      <td>7.4474</td>\n",
       "      <td>Low</td>\n",
       "      <td>4</td>\n",
       "      <td>4</td>\n",
       "      <td>2</td>\n",
       "      <td>5</td>\n",
       "      <td>Yes</td>\n",
       "    </tr>\n",
       "    <tr>\n",
       "      <th>4</th>\n",
       "      <td>Middle East</td>\n",
       "      <td>Middle East</td>\n",
       "      <td>Iran</td>\n",
       "      <td>Tehran</td>\n",
       "      <td>35.6892</td>\n",
       "      <td>51.3890</td>\n",
       "      <td>Low</td>\n",
       "      <td>4</td>\n",
       "      <td>5</td>\n",
       "      <td>5</td>\n",
       "      <td>5</td>\n",
       "      <td>Yes</td>\n",
       "    </tr>\n",
       "    <tr>\n",
       "      <th>5</th>\n",
       "      <td>Middle East</td>\n",
       "      <td>Middle East</td>\n",
       "      <td>UAE</td>\n",
       "      <td>Dubai</td>\n",
       "      <td>24.4539</td>\n",
       "      <td>54.3773</td>\n",
       "      <td>Medium</td>\n",
       "      <td>4</td>\n",
       "      <td>2</td>\n",
       "      <td>1</td>\n",
       "      <td>1</td>\n",
       "      <td>No</td>\n",
       "    </tr>\n",
       "    <tr>\n",
       "      <th>6</th>\n",
       "      <td>Middle East</td>\n",
       "      <td>Middle East</td>\n",
       "      <td>Turkey</td>\n",
       "      <td>Istabul</td>\n",
       "      <td>41.0082</td>\n",
       "      <td>28.9784</td>\n",
       "      <td>Low</td>\n",
       "      <td>4</td>\n",
       "      <td>5</td>\n",
       "      <td>5</td>\n",
       "      <td>4</td>\n",
       "      <td>Yes</td>\n",
       "    </tr>\n",
       "    <tr>\n",
       "      <th>7</th>\n",
       "      <td>Oceania</td>\n",
       "      <td>Europe</td>\n",
       "      <td>Australia</td>\n",
       "      <td>Melbourne</td>\n",
       "      <td>-37.8136</td>\n",
       "      <td>144.9631</td>\n",
       "      <td>High</td>\n",
       "      <td>4</td>\n",
       "      <td>3</td>\n",
       "      <td>2</td>\n",
       "      <td>5</td>\n",
       "      <td>Yes</td>\n",
       "    </tr>\n",
       "    <tr>\n",
       "      <th>8</th>\n",
       "      <td>South Asia</td>\n",
       "      <td>Asia</td>\n",
       "      <td>India</td>\n",
       "      <td>Kerala</td>\n",
       "      <td>8.5241</td>\n",
       "      <td>76.9366</td>\n",
       "      <td>Low</td>\n",
       "      <td>2</td>\n",
       "      <td>3</td>\n",
       "      <td>1</td>\n",
       "      <td>3</td>\n",
       "      <td>Indifferent</td>\n",
       "    </tr>\n",
       "    <tr>\n",
       "      <th>9</th>\n",
       "      <td>Southeast Asia</td>\n",
       "      <td>Asia</td>\n",
       "      <td>Singapore</td>\n",
       "      <td>Singapore</td>\n",
       "      <td>1.3521</td>\n",
       "      <td>103.8198</td>\n",
       "      <td>Medium</td>\n",
       "      <td>4</td>\n",
       "      <td>2</td>\n",
       "      <td>1</td>\n",
       "      <td>3</td>\n",
       "      <td>Indifferent</td>\n",
       "    </tr>\n",
       "    <tr>\n",
       "      <th>10</th>\n",
       "      <td>Southeast Asia</td>\n",
       "      <td>Asia</td>\n",
       "      <td>Indonesia</td>\n",
       "      <td>Denpasar</td>\n",
       "      <td>-8.3405</td>\n",
       "      <td>115.0920</td>\n",
       "      <td>Low</td>\n",
       "      <td>4</td>\n",
       "      <td>5</td>\n",
       "      <td>1</td>\n",
       "      <td>4</td>\n",
       "      <td>Yes</td>\n",
       "    </tr>\n",
       "    <tr>\n",
       "      <th>11</th>\n",
       "      <td>Southeast Asia</td>\n",
       "      <td>Asia</td>\n",
       "      <td>Thailand</td>\n",
       "      <td>Bangkok</td>\n",
       "      <td>13.7563</td>\n",
       "      <td>100.5018</td>\n",
       "      <td>Low</td>\n",
       "      <td>4</td>\n",
       "      <td>4</td>\n",
       "      <td>1</td>\n",
       "      <td>5</td>\n",
       "      <td>Yes</td>\n",
       "    </tr>\n",
       "    <tr>\n",
       "      <th>12</th>\n",
       "      <td>Southeast Europe</td>\n",
       "      <td>Europe</td>\n",
       "      <td>Bulgaria</td>\n",
       "      <td>Sofia</td>\n",
       "      <td>42.6977</td>\n",
       "      <td>23.3219</td>\n",
       "      <td>Low</td>\n",
       "      <td>4</td>\n",
       "      <td>4</td>\n",
       "      <td>2</td>\n",
       "      <td>3</td>\n",
       "      <td>No</td>\n",
       "    </tr>\n",
       "    <tr>\n",
       "      <th>13</th>\n",
       "      <td>Southeast Europe</td>\n",
       "      <td>Europe</td>\n",
       "      <td>Romania</td>\n",
       "      <td>Bucharest</td>\n",
       "      <td>44.4268</td>\n",
       "      <td>26.1025</td>\n",
       "      <td>Low</td>\n",
       "      <td>2</td>\n",
       "      <td>3</td>\n",
       "      <td>2</td>\n",
       "      <td>3</td>\n",
       "      <td>No</td>\n",
       "    </tr>\n",
       "    <tr>\n",
       "      <th>14</th>\n",
       "      <td>Western Europe</td>\n",
       "      <td>Europe</td>\n",
       "      <td>Germany</td>\n",
       "      <td>Berlin</td>\n",
       "      <td>52.5200</td>\n",
       "      <td>13.4050</td>\n",
       "      <td>Low</td>\n",
       "      <td>4</td>\n",
       "      <td>1</td>\n",
       "      <td>4</td>\n",
       "      <td>3</td>\n",
       "      <td>No</td>\n",
       "    </tr>\n",
       "    <tr>\n",
       "      <th>15</th>\n",
       "      <td>Western Europe</td>\n",
       "      <td>Europe</td>\n",
       "      <td>France</td>\n",
       "      <td>Paris</td>\n",
       "      <td>48.8566</td>\n",
       "      <td>2.3522</td>\n",
       "      <td>High</td>\n",
       "      <td>4</td>\n",
       "      <td>3</td>\n",
       "      <td>5</td>\n",
       "      <td>4</td>\n",
       "      <td>Yes</td>\n",
       "    </tr>\n",
       "  </tbody>\n",
       "</table>\n",
       "</div>"
      ],
      "text/plain": [
       "              Region Region_General    Countries Capital_city  Latitude  \\\n",
       "0           Caucasia         Europe   Azerbaijan         Baku   40.4093   \n",
       "1     Central Europe         Europe      Hungary     Budapest   47.4979   \n",
       "2     Central Europe         Europe      Czechia       Prague   50.0755   \n",
       "3     Central Europe         Europe  Switzerland         Bern   46.9479   \n",
       "4        Middle East    Middle East         Iran       Tehran   35.6892   \n",
       "5        Middle East    Middle East          UAE        Dubai   24.4539   \n",
       "6        Middle East    Middle East       Turkey      Istabul   41.0082   \n",
       "7            Oceania         Europe    Australia    Melbourne  -37.8136   \n",
       "8         South Asia           Asia        India       Kerala    8.5241   \n",
       "9     Southeast Asia           Asia    Singapore    Singapore    1.3521   \n",
       "10    Southeast Asia           Asia    Indonesia     Denpasar   -8.3405   \n",
       "11    Southeast Asia           Asia     Thailand      Bangkok   13.7563   \n",
       "12  Southeast Europe         Europe     Bulgaria        Sofia   42.6977   \n",
       "13  Southeast Europe         Europe      Romania    Bucharest   44.4268   \n",
       "14    Western Europe         Europe      Germany       Berlin   52.5200   \n",
       "15    Western Europe         Europe       France        Paris   48.8566   \n",
       "\n",
       "    Longitude Diversity  Safety  Hospitality  History  Nature       Return  \n",
       "0     49.8671       Low       4            3        2       4          Yes  \n",
       "1     19.0402       Low       4            3        3       4  Indifferent  \n",
       "2     14.4378       Low       3            1        3       3           No  \n",
       "3      7.4474       Low       4            4        2       5          Yes  \n",
       "4     51.3890       Low       4            5        5       5          Yes  \n",
       "5     54.3773    Medium       4            2        1       1           No  \n",
       "6     28.9784       Low       4            5        5       4          Yes  \n",
       "7    144.9631      High       4            3        2       5          Yes  \n",
       "8     76.9366       Low       2            3        1       3  Indifferent  \n",
       "9    103.8198    Medium       4            2        1       3  Indifferent  \n",
       "10   115.0920       Low       4            5        1       4          Yes  \n",
       "11   100.5018       Low       4            4        1       5          Yes  \n",
       "12    23.3219       Low       4            4        2       3           No  \n",
       "13    26.1025       Low       2            3        2       3           No  \n",
       "14    13.4050       Low       4            1        4       3           No  \n",
       "15     2.3522      High       4            3        5       4          Yes  "
      ]
     },
     "execution_count": 12,
     "metadata": {},
     "output_type": "execute_result"
    }
   ],
   "source": [
    "trav"
   ]
  },
  {
   "cell_type": "code",
   "execution_count": 13,
   "metadata": {},
   "outputs": [
    {
     "data": {
      "text/plain": [
       "Index(['Region', 'Region_General', 'Countries', 'Capital_city', 'Latitude',\n",
       "       'Longitude', 'Diversity', 'Safety', 'Hospitality', 'History', 'Nature',\n",
       "       'Return'],\n",
       "      dtype='object')"
      ]
     },
     "execution_count": 13,
     "metadata": {},
     "output_type": "execute_result"
    }
   ],
   "source": [
    "trav.columns"
   ]
  },
  {
   "cell_type": "code",
   "execution_count": 86,
   "metadata": {},
   "outputs": [
    {
     "data": {
      "application/vnd.plotly.v1+json": {
       "config": {
        "plotlyServerURL": "https://plot.ly"
       },
       "data": [
        {
         "hovertemplate": "Rating Type=Safety<br>Countries=%{x}<br>Rating Values=%{y}<br>size=%{marker.size}<extra></extra>",
         "legendgroup": "Safety",
         "marker": {
          "color": "blue",
          "opacity": 0.7,
          "size": [
           78.47230817217198,
           80.14557077177223,
           61.18297856467416,
           81.91367453570845,
           79.68723974530648,
           80.5427106578007,
           78.88616802571738,
           80.36067701595654,
           39.9224662820925,
           80.81819964976246,
           80.72745917762447,
           78.98539687510522,
           79.24233238140278,
           38.846727332154316,
           78.56819187020884,
           81.0643734628212
          ],
          "sizemode": "area",
          "sizeref": 0.2548416849494368,
          "symbol": "circle"
         },
         "mode": "markers",
         "name": "Safety",
         "orientation": "v",
         "showlegend": true,
         "type": "scatter",
         "x": [
          "Azerbaijan",
          "Hungary",
          "Czechia",
          "Switzerland",
          "Iran",
          "UAE",
          "Turkey",
          "Australia",
          "India",
          "Singapore",
          "Indonesia",
          "Thailand",
          "Bulgaria",
          "Romania",
          "Germany",
          "France"
         ],
         "xaxis": "x",
         "y": [
          3.923615408608599,
          4.007278538588611,
          3.059148928233708,
          4.095683726785422,
          3.9843619872653244,
          4.027135532890035,
          3.944308401285869,
          4.018033850797827,
          1.9961233141046248,
          4.040909982488123,
          4.036372958881223,
          3.9492698437552614,
          3.962116619070139,
          1.9423363666077158,
          3.9284095935104415,
          4.0532186731410595
         ],
         "yaxis": "y"
        },
        {
         "hovertemplate": "Rating Type=Hospitality<br>Countries=%{x}<br>Rating Values=%{y}<br>size=%{marker.size}<extra></extra>",
         "legendgroup": "Hospitality",
         "marker": {
          "color": "yellow",
          "opacity": 0.7,
          "size": [
           61.74537362721786,
           58.32322252352695,
           21.898678870436996,
           78.988940357824,
           101.93667397977472,
           41.166309092955764,
           99.65787972146632,
           60.808638657398404,
           59.1943833342313,
           39.22193862511812,
           98.26540447081925,
           80.21887045024533,
           81.82369473638018,
           59.26261542088297,
           18.990238670437723,
           58.172360207286104
          ],
          "sizemode": "area",
          "sizeref": 0.2548416849494368,
          "symbol": "circle"
         },
         "mode": "markers",
         "name": "Hospitality",
         "orientation": "v",
         "showlegend": true,
         "type": "scatter",
         "x": [
          "Azerbaijan",
          "Hungary",
          "Czechia",
          "Switzerland",
          "Iran",
          "UAE",
          "Turkey",
          "Australia",
          "India",
          "Singapore",
          "Indonesia",
          "Thailand",
          "Bulgaria",
          "Romania",
          "Germany",
          "France"
         ],
         "xaxis": "x",
         "y": [
          3.087268681360893,
          2.9161611261763474,
          1.0949339435218497,
          3.9494470178912002,
          5.096833698988736,
          2.058315454647788,
          4.982893986073316,
          3.0404319328699203,
          2.9597191667115648,
          1.961096931255906,
          4.913270223540962,
          4.0109435225122665,
          4.091184736819009,
          2.9631307710441486,
          0.9495119335218861,
          2.908618010364305
         ],
         "yaxis": "y"
        },
        {
         "hovertemplate": "Rating Type=History<br>Countries=%{x}<br>Rating Values=%{y}<br>size=%{marker.size}<extra></extra>",
         "legendgroup": "History",
         "marker": {
          "color": "red",
          "opacity": 0.7,
          "size": [
           41.54816133732366,
           61.53277647633346,
           58.37750783576886,
           38.47242639684634,
           101.72473954281772,
           21.408941813542878,
           98.33885668697516,
           40.55613968062374,
           20.71173368495094,
           20.973442967761635,
           19.727117654862553,
           18.902960531184902,
           40.48225648698267,
           40.85212769076614,
           78.6771854572093,
           98.5294949877418
          ],
          "sizemode": "area",
          "sizeref": 0.2548416849494368,
          "symbol": "circle"
         },
         "mode": "markers",
         "name": "History",
         "orientation": "v",
         "showlegend": true,
         "type": "scatter",
         "x": [
          "Azerbaijan",
          "Hungary",
          "Czechia",
          "Switzerland",
          "Iran",
          "UAE",
          "Turkey",
          "Australia",
          "India",
          "Singapore",
          "Indonesia",
          "Thailand",
          "Bulgaria",
          "Romania",
          "Germany",
          "France"
         ],
         "xaxis": "x",
         "y": [
          2.077408066866183,
          3.076638823816673,
          2.918875391788443,
          1.9236213198423169,
          5.086236977140886,
          1.070447090677144,
          4.916942834348758,
          2.0278069840311868,
          1.035586684247547,
          1.0486721483880816,
          0.9863558827431277,
          0.9451480265592451,
          2.0241128243491335,
          2.042606384538307,
          3.9338592728604653,
          4.92647474938709
         ],
         "yaxis": "y"
        },
        {
         "hovertemplate": "Rating Type=Nature<br>Countries=%{x}<br>Rating Values=%{y}<br>size=%{marker.size}<extra></extra>",
         "legendgroup": "Nature",
         "marker": {
          "color": "fuchsia",
          "opacity": 0.7,
          "size": [
           80.09385401206343,
           79.03338800319138,
           58.251853807605926,
           100.94995021429364,
           101.01293526259745,
           20.98855335537881,
           78.77520775816262,
           98.9101561065095,
           59.19147287260977,
           58.58570306866917,
           79.8721526591846,
           99.96752426959547,
           58.35019758652439,
           59.66636381029326,
           61.419880463726095,
           80.04190185339823
          ],
          "sizemode": "area",
          "sizeref": 0.2548416849494368,
          "symbol": "circle"
         },
         "mode": "markers",
         "name": "Nature",
         "orientation": "v",
         "showlegend": true,
         "type": "scatter",
         "x": [
          "Azerbaijan",
          "Hungary",
          "Czechia",
          "Switzerland",
          "Iran",
          "UAE",
          "Turkey",
          "Australia",
          "India",
          "Singapore",
          "Indonesia",
          "Thailand",
          "Bulgaria",
          "Romania",
          "Germany",
          "France"
         ],
         "xaxis": "x",
         "y": [
          4.004692700603171,
          3.951669400159569,
          2.912592690380296,
          5.047497510714682,
          5.050646763129873,
          1.0494276677689405,
          3.9387603879081308,
          4.945507805325475,
          2.9595736436304887,
          2.9292851534334585,
          3.9936076329592294,
          4.998376213479774,
          2.9175098793262193,
          2.9833181905146633,
          3.0709940231863047,
          4.0020950926699115
         ],
         "yaxis": "y"
        }
       ],
       "layout": {
        "legend": {
         "itemsizing": "constant",
         "orientation": "h",
         "title": {
          "text": "Legend"
         },
         "tracegroupgap": 0,
         "x": 0.5,
         "xanchor": "center",
         "y": 1.15,
         "yanchor": "top"
        },
        "margin": {
         "b": 20,
         "l": 20,
         "r": 20,
         "t": 80
        },
        "template": {
         "data": {
          "bar": [
           {
            "error_x": {
             "color": "#f2f5fa"
            },
            "error_y": {
             "color": "#f2f5fa"
            },
            "marker": {
             "line": {
              "color": "rgb(17,17,17)",
              "width": 0.5
             },
             "pattern": {
              "fillmode": "overlay",
              "size": 10,
              "solidity": 0.2
             }
            },
            "type": "bar"
           }
          ],
          "barpolar": [
           {
            "marker": {
             "line": {
              "color": "rgb(17,17,17)",
              "width": 0.5
             },
             "pattern": {
              "fillmode": "overlay",
              "size": 10,
              "solidity": 0.2
             }
            },
            "type": "barpolar"
           }
          ],
          "carpet": [
           {
            "aaxis": {
             "endlinecolor": "#A2B1C6",
             "gridcolor": "#506784",
             "linecolor": "#506784",
             "minorgridcolor": "#506784",
             "startlinecolor": "#A2B1C6"
            },
            "baxis": {
             "endlinecolor": "#A2B1C6",
             "gridcolor": "#506784",
             "linecolor": "#506784",
             "minorgridcolor": "#506784",
             "startlinecolor": "#A2B1C6"
            },
            "type": "carpet"
           }
          ],
          "choropleth": [
           {
            "colorbar": {
             "outlinewidth": 0,
             "ticks": ""
            },
            "type": "choropleth"
           }
          ],
          "contour": [
           {
            "colorbar": {
             "outlinewidth": 0,
             "ticks": ""
            },
            "colorscale": [
             [
              0,
              "#0d0887"
             ],
             [
              0.1111111111111111,
              "#46039f"
             ],
             [
              0.2222222222222222,
              "#7201a8"
             ],
             [
              0.3333333333333333,
              "#9c179e"
             ],
             [
              0.4444444444444444,
              "#bd3786"
             ],
             [
              0.5555555555555556,
              "#d8576b"
             ],
             [
              0.6666666666666666,
              "#ed7953"
             ],
             [
              0.7777777777777778,
              "#fb9f3a"
             ],
             [
              0.8888888888888888,
              "#fdca26"
             ],
             [
              1,
              "#f0f921"
             ]
            ],
            "type": "contour"
           }
          ],
          "contourcarpet": [
           {
            "colorbar": {
             "outlinewidth": 0,
             "ticks": ""
            },
            "type": "contourcarpet"
           }
          ],
          "heatmap": [
           {
            "colorbar": {
             "outlinewidth": 0,
             "ticks": ""
            },
            "colorscale": [
             [
              0,
              "#0d0887"
             ],
             [
              0.1111111111111111,
              "#46039f"
             ],
             [
              0.2222222222222222,
              "#7201a8"
             ],
             [
              0.3333333333333333,
              "#9c179e"
             ],
             [
              0.4444444444444444,
              "#bd3786"
             ],
             [
              0.5555555555555556,
              "#d8576b"
             ],
             [
              0.6666666666666666,
              "#ed7953"
             ],
             [
              0.7777777777777778,
              "#fb9f3a"
             ],
             [
              0.8888888888888888,
              "#fdca26"
             ],
             [
              1,
              "#f0f921"
             ]
            ],
            "type": "heatmap"
           }
          ],
          "heatmapgl": [
           {
            "colorbar": {
             "outlinewidth": 0,
             "ticks": ""
            },
            "colorscale": [
             [
              0,
              "#0d0887"
             ],
             [
              0.1111111111111111,
              "#46039f"
             ],
             [
              0.2222222222222222,
              "#7201a8"
             ],
             [
              0.3333333333333333,
              "#9c179e"
             ],
             [
              0.4444444444444444,
              "#bd3786"
             ],
             [
              0.5555555555555556,
              "#d8576b"
             ],
             [
              0.6666666666666666,
              "#ed7953"
             ],
             [
              0.7777777777777778,
              "#fb9f3a"
             ],
             [
              0.8888888888888888,
              "#fdca26"
             ],
             [
              1,
              "#f0f921"
             ]
            ],
            "type": "heatmapgl"
           }
          ],
          "histogram": [
           {
            "marker": {
             "pattern": {
              "fillmode": "overlay",
              "size": 10,
              "solidity": 0.2
             }
            },
            "type": "histogram"
           }
          ],
          "histogram2d": [
           {
            "colorbar": {
             "outlinewidth": 0,
             "ticks": ""
            },
            "colorscale": [
             [
              0,
              "#0d0887"
             ],
             [
              0.1111111111111111,
              "#46039f"
             ],
             [
              0.2222222222222222,
              "#7201a8"
             ],
             [
              0.3333333333333333,
              "#9c179e"
             ],
             [
              0.4444444444444444,
              "#bd3786"
             ],
             [
              0.5555555555555556,
              "#d8576b"
             ],
             [
              0.6666666666666666,
              "#ed7953"
             ],
             [
              0.7777777777777778,
              "#fb9f3a"
             ],
             [
              0.8888888888888888,
              "#fdca26"
             ],
             [
              1,
              "#f0f921"
             ]
            ],
            "type": "histogram2d"
           }
          ],
          "histogram2dcontour": [
           {
            "colorbar": {
             "outlinewidth": 0,
             "ticks": ""
            },
            "colorscale": [
             [
              0,
              "#0d0887"
             ],
             [
              0.1111111111111111,
              "#46039f"
             ],
             [
              0.2222222222222222,
              "#7201a8"
             ],
             [
              0.3333333333333333,
              "#9c179e"
             ],
             [
              0.4444444444444444,
              "#bd3786"
             ],
             [
              0.5555555555555556,
              "#d8576b"
             ],
             [
              0.6666666666666666,
              "#ed7953"
             ],
             [
              0.7777777777777778,
              "#fb9f3a"
             ],
             [
              0.8888888888888888,
              "#fdca26"
             ],
             [
              1,
              "#f0f921"
             ]
            ],
            "type": "histogram2dcontour"
           }
          ],
          "mesh3d": [
           {
            "colorbar": {
             "outlinewidth": 0,
             "ticks": ""
            },
            "type": "mesh3d"
           }
          ],
          "parcoords": [
           {
            "line": {
             "colorbar": {
              "outlinewidth": 0,
              "ticks": ""
             }
            },
            "type": "parcoords"
           }
          ],
          "pie": [
           {
            "automargin": true,
            "type": "pie"
           }
          ],
          "scatter": [
           {
            "marker": {
             "line": {
              "color": "#283442"
             }
            },
            "type": "scatter"
           }
          ],
          "scatter3d": [
           {
            "line": {
             "colorbar": {
              "outlinewidth": 0,
              "ticks": ""
             }
            },
            "marker": {
             "colorbar": {
              "outlinewidth": 0,
              "ticks": ""
             }
            },
            "type": "scatter3d"
           }
          ],
          "scattercarpet": [
           {
            "marker": {
             "colorbar": {
              "outlinewidth": 0,
              "ticks": ""
             }
            },
            "type": "scattercarpet"
           }
          ],
          "scattergeo": [
           {
            "marker": {
             "colorbar": {
              "outlinewidth": 0,
              "ticks": ""
             }
            },
            "type": "scattergeo"
           }
          ],
          "scattergl": [
           {
            "marker": {
             "line": {
              "color": "#283442"
             }
            },
            "type": "scattergl"
           }
          ],
          "scattermapbox": [
           {
            "marker": {
             "colorbar": {
              "outlinewidth": 0,
              "ticks": ""
             }
            },
            "type": "scattermapbox"
           }
          ],
          "scatterpolar": [
           {
            "marker": {
             "colorbar": {
              "outlinewidth": 0,
              "ticks": ""
             }
            },
            "type": "scatterpolar"
           }
          ],
          "scatterpolargl": [
           {
            "marker": {
             "colorbar": {
              "outlinewidth": 0,
              "ticks": ""
             }
            },
            "type": "scatterpolargl"
           }
          ],
          "scatterternary": [
           {
            "marker": {
             "colorbar": {
              "outlinewidth": 0,
              "ticks": ""
             }
            },
            "type": "scatterternary"
           }
          ],
          "surface": [
           {
            "colorbar": {
             "outlinewidth": 0,
             "ticks": ""
            },
            "colorscale": [
             [
              0,
              "#0d0887"
             ],
             [
              0.1111111111111111,
              "#46039f"
             ],
             [
              0.2222222222222222,
              "#7201a8"
             ],
             [
              0.3333333333333333,
              "#9c179e"
             ],
             [
              0.4444444444444444,
              "#bd3786"
             ],
             [
              0.5555555555555556,
              "#d8576b"
             ],
             [
              0.6666666666666666,
              "#ed7953"
             ],
             [
              0.7777777777777778,
              "#fb9f3a"
             ],
             [
              0.8888888888888888,
              "#fdca26"
             ],
             [
              1,
              "#f0f921"
             ]
            ],
            "type": "surface"
           }
          ],
          "table": [
           {
            "cells": {
             "fill": {
              "color": "#506784"
             },
             "line": {
              "color": "rgb(17,17,17)"
             }
            },
            "header": {
             "fill": {
              "color": "#2a3f5f"
             },
             "line": {
              "color": "rgb(17,17,17)"
             }
            },
            "type": "table"
           }
          ]
         },
         "layout": {
          "annotationdefaults": {
           "arrowcolor": "#f2f5fa",
           "arrowhead": 0,
           "arrowwidth": 1
          },
          "autotypenumbers": "strict",
          "coloraxis": {
           "colorbar": {
            "outlinewidth": 0,
            "ticks": ""
           }
          },
          "colorscale": {
           "diverging": [
            [
             0,
             "#8e0152"
            ],
            [
             0.1,
             "#c51b7d"
            ],
            [
             0.2,
             "#de77ae"
            ],
            [
             0.3,
             "#f1b6da"
            ],
            [
             0.4,
             "#fde0ef"
            ],
            [
             0.5,
             "#f7f7f7"
            ],
            [
             0.6,
             "#e6f5d0"
            ],
            [
             0.7,
             "#b8e186"
            ],
            [
             0.8,
             "#7fbc41"
            ],
            [
             0.9,
             "#4d9221"
            ],
            [
             1,
             "#276419"
            ]
           ],
           "sequential": [
            [
             0,
             "#0d0887"
            ],
            [
             0.1111111111111111,
             "#46039f"
            ],
            [
             0.2222222222222222,
             "#7201a8"
            ],
            [
             0.3333333333333333,
             "#9c179e"
            ],
            [
             0.4444444444444444,
             "#bd3786"
            ],
            [
             0.5555555555555556,
             "#d8576b"
            ],
            [
             0.6666666666666666,
             "#ed7953"
            ],
            [
             0.7777777777777778,
             "#fb9f3a"
            ],
            [
             0.8888888888888888,
             "#fdca26"
            ],
            [
             1,
             "#f0f921"
            ]
           ],
           "sequentialminus": [
            [
             0,
             "#0d0887"
            ],
            [
             0.1111111111111111,
             "#46039f"
            ],
            [
             0.2222222222222222,
             "#7201a8"
            ],
            [
             0.3333333333333333,
             "#9c179e"
            ],
            [
             0.4444444444444444,
             "#bd3786"
            ],
            [
             0.5555555555555556,
             "#d8576b"
            ],
            [
             0.6666666666666666,
             "#ed7953"
            ],
            [
             0.7777777777777778,
             "#fb9f3a"
            ],
            [
             0.8888888888888888,
             "#fdca26"
            ],
            [
             1,
             "#f0f921"
            ]
           ]
          },
          "colorway": [
           "#636efa",
           "#EF553B",
           "#00cc96",
           "#ab63fa",
           "#FFA15A",
           "#19d3f3",
           "#FF6692",
           "#B6E880",
           "#FF97FF",
           "#FECB52"
          ],
          "font": {
           "color": "#f2f5fa"
          },
          "geo": {
           "bgcolor": "rgb(17,17,17)",
           "lakecolor": "rgb(17,17,17)",
           "landcolor": "rgb(17,17,17)",
           "showlakes": true,
           "showland": true,
           "subunitcolor": "#506784"
          },
          "hoverlabel": {
           "align": "left"
          },
          "hovermode": "closest",
          "mapbox": {
           "style": "dark"
          },
          "paper_bgcolor": "rgb(17,17,17)",
          "plot_bgcolor": "rgb(17,17,17)",
          "polar": {
           "angularaxis": {
            "gridcolor": "#506784",
            "linecolor": "#506784",
            "ticks": ""
           },
           "bgcolor": "rgb(17,17,17)",
           "radialaxis": {
            "gridcolor": "#506784",
            "linecolor": "#506784",
            "ticks": ""
           }
          },
          "scene": {
           "xaxis": {
            "backgroundcolor": "rgb(17,17,17)",
            "gridcolor": "#506784",
            "gridwidth": 2,
            "linecolor": "#506784",
            "showbackground": true,
            "ticks": "",
            "zerolinecolor": "#C8D4E3"
           },
           "yaxis": {
            "backgroundcolor": "rgb(17,17,17)",
            "gridcolor": "#506784",
            "gridwidth": 2,
            "linecolor": "#506784",
            "showbackground": true,
            "ticks": "",
            "zerolinecolor": "#C8D4E3"
           },
           "zaxis": {
            "backgroundcolor": "rgb(17,17,17)",
            "gridcolor": "#506784",
            "gridwidth": 2,
            "linecolor": "#506784",
            "showbackground": true,
            "ticks": "",
            "zerolinecolor": "#C8D4E3"
           }
          },
          "shapedefaults": {
           "line": {
            "color": "#f2f5fa"
           }
          },
          "sliderdefaults": {
           "bgcolor": "#C8D4E3",
           "bordercolor": "rgb(17,17,17)",
           "borderwidth": 1,
           "tickwidth": 0
          },
          "ternary": {
           "aaxis": {
            "gridcolor": "#506784",
            "linecolor": "#506784",
            "ticks": ""
           },
           "baxis": {
            "gridcolor": "#506784",
            "linecolor": "#506784",
            "ticks": ""
           },
           "bgcolor": "rgb(17,17,17)",
           "caxis": {
            "gridcolor": "#506784",
            "linecolor": "#506784",
            "ticks": ""
           }
          },
          "title": {
           "x": 0.05
          },
          "updatemenudefaults": {
           "bgcolor": "#506784",
           "borderwidth": 0
          },
          "xaxis": {
           "automargin": true,
           "gridcolor": "#283442",
           "linecolor": "#506784",
           "ticks": "",
           "title": {
            "standoff": 15
           },
           "zerolinecolor": "#283442",
           "zerolinewidth": 2
          },
          "yaxis": {
           "automargin": true,
           "gridcolor": "#283442",
           "linecolor": "#506784",
           "ticks": "",
           "title": {
            "standoff": 15
           },
           "zerolinecolor": "#283442",
           "zerolinewidth": 2
          }
         }
        },
        "title": {
         "font": {
          "family": "Arial",
          "size": 25
         },
         "text": "Country Ratings",
         "x": 0.5,
         "xanchor": "center",
         "y": 0.95,
         "yanchor": "top"
        },
        "xaxis": {
         "anchor": "y",
         "domain": [
          0,
          1
         ],
         "title": {
          "text": "Countries"
         }
        },
        "yaxis": {
         "anchor": "x",
         "domain": [
          0,
          1
         ],
         "title": {
          "text": "Rating Values"
         }
        }
       }
      }
     },
     "metadata": {},
     "output_type": "display_data"
    }
   ],
   "source": [
    "import numpy as np \n",
    "\n",
    "#melt the data \n",
    "trav_melted = trav.melt(\n",
    "    id_vars=['Countries'],\n",
    "    value_vars=['Safety', 'Hospitality', 'History', 'Nature'],\n",
    "    var_name='Rating Type',\n",
    "    value_name='Rating Value'\n",
    ")\n",
    "\n",
    "# Add jitter to the Rating Value to reduce overlap\n",
    "jitter_strength = 0.1  # Adjust this value for more or less jitter\n",
    "trav_melted['Rating Value'] += np.random.uniform(-jitter_strength, jitter_strength, size=trav_melted.shape[0])\n",
    "\n",
    "#cretae a size mapping based on rating values\n",
    "size_scale = trav_melted['Rating Value'] * 20\n",
    "\n",
    "color_map = {\n",
    "    'Safety': 'blue',\n",
    "    'Hospitality': 'yellow',\n",
    "    'History': 'red',\n",
    "    'Nature': 'fuchsia'\n",
    "}\n",
    "\n",
    "fig = px.scatter(\n",
    "    trav_melted,\n",
    "    x='Countries',\n",
    "    y='Rating Value',\n",
    "    color='Rating Type',\n",
    "    size=size_scale,\n",
    "    opacity=0.7,\n",
    "    color_discrete_map= color_map,\n",
    "    labels={'Rating Value': 'Rating Values', 'Countries': 'Countries'}\n",
    ")\n",
    "\n",
    "fig.update_layout(\n",
    "    title={\n",
    "        'text': 'Country Ratings',\n",
    "        'x': 0.5,\n",
    "        'y': 0.95,\n",
    "        'xanchor': 'center',\n",
    "        'yanchor': 'top'\n",
    "    },\n",
    "    title_font={\n",
    "        'size': 25,  \n",
    "        'family': 'Arial'\n",
    "    }, \n",
    "     legend=dict(\n",
    "        x=0.5,  # Position to the right of the chart\n",
    "        y= 1.15,   # Center vertically\n",
    "        xanchor='center',  # Anchor to the left side of the legend\n",
    "        yanchor='top',  # Anchor to the middle of the legend\n",
    "        orientation= 'h',\n",
    "        title='Legend' # Optional: Title for the legend\n",
    "    ),\n",
    "    template='plotly_dark',\n",
    "    margin=dict(l=20, r=20, t=80, b=20)\n",
    ")\n",
    "\n",
    "fig.write_html(\"country_ratings_overview.html\")\n",
    "\n",
    "fig.show()"
   ]
  },
  {
   "cell_type": "code",
   "execution_count": 68,
   "metadata": {},
   "outputs": [
    {
     "data": {
      "application/vnd.plotly.v1+json": {
       "config": {
        "plotlyServerURL": "https://plot.ly"
       },
       "data": [
        {
         "alignmentgroup": "True",
         "hovertemplate": "Rating Type=Safety<br>Region_General=Europe<br>Rating Value=%{text}<br>Countries=%{y}<extra></extra>",
         "legendgroup": "Safety",
         "marker": {
          "color": "#636efa",
          "pattern": {
           "shape": ""
          }
         },
         "name": "Safety",
         "offsetgroup": "Safety",
         "orientation": "h",
         "showlegend": true,
         "text": [
          4,
          4,
          3,
          4,
          4,
          4,
          2,
          4,
          4
         ],
         "textposition": "auto",
         "type": "bar",
         "x": [
          4,
          4,
          3,
          4,
          4,
          4,
          2,
          4,
          4
         ],
         "xaxis": "x",
         "y": [
          "Azerbaijan",
          "Hungary",
          "Czechia",
          "Switzerland",
          "Australia",
          "Bulgaria",
          "Romania",
          "Germany",
          "France"
         ],
         "yaxis": "y"
        },
        {
         "alignmentgroup": "True",
         "hovertemplate": "Rating Type=Safety<br>Region_General=Middle East<br>Rating Value=%{text}<br>Countries=%{y}<extra></extra>",
         "legendgroup": "Safety",
         "marker": {
          "color": "#636efa",
          "pattern": {
           "shape": ""
          }
         },
         "name": "Safety",
         "offsetgroup": "Safety",
         "orientation": "h",
         "showlegend": false,
         "text": [
          4,
          4,
          4
         ],
         "textposition": "auto",
         "type": "bar",
         "x": [
          4,
          4,
          4
         ],
         "xaxis": "x2",
         "y": [
          "Iran",
          "UAE",
          "Turkey"
         ],
         "yaxis": "y2"
        },
        {
         "alignmentgroup": "True",
         "hovertemplate": "Rating Type=Safety<br>Region_General=Asia<br>Rating Value=%{text}<br>Countries=%{y}<extra></extra>",
         "legendgroup": "Safety",
         "marker": {
          "color": "#636efa",
          "pattern": {
           "shape": ""
          }
         },
         "name": "Safety",
         "offsetgroup": "Safety",
         "orientation": "h",
         "showlegend": false,
         "text": [
          2,
          4,
          4,
          4
         ],
         "textposition": "auto",
         "type": "bar",
         "x": [
          2,
          4,
          4,
          4
         ],
         "xaxis": "x3",
         "y": [
          "India",
          "Singapore",
          "Indonesia",
          "Thailand"
         ],
         "yaxis": "y3"
        },
        {
         "alignmentgroup": "True",
         "hovertemplate": "Rating Type=Hospitality<br>Region_General=Europe<br>Rating Value=%{text}<br>Countries=%{y}<extra></extra>",
         "legendgroup": "Hospitality",
         "marker": {
          "color": "#EF553B",
          "pattern": {
           "shape": ""
          }
         },
         "name": "Hospitality",
         "offsetgroup": "Hospitality",
         "orientation": "h",
         "showlegend": true,
         "text": [
          3,
          3,
          1,
          4,
          3,
          4,
          3,
          1,
          3
         ],
         "textposition": "auto",
         "type": "bar",
         "x": [
          3,
          3,
          1,
          4,
          3,
          4,
          3,
          1,
          3
         ],
         "xaxis": "x",
         "y": [
          "Azerbaijan",
          "Hungary",
          "Czechia",
          "Switzerland",
          "Australia",
          "Bulgaria",
          "Romania",
          "Germany",
          "France"
         ],
         "yaxis": "y"
        },
        {
         "alignmentgroup": "True",
         "hovertemplate": "Rating Type=Hospitality<br>Region_General=Middle East<br>Rating Value=%{text}<br>Countries=%{y}<extra></extra>",
         "legendgroup": "Hospitality",
         "marker": {
          "color": "#EF553B",
          "pattern": {
           "shape": ""
          }
         },
         "name": "Hospitality",
         "offsetgroup": "Hospitality",
         "orientation": "h",
         "showlegend": false,
         "text": [
          5,
          2,
          5
         ],
         "textposition": "auto",
         "type": "bar",
         "x": [
          5,
          2,
          5
         ],
         "xaxis": "x2",
         "y": [
          "Iran",
          "UAE",
          "Turkey"
         ],
         "yaxis": "y2"
        },
        {
         "alignmentgroup": "True",
         "hovertemplate": "Rating Type=Hospitality<br>Region_General=Asia<br>Rating Value=%{text}<br>Countries=%{y}<extra></extra>",
         "legendgroup": "Hospitality",
         "marker": {
          "color": "#EF553B",
          "pattern": {
           "shape": ""
          }
         },
         "name": "Hospitality",
         "offsetgroup": "Hospitality",
         "orientation": "h",
         "showlegend": false,
         "text": [
          3,
          2,
          5,
          4
         ],
         "textposition": "auto",
         "type": "bar",
         "x": [
          3,
          2,
          5,
          4
         ],
         "xaxis": "x3",
         "y": [
          "India",
          "Singapore",
          "Indonesia",
          "Thailand"
         ],
         "yaxis": "y3"
        },
        {
         "alignmentgroup": "True",
         "hovertemplate": "Rating Type=History<br>Region_General=Europe<br>Rating Value=%{text}<br>Countries=%{y}<extra></extra>",
         "legendgroup": "History",
         "marker": {
          "color": "#00cc96",
          "pattern": {
           "shape": ""
          }
         },
         "name": "History",
         "offsetgroup": "History",
         "orientation": "h",
         "showlegend": true,
         "text": [
          2,
          3,
          3,
          2,
          2,
          2,
          2,
          4,
          5
         ],
         "textposition": "auto",
         "type": "bar",
         "x": [
          2,
          3,
          3,
          2,
          2,
          2,
          2,
          4,
          5
         ],
         "xaxis": "x",
         "y": [
          "Azerbaijan",
          "Hungary",
          "Czechia",
          "Switzerland",
          "Australia",
          "Bulgaria",
          "Romania",
          "Germany",
          "France"
         ],
         "yaxis": "y"
        },
        {
         "alignmentgroup": "True",
         "hovertemplate": "Rating Type=History<br>Region_General=Middle East<br>Rating Value=%{text}<br>Countries=%{y}<extra></extra>",
         "legendgroup": "History",
         "marker": {
          "color": "#00cc96",
          "pattern": {
           "shape": ""
          }
         },
         "name": "History",
         "offsetgroup": "History",
         "orientation": "h",
         "showlegend": false,
         "text": [
          5,
          1,
          5
         ],
         "textposition": "auto",
         "type": "bar",
         "x": [
          5,
          1,
          5
         ],
         "xaxis": "x2",
         "y": [
          "Iran",
          "UAE",
          "Turkey"
         ],
         "yaxis": "y2"
        },
        {
         "alignmentgroup": "True",
         "hovertemplate": "Rating Type=History<br>Region_General=Asia<br>Rating Value=%{text}<br>Countries=%{y}<extra></extra>",
         "legendgroup": "History",
         "marker": {
          "color": "#00cc96",
          "pattern": {
           "shape": ""
          }
         },
         "name": "History",
         "offsetgroup": "History",
         "orientation": "h",
         "showlegend": false,
         "text": [
          1,
          1,
          1,
          1
         ],
         "textposition": "auto",
         "type": "bar",
         "x": [
          1,
          1,
          1,
          1
         ],
         "xaxis": "x3",
         "y": [
          "India",
          "Singapore",
          "Indonesia",
          "Thailand"
         ],
         "yaxis": "y3"
        },
        {
         "alignmentgroup": "True",
         "hovertemplate": "Rating Type=Nature<br>Region_General=Europe<br>Rating Value=%{text}<br>Countries=%{y}<extra></extra>",
         "legendgroup": "Nature",
         "marker": {
          "color": "#ab63fa",
          "pattern": {
           "shape": ""
          }
         },
         "name": "Nature",
         "offsetgroup": "Nature",
         "orientation": "h",
         "showlegend": true,
         "text": [
          4,
          4,
          3,
          5,
          5,
          3,
          3,
          3,
          4
         ],
         "textposition": "auto",
         "type": "bar",
         "x": [
          4,
          4,
          3,
          5,
          5,
          3,
          3,
          3,
          4
         ],
         "xaxis": "x",
         "y": [
          "Azerbaijan",
          "Hungary",
          "Czechia",
          "Switzerland",
          "Australia",
          "Bulgaria",
          "Romania",
          "Germany",
          "France"
         ],
         "yaxis": "y"
        },
        {
         "alignmentgroup": "True",
         "hovertemplate": "Rating Type=Nature<br>Region_General=Middle East<br>Rating Value=%{text}<br>Countries=%{y}<extra></extra>",
         "legendgroup": "Nature",
         "marker": {
          "color": "#ab63fa",
          "pattern": {
           "shape": ""
          }
         },
         "name": "Nature",
         "offsetgroup": "Nature",
         "orientation": "h",
         "showlegend": false,
         "text": [
          5,
          1,
          4
         ],
         "textposition": "auto",
         "type": "bar",
         "x": [
          5,
          1,
          4
         ],
         "xaxis": "x2",
         "y": [
          "Iran",
          "UAE",
          "Turkey"
         ],
         "yaxis": "y2"
        },
        {
         "alignmentgroup": "True",
         "hovertemplate": "Rating Type=Nature<br>Region_General=Asia<br>Rating Value=%{text}<br>Countries=%{y}<extra></extra>",
         "legendgroup": "Nature",
         "marker": {
          "color": "#ab63fa",
          "pattern": {
           "shape": ""
          }
         },
         "name": "Nature",
         "offsetgroup": "Nature",
         "orientation": "h",
         "showlegend": false,
         "text": [
          3,
          3,
          4,
          5
         ],
         "textposition": "auto",
         "type": "bar",
         "x": [
          3,
          3,
          4,
          5
         ],
         "xaxis": "x3",
         "y": [
          "India",
          "Singapore",
          "Indonesia",
          "Thailand"
         ],
         "yaxis": "y3"
        }
       ],
       "layout": {
        "annotations": [
         {
          "font": {},
          "showarrow": false,
          "text": "Region_General=Europe",
          "x": 0.15999999999999998,
          "xanchor": "center",
          "xref": "paper",
          "y": 1,
          "yanchor": "bottom",
          "yref": "paper"
         },
         {
          "font": {},
          "showarrow": false,
          "text": "Region_General=Middle East",
          "x": 0.49999999999999994,
          "xanchor": "center",
          "xref": "paper",
          "y": 1,
          "yanchor": "bottom",
          "yref": "paper"
         },
         {
          "font": {},
          "showarrow": false,
          "text": "Region_General=Asia",
          "x": 0.8399999999999999,
          "xanchor": "center",
          "xref": "paper",
          "y": 1,
          "yanchor": "bottom",
          "yref": "paper"
         }
        ],
        "barmode": "relative",
        "height": 450,
        "legend": {
         "bordercolor": "Black",
         "borderwidth": 0.5,
         "title": {
          "text": "Legend"
         },
         "tracegroupgap": 0,
         "x": 1.02,
         "xanchor": "left",
         "y": 0.5,
         "yanchor": "middle"
        },
        "template": {
         "data": {
          "bar": [
           {
            "error_x": {
             "color": "#2a3f5f"
            },
            "error_y": {
             "color": "#2a3f5f"
            },
            "marker": {
             "line": {
              "color": "#E5ECF6",
              "width": 0.5
             },
             "pattern": {
              "fillmode": "overlay",
              "size": 10,
              "solidity": 0.2
             }
            },
            "type": "bar"
           }
          ],
          "barpolar": [
           {
            "marker": {
             "line": {
              "color": "#E5ECF6",
              "width": 0.5
             },
             "pattern": {
              "fillmode": "overlay",
              "size": 10,
              "solidity": 0.2
             }
            },
            "type": "barpolar"
           }
          ],
          "carpet": [
           {
            "aaxis": {
             "endlinecolor": "#2a3f5f",
             "gridcolor": "white",
             "linecolor": "white",
             "minorgridcolor": "white",
             "startlinecolor": "#2a3f5f"
            },
            "baxis": {
             "endlinecolor": "#2a3f5f",
             "gridcolor": "white",
             "linecolor": "white",
             "minorgridcolor": "white",
             "startlinecolor": "#2a3f5f"
            },
            "type": "carpet"
           }
          ],
          "choropleth": [
           {
            "colorbar": {
             "outlinewidth": 0,
             "ticks": ""
            },
            "type": "choropleth"
           }
          ],
          "contour": [
           {
            "colorbar": {
             "outlinewidth": 0,
             "ticks": ""
            },
            "colorscale": [
             [
              0,
              "#0d0887"
             ],
             [
              0.1111111111111111,
              "#46039f"
             ],
             [
              0.2222222222222222,
              "#7201a8"
             ],
             [
              0.3333333333333333,
              "#9c179e"
             ],
             [
              0.4444444444444444,
              "#bd3786"
             ],
             [
              0.5555555555555556,
              "#d8576b"
             ],
             [
              0.6666666666666666,
              "#ed7953"
             ],
             [
              0.7777777777777778,
              "#fb9f3a"
             ],
             [
              0.8888888888888888,
              "#fdca26"
             ],
             [
              1,
              "#f0f921"
             ]
            ],
            "type": "contour"
           }
          ],
          "contourcarpet": [
           {
            "colorbar": {
             "outlinewidth": 0,
             "ticks": ""
            },
            "type": "contourcarpet"
           }
          ],
          "heatmap": [
           {
            "colorbar": {
             "outlinewidth": 0,
             "ticks": ""
            },
            "colorscale": [
             [
              0,
              "#0d0887"
             ],
             [
              0.1111111111111111,
              "#46039f"
             ],
             [
              0.2222222222222222,
              "#7201a8"
             ],
             [
              0.3333333333333333,
              "#9c179e"
             ],
             [
              0.4444444444444444,
              "#bd3786"
             ],
             [
              0.5555555555555556,
              "#d8576b"
             ],
             [
              0.6666666666666666,
              "#ed7953"
             ],
             [
              0.7777777777777778,
              "#fb9f3a"
             ],
             [
              0.8888888888888888,
              "#fdca26"
             ],
             [
              1,
              "#f0f921"
             ]
            ],
            "type": "heatmap"
           }
          ],
          "heatmapgl": [
           {
            "colorbar": {
             "outlinewidth": 0,
             "ticks": ""
            },
            "colorscale": [
             [
              0,
              "#0d0887"
             ],
             [
              0.1111111111111111,
              "#46039f"
             ],
             [
              0.2222222222222222,
              "#7201a8"
             ],
             [
              0.3333333333333333,
              "#9c179e"
             ],
             [
              0.4444444444444444,
              "#bd3786"
             ],
             [
              0.5555555555555556,
              "#d8576b"
             ],
             [
              0.6666666666666666,
              "#ed7953"
             ],
             [
              0.7777777777777778,
              "#fb9f3a"
             ],
             [
              0.8888888888888888,
              "#fdca26"
             ],
             [
              1,
              "#f0f921"
             ]
            ],
            "type": "heatmapgl"
           }
          ],
          "histogram": [
           {
            "marker": {
             "pattern": {
              "fillmode": "overlay",
              "size": 10,
              "solidity": 0.2
             }
            },
            "type": "histogram"
           }
          ],
          "histogram2d": [
           {
            "colorbar": {
             "outlinewidth": 0,
             "ticks": ""
            },
            "colorscale": [
             [
              0,
              "#0d0887"
             ],
             [
              0.1111111111111111,
              "#46039f"
             ],
             [
              0.2222222222222222,
              "#7201a8"
             ],
             [
              0.3333333333333333,
              "#9c179e"
             ],
             [
              0.4444444444444444,
              "#bd3786"
             ],
             [
              0.5555555555555556,
              "#d8576b"
             ],
             [
              0.6666666666666666,
              "#ed7953"
             ],
             [
              0.7777777777777778,
              "#fb9f3a"
             ],
             [
              0.8888888888888888,
              "#fdca26"
             ],
             [
              1,
              "#f0f921"
             ]
            ],
            "type": "histogram2d"
           }
          ],
          "histogram2dcontour": [
           {
            "colorbar": {
             "outlinewidth": 0,
             "ticks": ""
            },
            "colorscale": [
             [
              0,
              "#0d0887"
             ],
             [
              0.1111111111111111,
              "#46039f"
             ],
             [
              0.2222222222222222,
              "#7201a8"
             ],
             [
              0.3333333333333333,
              "#9c179e"
             ],
             [
              0.4444444444444444,
              "#bd3786"
             ],
             [
              0.5555555555555556,
              "#d8576b"
             ],
             [
              0.6666666666666666,
              "#ed7953"
             ],
             [
              0.7777777777777778,
              "#fb9f3a"
             ],
             [
              0.8888888888888888,
              "#fdca26"
             ],
             [
              1,
              "#f0f921"
             ]
            ],
            "type": "histogram2dcontour"
           }
          ],
          "mesh3d": [
           {
            "colorbar": {
             "outlinewidth": 0,
             "ticks": ""
            },
            "type": "mesh3d"
           }
          ],
          "parcoords": [
           {
            "line": {
             "colorbar": {
              "outlinewidth": 0,
              "ticks": ""
             }
            },
            "type": "parcoords"
           }
          ],
          "pie": [
           {
            "automargin": true,
            "type": "pie"
           }
          ],
          "scatter": [
           {
            "fillpattern": {
             "fillmode": "overlay",
             "size": 10,
             "solidity": 0.2
            },
            "type": "scatter"
           }
          ],
          "scatter3d": [
           {
            "line": {
             "colorbar": {
              "outlinewidth": 0,
              "ticks": ""
             }
            },
            "marker": {
             "colorbar": {
              "outlinewidth": 0,
              "ticks": ""
             }
            },
            "type": "scatter3d"
           }
          ],
          "scattercarpet": [
           {
            "marker": {
             "colorbar": {
              "outlinewidth": 0,
              "ticks": ""
             }
            },
            "type": "scattercarpet"
           }
          ],
          "scattergeo": [
           {
            "marker": {
             "colorbar": {
              "outlinewidth": 0,
              "ticks": ""
             }
            },
            "type": "scattergeo"
           }
          ],
          "scattergl": [
           {
            "marker": {
             "colorbar": {
              "outlinewidth": 0,
              "ticks": ""
             }
            },
            "type": "scattergl"
           }
          ],
          "scattermapbox": [
           {
            "marker": {
             "colorbar": {
              "outlinewidth": 0,
              "ticks": ""
             }
            },
            "type": "scattermapbox"
           }
          ],
          "scatterpolar": [
           {
            "marker": {
             "colorbar": {
              "outlinewidth": 0,
              "ticks": ""
             }
            },
            "type": "scatterpolar"
           }
          ],
          "scatterpolargl": [
           {
            "marker": {
             "colorbar": {
              "outlinewidth": 0,
              "ticks": ""
             }
            },
            "type": "scatterpolargl"
           }
          ],
          "scatterternary": [
           {
            "marker": {
             "colorbar": {
              "outlinewidth": 0,
              "ticks": ""
             }
            },
            "type": "scatterternary"
           }
          ],
          "surface": [
           {
            "colorbar": {
             "outlinewidth": 0,
             "ticks": ""
            },
            "colorscale": [
             [
              0,
              "#0d0887"
             ],
             [
              0.1111111111111111,
              "#46039f"
             ],
             [
              0.2222222222222222,
              "#7201a8"
             ],
             [
              0.3333333333333333,
              "#9c179e"
             ],
             [
              0.4444444444444444,
              "#bd3786"
             ],
             [
              0.5555555555555556,
              "#d8576b"
             ],
             [
              0.6666666666666666,
              "#ed7953"
             ],
             [
              0.7777777777777778,
              "#fb9f3a"
             ],
             [
              0.8888888888888888,
              "#fdca26"
             ],
             [
              1,
              "#f0f921"
             ]
            ],
            "type": "surface"
           }
          ],
          "table": [
           {
            "cells": {
             "fill": {
              "color": "#EBF0F8"
             },
             "line": {
              "color": "white"
             }
            },
            "header": {
             "fill": {
              "color": "#C8D4E3"
             },
             "line": {
              "color": "white"
             }
            },
            "type": "table"
           }
          ]
         },
         "layout": {
          "annotationdefaults": {
           "arrowcolor": "#2a3f5f",
           "arrowhead": 0,
           "arrowwidth": 1
          },
          "autotypenumbers": "strict",
          "coloraxis": {
           "colorbar": {
            "outlinewidth": 0,
            "ticks": ""
           }
          },
          "colorscale": {
           "diverging": [
            [
             0,
             "#8e0152"
            ],
            [
             0.1,
             "#c51b7d"
            ],
            [
             0.2,
             "#de77ae"
            ],
            [
             0.3,
             "#f1b6da"
            ],
            [
             0.4,
             "#fde0ef"
            ],
            [
             0.5,
             "#f7f7f7"
            ],
            [
             0.6,
             "#e6f5d0"
            ],
            [
             0.7,
             "#b8e186"
            ],
            [
             0.8,
             "#7fbc41"
            ],
            [
             0.9,
             "#4d9221"
            ],
            [
             1,
             "#276419"
            ]
           ],
           "sequential": [
            [
             0,
             "#0d0887"
            ],
            [
             0.1111111111111111,
             "#46039f"
            ],
            [
             0.2222222222222222,
             "#7201a8"
            ],
            [
             0.3333333333333333,
             "#9c179e"
            ],
            [
             0.4444444444444444,
             "#bd3786"
            ],
            [
             0.5555555555555556,
             "#d8576b"
            ],
            [
             0.6666666666666666,
             "#ed7953"
            ],
            [
             0.7777777777777778,
             "#fb9f3a"
            ],
            [
             0.8888888888888888,
             "#fdca26"
            ],
            [
             1,
             "#f0f921"
            ]
           ],
           "sequentialminus": [
            [
             0,
             "#0d0887"
            ],
            [
             0.1111111111111111,
             "#46039f"
            ],
            [
             0.2222222222222222,
             "#7201a8"
            ],
            [
             0.3333333333333333,
             "#9c179e"
            ],
            [
             0.4444444444444444,
             "#bd3786"
            ],
            [
             0.5555555555555556,
             "#d8576b"
            ],
            [
             0.6666666666666666,
             "#ed7953"
            ],
            [
             0.7777777777777778,
             "#fb9f3a"
            ],
            [
             0.8888888888888888,
             "#fdca26"
            ],
            [
             1,
             "#f0f921"
            ]
           ]
          },
          "colorway": [
           "#636efa",
           "#EF553B",
           "#00cc96",
           "#ab63fa",
           "#FFA15A",
           "#19d3f3",
           "#FF6692",
           "#B6E880",
           "#FF97FF",
           "#FECB52"
          ],
          "font": {
           "color": "#2a3f5f"
          },
          "geo": {
           "bgcolor": "white",
           "lakecolor": "white",
           "landcolor": "#E5ECF6",
           "showlakes": true,
           "showland": true,
           "subunitcolor": "white"
          },
          "hoverlabel": {
           "align": "left"
          },
          "hovermode": "closest",
          "mapbox": {
           "style": "light"
          },
          "paper_bgcolor": "white",
          "plot_bgcolor": "#E5ECF6",
          "polar": {
           "angularaxis": {
            "gridcolor": "white",
            "linecolor": "white",
            "ticks": ""
           },
           "bgcolor": "#E5ECF6",
           "radialaxis": {
            "gridcolor": "white",
            "linecolor": "white",
            "ticks": ""
           }
          },
          "scene": {
           "xaxis": {
            "backgroundcolor": "#E5ECF6",
            "gridcolor": "white",
            "gridwidth": 2,
            "linecolor": "white",
            "showbackground": true,
            "ticks": "",
            "zerolinecolor": "white"
           },
           "yaxis": {
            "backgroundcolor": "#E5ECF6",
            "gridcolor": "white",
            "gridwidth": 2,
            "linecolor": "white",
            "showbackground": true,
            "ticks": "",
            "zerolinecolor": "white"
           },
           "zaxis": {
            "backgroundcolor": "#E5ECF6",
            "gridcolor": "white",
            "gridwidth": 2,
            "linecolor": "white",
            "showbackground": true,
            "ticks": "",
            "zerolinecolor": "white"
           }
          },
          "shapedefaults": {
           "line": {
            "color": "#2a3f5f"
           }
          },
          "ternary": {
           "aaxis": {
            "gridcolor": "white",
            "linecolor": "white",
            "ticks": ""
           },
           "baxis": {
            "gridcolor": "white",
            "linecolor": "white",
            "ticks": ""
           },
           "bgcolor": "#E5ECF6",
           "caxis": {
            "gridcolor": "white",
            "linecolor": "white",
            "ticks": ""
           }
          },
          "title": {
           "x": 0.05
          },
          "xaxis": {
           "automargin": true,
           "gridcolor": "white",
           "linecolor": "white",
           "ticks": "",
           "title": {
            "standoff": 15
           },
           "zerolinecolor": "white",
           "zerolinewidth": 2
          },
          "yaxis": {
           "automargin": true,
           "gridcolor": "white",
           "linecolor": "white",
           "ticks": "",
           "title": {
            "standoff": 15
           },
           "zerolinecolor": "white",
           "zerolinewidth": 2
          }
         }
        },
        "title": {
         "font": {
          "family": "Arial",
          "size": 20
         },
         "text": "Country Ratings by Region",
         "x": 0.5,
         "xanchor": "center",
         "y": 0.95,
         "yanchor": "top"
        },
        "width": 1000,
        "xaxis": {
         "anchor": "y",
         "domain": [
          0,
          0.31999999999999995
         ],
         "title": {
          "text": "Rating Value"
         }
        },
        "xaxis2": {
         "anchor": "y2",
         "domain": [
          0.33999999999999997,
          0.6599999999999999
         ],
         "matches": "x",
         "title": {
          "text": "Rating Value"
         }
        },
        "xaxis3": {
         "anchor": "y3",
         "domain": [
          0.6799999999999999,
          0.9999999999999999
         ],
         "matches": "x",
         "title": {
          "text": "Rating Value"
         }
        },
        "yaxis": {
         "anchor": "x",
         "domain": [
          0,
          1
         ],
         "title": {
          "text": "Countries"
         }
        },
        "yaxis2": {
         "anchor": "x2",
         "domain": [
          0,
          1
         ],
         "matches": "y",
         "showticklabels": false
        },
        "yaxis3": {
         "anchor": "x3",
         "domain": [
          0,
          1
         ],
         "matches": "y",
         "showticklabels": false
        }
       }
      }
     },
     "metadata": {},
     "output_type": "display_data"
    }
   ],
   "source": [
    "import numpy as np \n",
    "\n",
    "#melt the data \n",
    "trav_melted = trav.melt(\n",
    "    id_vars=['Region_General', 'Countries'],\n",
    "    value_vars=['Safety', 'Hospitality', 'History', 'Nature'],\n",
    "    var_name='Rating Type',\n",
    "    value_name='Rating Value'\n",
    ")\n",
    "\n",
    "fig = px.bar (\n",
    "    trav_melted, \n",
    "    x='Rating Value',\n",
    "    y='Countries', \n",
    "    color='Rating Type',\n",
    "    facet_col ='Region_General',\n",
    "    title='Country Ratings by Region',\n",
    "    orientation='h',\n",
    "    text='Rating Value'\n",
    ")\n",
    "\n",
    "fig.update_layout(\n",
    "    legend=dict(\n",
    "        x=1.02,  # Position to the right of the chart\n",
    "        y=0.5,   # Center vertically\n",
    "        xanchor='left',  # Anchor to the left side of the legend\n",
    "        yanchor='middle',  # Anchor to the middle of the legend\n",
    "        title='Legend',  # Optional: Title for the legend\n",
    "        bordercolor='Black',\n",
    "        borderwidth=0.5,\n",
    "    ),\n",
    "    title={\n",
    "        'text': 'Country Ratings by Region',\n",
    "        'x': 0.5,\n",
    "        'xanchor': 'center',\n",
    "        'yanchor': 'top',\n",
    "        'y': 0.95\n",
    "    },\n",
    "    title_font={\n",
    "        'size': 20,\n",
    "        # 'color': 'blue',\n",
    "        'family': 'Arial'   \n",
    "    },\n",
    "    height=450,\n",
    "    width=1000\n",
    ")\n",
    "\n",
    "# fig.write_html(\"ratings_region.html\")\n",
    "\n",
    "fig.show()"
   ]
  },
  {
   "cell_type": "code",
   "execution_count": null,
   "metadata": {},
   "outputs": [],
   "source": []
  }
 ],
 "metadata": {
  "kernelspec": {
   "display_name": "Python (Anaconda)",
   "language": "python",
   "name": "anaconda"
  },
  "language_info": {
   "codemirror_mode": {
    "name": "ipython",
    "version": 3
   },
   "file_extension": ".py",
   "mimetype": "text/x-python",
   "name": "python",
   "nbconvert_exporter": "python",
   "pygments_lexer": "ipython3",
   "version": "3.12.3"
  }
 },
 "nbformat": 4,
 "nbformat_minor": 2
}
